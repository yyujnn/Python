{
 "cells": [
  {
   "cell_type": "code",
   "execution_count": 2,
   "id": "fdd76b25",
   "metadata": {
    "ExecuteTime": {
     "end_time": "2023-03-24T01:08:59.860407Z",
     "start_time": "2023-03-24T01:08:59.768483Z"
    }
   },
   "outputs": [],
   "source": [
    "# 라이브러리 로딩\n",
    "import requests as req\n",
    "from bs4 import BeautifulSoup as bs"
   ]
  },
  {
   "cell_type": "code",
   "execution_count": 6,
   "id": "2510c65c",
   "metadata": {
    "ExecuteTime": {
     "end_time": "2023-03-24T01:12:03.884231Z",
     "start_time": "2023-03-24T01:12:03.816815Z"
    }
   },
   "outputs": [
    {
     "data": {
      "text/plain": [
       "<Response [406]>"
      ]
     },
     "execution_count": 6,
     "metadata": {},
     "output_type": "execute_result"
    }
   ],
   "source": [
    "# 멜론 차트 페이지 정보 받아오기\n",
    "url = 'https://www.melon.com/chart/'\n",
    "req.get(url)\n",
    "\n",
    "# 400번대 오류 : 클라이언트의 요청 문제\n",
    "# 멜론에서 브라우저가 아닌 코드로 페이지를 접근함을 인지하여 접근 불가능 !!"
   ]
  },
  {
   "cell_type": "markdown",
   "id": "303994c0",
   "metadata": {},
   "source": [
    "### 멜론 페이지에 브라우저인 척 속여서 접근하기\n",
    "- 개발자 도구에서 'Network' 탭 클릭\n",
    "    - 이미 정보를 주고받은 뒤 통신이 끊겼기 때문에 탭 클릭하였다 하더라도 빈 페이지 상태\n",
    "    - 새로고침을 해서 주고 받은 데이터들을 다시 불러주어야 함\n",
    "    - 데이터 중에서 Type이 document인 문서를 클릭 !\n",
    "- 브라우저로 접근을 했다는 것을 알려주는 코드가 있다 -> User-Agent\n",
    "    - Chrome, Safari 등 접근이 가능한 정보가 담겨있다.\n",
    "    - 코드를 통해 접근했기 때문에 접근 가능한 정보가 들어가지 않는 것\n",
    "    - User-Agent 전체 코드를 복사해서 코드로 가져오기"
   ]
  },
  {
   "cell_type": "code",
   "execution_count": 8,
   "id": "920e8fbe",
   "metadata": {
    "ExecuteTime": {
     "end_time": "2023-03-24T01:31:48.639200Z",
     "start_time": "2023-03-24T01:31:48.625898Z"
    }
   },
   "outputs": [],
   "source": [
    "# 가져온 코드가 어떤 타입인지 알 수 없다. 문자열도 아니고.. 리스트도 아니고..\n",
    "# 파이썬에서 가져온 코드이기 때문에 알맞는 타입으로 변경 해줘야 함!\n",
    "# 콜론 발견 - Key와 Value를 가지는 딕셔너리가 알맞겠다\n",
    "\n",
    "h = {'User-Agent': 'Mozilla/5.0 (Windows NT 10.0; Win64; x64) AppleWebKit/537.36 (KHTML, like Gecko) Chrome/111.0.0.0 Safari/537.36'}"
   ]
  },
  {
   "cell_type": "markdown",
   "id": "23ea6459",
   "metadata": {},
   "source": [
    "### headers 작업\n",
    "- 컴퓨터(코드)가 아닌 사람(브라우저)으로 속여주는 작업\n",
    "- 요청할 때 headers 값을 같이 채워서 요청 해주어야 한다.\n",
    "    - req.get(url, headers = 헤더정보)"
   ]
  },
  {
   "cell_type": "code",
   "execution_count": 10,
   "id": "3479b5dc",
   "metadata": {
    "ExecuteTime": {
     "end_time": "2023-03-24T01:36:24.390652Z",
     "start_time": "2023-03-24T01:36:24.250038Z"
    }
   },
   "outputs": [
    {
     "data": {
      "text/plain": [
       "<Response [200]>"
      ]
     },
     "execution_count": 10,
     "metadata": {},
     "output_type": "execute_result"
    }
   ],
   "source": [
    "url = 'https://www.melon.com/chart/'\n",
    "h = {'User-Agent': 'Mozilla/5.0 (Windows NT 10.0; Win64; x64) AppleWebKit/537.36 (KHTML, like Gecko) Chrome/111.0.0.0 Safari/537.36'}\n",
    "res = req.get(url, headers = h)\n",
    "res"
   ]
  },
  {
   "cell_type": "code",
   "execution_count": 14,
   "id": "a931e1de",
   "metadata": {
    "ExecuteTime": {
     "end_time": "2023-03-24T01:37:38.347742Z",
     "start_time": "2023-03-24T01:37:38.113837Z"
    }
   },
   "outputs": [],
   "source": [
    "# bs 객체화\n",
    "soup = bs(res.text,'lxml')"
   ]
  },
  {
   "cell_type": "markdown",
   "id": "c19a691d",
   "metadata": {},
   "source": [
    "### 멜론차트 데이터 수집\n",
    "- 노래 제목\n",
    "- 가수 이름"
   ]
  },
  {
   "cell_type": "code",
   "execution_count": 32,
   "id": "4d61acef",
   "metadata": {
    "ExecuteTime": {
     "end_time": "2023-03-24T01:48:10.016045Z",
     "start_time": "2023-03-24T01:48:09.963433Z"
    }
   },
   "outputs": [],
   "source": [
    "# 1. 노래 제목 수집\n",
    "# 내가 수집하고자 하는 태그에 구분자(id, class)가 없었다.\n",
    "# 그 요소를 포함하고 있는 부모 태그를 타고타고 올라가서 가져와야 함(한칸씩!)\n",
    "title = soup.select('div.ellipsis.rank01>span>a')"
   ]
  },
  {
   "cell_type": "code",
   "execution_count": 33,
   "id": "8c00babf",
   "metadata": {
    "ExecuteTime": {
     "end_time": "2023-03-24T01:48:13.141411Z",
     "start_time": "2023-03-24T01:48:13.130436Z"
    }
   },
   "outputs": [
    {
     "data": {
      "text/plain": [
       "100"
      ]
     },
     "execution_count": 33,
     "metadata": {},
     "output_type": "execute_result"
    }
   ],
   "source": [
    "len(title)\n",
    "\n",
    "# 주의@@@\n",
    "# 하나의 클래스 이름 안에 띄어쓰기가 있는 경우\n",
    "# 클래스가 두 개인 경우 -> 띄어쓰기(자손 부등호)를 온점(클래스 부등호)으로 변경"
   ]
  },
  {
   "cell_type": "code",
   "execution_count": 34,
   "id": "f3f01b12",
   "metadata": {
    "ExecuteTime": {
     "end_time": "2023-03-24T01:48:57.692710Z",
     "start_time": "2023-03-24T01:48:57.682727Z"
    },
    "collapsed": true
   },
   "outputs": [
    {
     "name": "stdout",
     "output_type": "stream",
     "text": [
      "Ditto\n",
      "OMG\n",
      "Hype boy\n",
      "사랑하기 싫어\n",
      "Teddy Bear\n",
      "사건의 지평선\n",
      "사랑은 늘 도망가\n",
      "파이팅 해야지 (Feat. 이영지)\n",
      "심(心)\n",
      "우리들의 블루스\n",
      "I Don't Think That I Like Her\n",
      "CHRISTIAN\n",
      "VIBE (feat. Jimin of BTS)\n",
      "나비무덤\n",
      "다시 만날 수 있을까\n",
      "London Boy\n",
      "Polaroid\n",
      "Attention\n",
      "무지개\n",
      "Nostalgia\n",
      "이제 나만 믿어요\n",
      "아버지\n",
      "on the street (with J. Cole)\n",
      "ANTIFRAGILE\n",
      "A bientot\n",
      "인생찬가\n",
      "After LIKE\n",
      "손이 참 곱던 그대\n",
      "사랑해 진짜\n",
      "연애편지\n",
      "Set Me Free Pt.2\n",
      "보금자리\n",
      "LOVE DIVE\n",
      "사랑인가 봐\n",
      "NIGHT DANCER\n",
      "건물 사이에 피어난 장미 (Rose Blossom)\n",
      "Candy\n",
      "Dynamite\n",
      "Dangerously\n",
      "너와 함께\n",
      "봄날\n",
      "Rush Hour (Feat. j-hope of BTS)\n",
      "너의 모든 순간\n",
      "결국엔 너에게 닿아서\n",
      "혼자가 아닌 나\n",
      "Nxde\n",
      "Butter\n",
      "Monologue\n",
      "사랑이라 믿었던 것들은 (Feat. 이수현)\n",
      "Dreamers [Music from the FIFA World Cup Qatar 2022 Official Soundtrack] (Feat. FIFA Sound)\n",
      "That's Hilarious\n",
      "Say I Love You\n",
      "너를 보는게 지친 하루에\n",
      "해요 (2022)\n",
      "새삥 (Prod. ZICO) (Feat. 호미들)\n",
      "취중고백\n",
      "Cookie\n",
      "Unholy\n",
      "Permission to Dance\n",
      "Shut Down\n",
      "Sugar Rush Ride\n",
      "Expectations\n",
      "STAY\n",
      "그중에 그대를 만나\n",
      "That That (prod. & feat. SUGA of BTS)\n",
      "내가 아니라도\n",
      "그때 그 순간 그대로 (그그그)\n",
      "TOMBOY\n",
      "Poppy (Korean Ver.)\n",
      "당신을 만나\n",
      "Pink Venom\n",
      "그라데이션\n",
      "FEARLESS\n",
      "다정히 내 이름을 부르면\n",
      "NOT SORRY (Feat. pH-1) (Prod. by Slom)\n",
      "Left and Right (Feat. Jung Kook of BTS)\n",
      "아모르 파티\n",
      "되돌리다\n",
      "정이라고 하자 (Feat. 10CM)\n",
      "오르트구름\n",
      "그대라는 사치\n",
      "나의 목소리로\n",
      "마지막 사랑\n",
      "그대를 알고\n",
      "Yet To Come\n",
      "모든 날, 모든 순간 (Every day, Every Moment)\n",
      "ELEVEN\n",
      "그댄 행복에 살텐데 (2022)\n",
      "잘가요\n",
      "네가 보고 싶은 건 자연스러운 거겠지\n",
      "나의 X에게\n",
      "딱 10CM만\n",
      "Off My Face\n",
      "Love Me Like This\n",
      "이젠 안녕\n",
      "LOVE me\n",
      "자격지심 (Feat. ZICO)\n",
      "밤하늘의 별을(2020)\n",
      "인생은 뷰티풀\n",
      "봄여름가을겨울 (Still Life)\n"
     ]
    }
   ],
   "source": [
    "for i in range(len(title)):\n",
    "    print(title[i].text)"
   ]
  },
  {
   "cell_type": "code",
   "execution_count": 69,
   "id": "aceb04f4",
   "metadata": {
    "ExecuteTime": {
     "end_time": "2023-03-24T02:33:50.291095Z",
     "start_time": "2023-03-24T02:33:50.229089Z"
    }
   },
   "outputs": [
    {
     "data": {
      "text/plain": [
       "100"
      ]
     },
     "execution_count": 69,
     "metadata": {},
     "output_type": "execute_result"
    }
   ],
   "source": [
    "# 2. 가수 이름 수집\n",
    "singer = soup.select('div.ellipsis.rank02>span')\n",
    "len(singer)"
   ]
  },
  {
   "cell_type": "code",
   "execution_count": 66,
   "id": "166b8346",
   "metadata": {
    "ExecuteTime": {
     "end_time": "2023-03-24T02:29:33.137021Z",
     "start_time": "2023-03-24T02:29:33.116444Z"
    }
   },
   "outputs": [
    {
     "data": {
      "text/plain": [
       "'j-hope, J. Cole'"
      ]
     },
     "execution_count": 66,
     "metadata": {},
     "output_type": "execute_result"
    }
   ],
   "source": [
    "singer[22].text"
   ]
  },
  {
   "cell_type": "code",
   "execution_count": 67,
   "id": "b70905c6",
   "metadata": {
    "ExecuteTime": {
     "end_time": "2023-03-24T02:29:34.684010Z",
     "start_time": "2023-03-24T02:29:34.670047Z"
    },
    "collapsed": true
   },
   "outputs": [
    {
     "name": "stdout",
     "output_type": "stream",
     "text": [
      "NewJeans\n",
      "NewJeans\n",
      "NewJeans\n",
      "지아\n",
      "STAYC(스테이씨)\n",
      "윤하 (YOUNHA)\n",
      "임영웅\n",
      "부석순 (SEVENTEEN)\n",
      "DK(디셈버)\n",
      "임영웅\n",
      "Charlie Puth\n",
      "Zior Park\n",
      "태양\n",
      "포맨 (4MEN)\n",
      "임영웅\n",
      "임영웅\n",
      "임영웅\n",
      "NewJeans\n",
      "임영웅\n",
      "우디 (Woody)\n",
      "임영웅\n",
      "임영웅\n",
      "j-hope, J. Cole\n",
      "LE SSERAFIM (르세라핌)\n",
      "임영웅\n",
      "임영웅\n",
      "IVE (아이브)\n",
      "임영웅\n",
      "임영웅\n",
      "임영웅\n",
      "지민\n",
      "임영웅\n",
      "IVE (아이브)\n",
      "멜로망스\n",
      "imase\n",
      "H1-KEY (하이키)\n",
      "NCT DREAM\n",
      "방탄소년단\n",
      "Charlie Puth\n",
      "김민석 (멜로망스)\n",
      "방탄소년단\n",
      "Crush\n",
      "성시경\n",
      "WSG워너비 (가야G)\n",
      "정효빈\n",
      "(여자)아이들\n",
      "방탄소년단\n",
      "테이\n",
      "BIG Naughty (서동현)\n",
      "정국, 방탄소년단\n",
      "Charlie Puth\n",
      "우디 (Woody)\n",
      "송하예\n",
      "#안녕\n",
      "지코 (ZICO)\n",
      "김민석 (멜로망스)\n",
      "NewJeans\n",
      "Sam Smith, Kim Petras\n",
      "방탄소년단\n",
      "BLACKPINK\n",
      "투모로우바이투게더\n",
      "Anne-Marie, 민니 ((여자)아이들), (여자)아이들\n",
      "The Kid LAROI, Justin Bieber\n",
      "김호중\n",
      "싸이 (PSY)\n",
      "주호\n",
      "WSG워너비 (가야G)\n",
      "(여자)아이들\n",
      "STAYC(스테이씨)\n",
      "김호중, 송가인\n",
      "BLACKPINK\n",
      "10CM\n",
      "LE SSERAFIM (르세라핌)\n",
      "경서예지, 전건호\n",
      "이영지\n",
      "Charlie Puth, 정국, 방탄소년단\n",
      "이홍기 (FT아일랜드)\n",
      "먼데이 키즈 (Monday Kiz)\n",
      "BIG Naughty (서동현)\n",
      "윤하 (YOUNHA)\n",
      "임창정\n",
      "김호중\n",
      "신예영\n",
      "송하예\n",
      "방탄소년단\n",
      "폴킴\n",
      "IVE (아이브)\n",
      "최유리\n",
      "주호\n",
      "신예영\n",
      "경서\n",
      "10CM, BIG Naughty (서동현)\n",
      "Justin Bieber\n",
      "NMIXX\n",
      "투모로우바이투게더\n",
      "BE'O (비오)\n",
      "BE'O (비오)\n",
      "경서\n",
      "김호중\n",
      "BIGBANG (빅뱅)\n"
     ]
    }
   ],
   "source": [
    "for i in range(len(singer)):\n",
    "    print(singer[i].text)"
   ]
  },
  {
   "cell_type": "markdown",
   "id": "50c0bf71",
   "metadata": {},
   "source": [
    "### 개수가 정해져 있는 데이터를 수집할 때에는 반드시 개수가 맞는지 확인"
   ]
  },
  {
   "cell_type": "code",
   "execution_count": 77,
   "id": "4bb42f20",
   "metadata": {
    "ExecuteTime": {
     "end_time": "2023-03-24T02:40:36.575372Z",
     "start_time": "2023-03-24T02:40:36.549101Z"
    }
   },
   "outputs": [],
   "source": [
    "# 수집한 정보를 리스트로 저장\n",
    "titleList = []\n",
    "singerList = []\n",
    "for i in range(len(title)):\n",
    "    titleList.append(title[i].text)\n",
    "    singerList.append(singer[i].text)"
   ]
  },
  {
   "cell_type": "code",
   "execution_count": 78,
   "id": "c2f2ff8c",
   "metadata": {
    "ExecuteTime": {
     "end_time": "2023-03-24T02:40:42.760999Z",
     "start_time": "2023-03-24T02:40:42.749817Z"
    },
    "collapsed": true
   },
   "outputs": [
    {
     "data": {
      "text/plain": [
       "['Ditto',\n",
       " 'OMG',\n",
       " 'Hype boy',\n",
       " '사랑하기 싫어',\n",
       " 'Teddy Bear',\n",
       " '사건의 지평선',\n",
       " '사랑은 늘 도망가',\n",
       " '파이팅 해야지 (Feat. 이영지)',\n",
       " '심(心)',\n",
       " '우리들의 블루스',\n",
       " \"I Don't Think That I Like Her\",\n",
       " 'CHRISTIAN',\n",
       " 'VIBE (feat. Jimin of BTS)',\n",
       " '나비무덤',\n",
       " '다시 만날 수 있을까',\n",
       " 'London Boy',\n",
       " 'Polaroid',\n",
       " 'Attention',\n",
       " '무지개',\n",
       " 'Nostalgia',\n",
       " '이제 나만 믿어요',\n",
       " '아버지',\n",
       " 'on the street (with J. Cole)',\n",
       " 'ANTIFRAGILE',\n",
       " 'A bientot',\n",
       " '인생찬가',\n",
       " 'After LIKE',\n",
       " '손이 참 곱던 그대',\n",
       " '사랑해 진짜',\n",
       " '연애편지',\n",
       " 'Set Me Free Pt.2',\n",
       " '보금자리',\n",
       " 'LOVE DIVE',\n",
       " '사랑인가 봐',\n",
       " 'NIGHT DANCER',\n",
       " '건물 사이에 피어난 장미 (Rose Blossom)',\n",
       " 'Candy',\n",
       " 'Dynamite',\n",
       " 'Dangerously',\n",
       " '너와 함께',\n",
       " '봄날',\n",
       " 'Rush Hour (Feat. j-hope of BTS)',\n",
       " '너의 모든 순간',\n",
       " '결국엔 너에게 닿아서',\n",
       " '혼자가 아닌 나',\n",
       " 'Nxde',\n",
       " 'Butter',\n",
       " 'Monologue',\n",
       " '사랑이라 믿었던 것들은 (Feat. 이수현)',\n",
       " 'Dreamers [Music from the FIFA World Cup Qatar 2022 Official Soundtrack] (Feat. FIFA Sound)',\n",
       " \"That's Hilarious\",\n",
       " 'Say I Love You',\n",
       " '너를 보는게 지친 하루에',\n",
       " '해요 (2022)',\n",
       " '새삥 (Prod. ZICO) (Feat. 호미들)',\n",
       " '취중고백',\n",
       " 'Cookie',\n",
       " 'Unholy',\n",
       " 'Permission to Dance',\n",
       " 'Shut Down',\n",
       " 'Sugar Rush Ride',\n",
       " 'Expectations',\n",
       " 'STAY',\n",
       " '그중에 그대를 만나',\n",
       " 'That That (prod. & feat. SUGA of BTS)',\n",
       " '내가 아니라도',\n",
       " '그때 그 순간 그대로 (그그그)',\n",
       " 'TOMBOY',\n",
       " 'Poppy (Korean Ver.)',\n",
       " '당신을 만나',\n",
       " 'Pink Venom',\n",
       " '그라데이션',\n",
       " 'FEARLESS',\n",
       " '다정히 내 이름을 부르면',\n",
       " 'NOT SORRY (Feat. pH-1) (Prod. by Slom)',\n",
       " 'Left and Right (Feat. Jung Kook of BTS)',\n",
       " '아모르 파티',\n",
       " '되돌리다',\n",
       " '정이라고 하자 (Feat. 10CM)',\n",
       " '오르트구름',\n",
       " '그대라는 사치',\n",
       " '나의 목소리로',\n",
       " '마지막 사랑',\n",
       " '그대를 알고',\n",
       " 'Yet To Come',\n",
       " '모든 날, 모든 순간 (Every day, Every Moment)',\n",
       " 'ELEVEN',\n",
       " '그댄 행복에 살텐데 (2022)',\n",
       " '잘가요',\n",
       " '네가 보고 싶은 건 자연스러운 거겠지',\n",
       " '나의 X에게',\n",
       " '딱 10CM만',\n",
       " 'Off My Face',\n",
       " 'Love Me Like This',\n",
       " '이젠 안녕',\n",
       " 'LOVE me',\n",
       " '자격지심 (Feat. ZICO)',\n",
       " '밤하늘의 별을(2020)',\n",
       " '인생은 뷰티풀',\n",
       " '봄여름가을겨울 (Still Life)']"
      ]
     },
     "execution_count": 78,
     "metadata": {},
     "output_type": "execute_result"
    }
   ],
   "source": [
    "titleList"
   ]
  },
  {
   "cell_type": "code",
   "execution_count": 79,
   "id": "53632067",
   "metadata": {
    "ExecuteTime": {
     "end_time": "2023-03-24T02:40:59.858288Z",
     "start_time": "2023-03-24T02:40:59.828435Z"
    },
    "collapsed": true
   },
   "outputs": [
    {
     "data": {
      "text/plain": [
       "['NewJeans',\n",
       " 'NewJeans',\n",
       " 'NewJeans',\n",
       " '지아',\n",
       " 'STAYC(스테이씨)',\n",
       " '윤하 (YOUNHA)',\n",
       " '임영웅',\n",
       " '부석순 (SEVENTEEN)',\n",
       " 'DK(디셈버)',\n",
       " '임영웅',\n",
       " 'Charlie Puth',\n",
       " 'Zior Park',\n",
       " '태양',\n",
       " '포맨 (4MEN)',\n",
       " '임영웅',\n",
       " '임영웅',\n",
       " '임영웅',\n",
       " 'NewJeans',\n",
       " '임영웅',\n",
       " '우디 (Woody)',\n",
       " '임영웅',\n",
       " '임영웅',\n",
       " 'j-hope, J. Cole',\n",
       " 'LE SSERAFIM (르세라핌)',\n",
       " '임영웅',\n",
       " '임영웅',\n",
       " 'IVE (아이브)',\n",
       " '임영웅',\n",
       " '임영웅',\n",
       " '임영웅',\n",
       " '지민',\n",
       " '임영웅',\n",
       " 'IVE (아이브)',\n",
       " '멜로망스',\n",
       " 'imase',\n",
       " 'H1-KEY (하이키)',\n",
       " 'NCT DREAM',\n",
       " '방탄소년단',\n",
       " 'Charlie Puth',\n",
       " '김민석 (멜로망스)',\n",
       " '방탄소년단',\n",
       " 'Crush',\n",
       " '성시경',\n",
       " 'WSG워너비 (가야G)',\n",
       " '정효빈',\n",
       " '(여자)아이들',\n",
       " '방탄소년단',\n",
       " '테이',\n",
       " 'BIG Naughty (서동현)',\n",
       " '정국, 방탄소년단',\n",
       " 'Charlie Puth',\n",
       " '우디 (Woody)',\n",
       " '송하예',\n",
       " '#안녕',\n",
       " '지코 (ZICO)',\n",
       " '김민석 (멜로망스)',\n",
       " 'NewJeans',\n",
       " 'Sam Smith, Kim Petras',\n",
       " '방탄소년단',\n",
       " 'BLACKPINK',\n",
       " '투모로우바이투게더',\n",
       " 'Anne-Marie, 민니 ((여자)아이들), (여자)아이들',\n",
       " 'The Kid LAROI, Justin Bieber',\n",
       " '김호중',\n",
       " '싸이 (PSY)',\n",
       " '주호',\n",
       " 'WSG워너비 (가야G)',\n",
       " '(여자)아이들',\n",
       " 'STAYC(스테이씨)',\n",
       " '김호중, 송가인',\n",
       " 'BLACKPINK',\n",
       " '10CM',\n",
       " 'LE SSERAFIM (르세라핌)',\n",
       " '경서예지, 전건호',\n",
       " '이영지',\n",
       " 'Charlie Puth, 정국, 방탄소년단',\n",
       " '이홍기 (FT아일랜드)',\n",
       " '먼데이 키즈 (Monday Kiz)',\n",
       " 'BIG Naughty (서동현)',\n",
       " '윤하 (YOUNHA)',\n",
       " '임창정',\n",
       " '김호중',\n",
       " '신예영',\n",
       " '송하예',\n",
       " '방탄소년단',\n",
       " '폴킴',\n",
       " 'IVE (아이브)',\n",
       " '최유리',\n",
       " '주호',\n",
       " '신예영',\n",
       " '경서',\n",
       " '10CM, BIG Naughty (서동현)',\n",
       " 'Justin Bieber',\n",
       " 'NMIXX',\n",
       " '투모로우바이투게더',\n",
       " \"BE'O (비오)\",\n",
       " \"BE'O (비오)\",\n",
       " '경서',\n",
       " '김호중',\n",
       " 'BIGBANG (빅뱅)']"
      ]
     },
     "execution_count": 79,
     "metadata": {},
     "output_type": "execute_result"
    }
   ],
   "source": [
    "singerList"
   ]
  },
  {
   "cell_type": "code",
   "execution_count": 82,
   "id": "4ea053df",
   "metadata": {
    "ExecuteTime": {
     "end_time": "2023-03-24T02:43:31.153842Z",
     "start_time": "2023-03-24T02:43:31.124495Z"
    }
   },
   "outputs": [],
   "source": [
    "# for문 다른 방법\n",
    "# 2개 이상의 리스트에 접근할 때 아래와 같은 for문 구조는 불편하다 \n",
    "# -> 리스트별로 for문 해주어야함\n",
    "titleList2 = []\n",
    "\n",
    "# 이 for문의 i => title[i]의 의미\n",
    "for i in title : \n",
    "    titleList2.append(i.text)"
   ]
  },
  {
   "cell_type": "code",
   "execution_count": 84,
   "id": "750507f9",
   "metadata": {
    "ExecuteTime": {
     "end_time": "2023-03-24T02:44:17.582131Z",
     "start_time": "2023-03-24T02:44:17.565358Z"
    }
   },
   "outputs": [],
   "source": [
    "singerList2 = []\n",
    "for i in singer :\n",
    "    singerList2.append(i.text)"
   ]
  },
  {
   "cell_type": "code",
   "execution_count": 89,
   "id": "ea67388f",
   "metadata": {
    "ExecuteTime": {
     "end_time": "2023-03-24T02:46:57.004327Z",
     "start_time": "2023-03-24T02:46:56.997383Z"
    }
   },
   "outputs": [
    {
     "data": {
      "text/plain": [
       "(100, 100)"
      ]
     },
     "execution_count": 89,
     "metadata": {},
     "output_type": "execute_result"
    }
   ],
   "source": [
    "# 길이 확인 ! --> 데이터 프레임으로 만들기 위한 준비\n",
    "len(titleList), len(singerList) "
   ]
  },
  {
   "cell_type": "code",
   "execution_count": 103,
   "id": "e9587af0",
   "metadata": {
    "ExecuteTime": {
     "end_time": "2023-03-24T03:13:07.747326Z",
     "start_time": "2023-03-24T03:13:07.735268Z"
    }
   },
   "outputs": [],
   "source": [
    "# 1. 수집한 여러 개의 리스트를 하나의 딕셔너리로 생성\n",
    "# 2. 딕셔너리를 활용해서 데이터 프레임 생성\n",
    "# {노래제목 : 데이터, 가수 : 데이터}\n",
    "\n",
    "# pandas를 사용하기 위한 준비(라이브러리 로딩)\n",
    "import pandas as pd\n",
    "\n",
    "melon_dic = {'노래 제목':titleList,'가수':singerList}\n",
    "melon_df = pd.DataFrame(melon_dic)"
   ]
  },
  {
   "cell_type": "code",
   "execution_count": 110,
   "id": "5423bb25",
   "metadata": {
    "ExecuteTime": {
     "end_time": "2023-03-24T03:24:38.280257Z",
     "start_time": "2023-03-24T03:24:38.255632Z"
    }
   },
   "outputs": [],
   "source": [
    "# 데이터프레임명.to_csv() : 데이터프레임을 파일로 저장하기\n",
    "# to_csv(저장하고 싶은 파일명, 확장자)\n",
    "# 한글 저장할 때 인코딩 해주자!\n",
    "\n",
    "# 인코딩 방식 : euc-kr / utf-8 / cp949 \n",
    "# csv -> 구분기호 ,로 이루어짐\n",
    "# sep(seperate 구분자) : 하나의 기호만 사용 가능 \n",
    "\n",
    "melon_df.to_csv('멜론차트 TOP100.txt',encoding ='euc-kr', sep = '\\t')"
   ]
  },
  {
   "cell_type": "code",
   "execution_count": 111,
   "id": "7da25c19",
   "metadata": {
    "ExecuteTime": {
     "end_time": "2023-03-24T03:31:20.083977Z",
     "start_time": "2023-03-24T03:31:20.072685Z"
    }
   },
   "outputs": [],
   "source": [
    "# 경로 설정하기\n",
    "melon_df.to_csv('C:/Users/smhrd/Desktop/멜론차트.txt',encoding ='euc-kr')"
   ]
  },
  {
   "cell_type": "markdown",
   "id": "44a3c203",
   "metadata": {
    "ExecuteTime": {
     "end_time": "2023-03-24T03:31:20.083977Z",
     "start_time": "2023-03-24T03:31:20.072685Z"
    }
   },
   "source": [
    "### csv는 txt(메모장) 파일과 excel(엑셀) 파일 둘 다 지원한다.\n",
    "- 주의! 내가 저장하고 싶은 파일의 확장자를 정확히 적어주자  \n",
    "> csv 장점 : excel보다 용량이 작고, 지원되는 폭이 넓다.<br>\n",
    "> csv 단점 : excel에 비해 다양한 작업은 불가능하다.\n"
   ]
  }
 ],
 "metadata": {
  "kernelspec": {
   "display_name": "Python 3 (ipykernel)",
   "language": "python",
   "name": "python3"
  },
  "language_info": {
   "codemirror_mode": {
    "name": "ipython",
    "version": 3
   },
   "file_extension": ".py",
   "mimetype": "text/x-python",
   "name": "python",
   "nbconvert_exporter": "python",
   "pygments_lexer": "ipython3",
   "version": "3.9.13"
  },
  "toc": {
   "base_numbering": 1,
   "nav_menu": {},
   "number_sections": true,
   "sideBar": true,
   "skip_h1_title": false,
   "title_cell": "Table of Contents",
   "title_sidebar": "Contents",
   "toc_cell": false,
   "toc_position": {},
   "toc_section_display": true,
   "toc_window_display": false
  },
  "varInspector": {
   "cols": {
    "lenName": 16,
    "lenType": 16,
    "lenVar": 40
   },
   "kernels_config": {
    "python": {
     "delete_cmd_postfix": "",
     "delete_cmd_prefix": "del ",
     "library": "var_list.py",
     "varRefreshCmd": "print(var_dic_list())"
    },
    "r": {
     "delete_cmd_postfix": ") ",
     "delete_cmd_prefix": "rm(",
     "library": "var_list.r",
     "varRefreshCmd": "cat(var_dic_list()) "
    }
   },
   "types_to_exclude": [
    "module",
    "function",
    "builtin_function_or_method",
    "instance",
    "_Feature"
   ],
   "window_display": false
  }
 },
 "nbformat": 4,
 "nbformat_minor": 5
}
