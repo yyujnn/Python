{
 "cells": [
  {
   "cell_type": "markdown",
   "id": "81c7f0ba",
   "metadata": {},
   "source": [
    "### 사용자 입장에서 해야 할 step!  \n",
    "- G마켓 BEST 상품의 1위부터 10위까지의 데이터를 수집\n",
    "- 중요한 것! \n",
    "    - 첫 번째에 있는 상품을 클릭한 다음에 해당 상품의 이름과 가격 정보를 수집\n",
    "    - 뒤로 간 다음 두 번째에 있는 상품을 클릭, 수집 똑같은 말 반복 중\n",
    "    - while? for? 어떤 것이 적합? -> for문 / 10번 정해져 있음"
   ]
  },
  {
   "cell_type": "code",
   "execution_count": 1,
   "id": "84125e97",
   "metadata": {
    "ExecuteTime": {
     "end_time": "2023-03-28T03:15:59.935516Z",
     "start_time": "2023-03-28T03:15:59.922314Z"
    }
   },
   "outputs": [],
   "source": [
    "# 반복문에서 어려운 점\n",
    "for i in range(10):\n",
    "    pass"
   ]
  },
  {
   "cell_type": "code",
   "execution_count": 1,
   "id": "837400a6",
   "metadata": {
    "ExecuteTime": {
     "end_time": "2023-03-29T00:26:39.921649Z",
     "start_time": "2023-03-29T00:26:39.435387Z"
    }
   },
   "outputs": [],
   "source": [
    "# selenium 라이브러리 로딩\n",
    "\n",
    "# 브라우저 역할 - 컴퓨터용 브라우저\n",
    "from selenium import webdriver as wb\n",
    "# . 사용 : 데이터 접근 \n",
    "\n",
    "# 키보드 역할 (Keys K 대분자 !) - 컴퓨터용 키보드\n",
    "from selenium.webdriver.common.keys import Keys\n",
    "\n",
    "# 구분자 역할 () - 선택자를 구분\n",
    "from selenium.webdriver.common.by import By\n",
    "# --- 수집 ---\n",
    "\n",
    "# 수집한 이후 데이터프레임까지 만들어 볼 예정\n",
    "import pandas as pd\n",
    "\n",
    "# 지연시간 설정\n",
    "import time"
   ]
  },
  {
   "cell_type": "markdown",
   "id": "31cf7508",
   "metadata": {},
   "source": [
    "- req->bs와 selenium의 차이  \n",
    "자동화, 자동제어의 차이 \n"
   ]
  },
  {
   "cell_type": "code",
   "execution_count": 8,
   "id": "73e03299",
   "metadata": {
    "ExecuteTime": {
     "end_time": "2023-03-29T00:46:54.200967Z",
     "start_time": "2023-03-29T00:46:52.448296Z"
    }
   },
   "outputs": [],
   "source": [
    "driver = wb.Chrome()\n",
    "# driver 그저 변수 , wb 웹브라우저에서 크롬 열기! \n",
    "url = \"https://corners.gmarket.co.kr/bestsellers\"\n",
    "driver.get(url)"
   ]
  },
  {
   "cell_type": "markdown",
   "id": "ea02d1d2",
   "metadata": {},
   "source": [
    "#### 반복문을 시작하기 전 하나의 프로세스를 완벽하게 짜보기\n",
    "#### 잘 완성되면 반복문 안에 프로세스를 통째로 넣어주기\n",
    "1. 상품의 이미지를 클릭(화면 변경) \n",
    "> 사용자는 첫 번째 상품을 알 수 있지만 컴퓨터는 알 수 없다! <br>\n",
    "> 어떤 태그로 구성되어 있는지 검사해서 알려줘야 함  \n",
    "2. 상품의 이름과 가격을 수집\n",
    "3. 페이지 뒤로가기 (화면 변경)"
   ]
  },
  {
   "cell_type": "markdown",
   "id": "d8261eb5",
   "metadata": {},
   "source": [
    "- req~bs 객체화 -> select() vs selec_one() 자동제어와 거리가 멀다.  \n",
    "- selenium -> find_elements() 자동제어이다.  \n",
    "단수 : 리스트가 아니라 단 한 개만 나옴  \n",
    "! 만일 데이터가 여러개 있다면 해당 목록 중 가장 첫 번째에 있는 요소만 나옴 ex) 리스트[0]  \n",
    "복수 : 돌려주는 값이 [리스트] 형태임  \n",
    "! 만일 데이터가 한 개만 있다면 ?  \n",
    "[리스트에 감싸져서 한 개만 나온다]  -> 인덱싱이 무조건 필요하다!<br>\n",
    "why? 리스트는 연산이나 처리가 불가능"
   ]
  },
  {
   "cell_type": "code",
   "execution_count": 3,
   "id": "b319635b",
   "metadata": {
    "ExecuteTime": {
     "end_time": "2023-03-29T00:28:15.991782Z",
     "start_time": "2023-03-29T00:28:11.183072Z"
    }
   },
   "outputs": [],
   "source": [
    "# 1. 상품의 이미지를 클릭\n",
    "\n",
    "# 1-1. 이미지를 클릭하기 위해서 이미지 태그들을 알려줘야 함\n",
    "imgs = driver.find_elements(By.CLASS_NAME, \"lazy\")\n",
    "\n",
    "# 1-2. 이미지 클릭\n",
    "imgs[0].click()\n",
    "\n",
    "# 요청을 복수개로 했으니까 응답도 복수개이다 -> [리스트] "
   ]
  },
  {
   "cell_type": "code",
   "execution_count": 5,
   "id": "2ce9d488",
   "metadata": {
    "ExecuteTime": {
     "end_time": "2023-03-29T00:29:01.512221Z",
     "start_time": "2023-03-29T00:29:01.471330Z"
    }
   },
   "outputs": [
    {
     "data": {
      "text/plain": [
       "'휴튼미플린하코트출판사가 만든 과학레벨드리더스 /Science and Engineering Leveled Readers'"
      ]
     },
     "execution_count": 5,
     "metadata": {},
     "output_type": "execute_result"
    }
   ],
   "source": [
    "# 2-1. 상품명 수집\n",
    "\n",
    "# 조회하고자 하는 요소가 class를 가지고 있을 경우에는\n",
    "# 먼저! elements(복수)로 요청해본다.\n",
    "# 그 다음에 데이터가 한 개만 넘어온다면 element(단일)로 수정해서 활용하면 편하다!\n",
    "title = driver.find_element(By.CLASS_NAME, \"itemtit\")\n",
    "title.text\n",
    "# <여는태그>컨텐츠</닫는태그> : 요소 --> .text : 컨텐츠만 꺼내기 "
   ]
  },
  {
   "cell_type": "code",
   "execution_count": 4,
   "id": "eba002b8",
   "metadata": {
    "ExecuteTime": {
     "end_time": "2023-03-29T00:28:19.500739Z",
     "start_time": "2023-03-29T00:28:19.455081Z"
    }
   },
   "outputs": [
    {
     "data": {
      "text/plain": [
       "'168,800원'"
      ]
     },
     "execution_count": 4,
     "metadata": {},
     "output_type": "execute_result"
    }
   ],
   "source": [
    "# 2-2. 상품 가격 수집 \n",
    "# price 변수에 담아서 price.text 컨텐츠 추출\n",
    "\n",
    "price = driver.find_elements(By.CLASS_NAME,\"price_real\")\n",
    "price[0].text"
   ]
  },
  {
   "cell_type": "code",
   "execution_count": 30,
   "id": "a2aed9f0",
   "metadata": {
    "ExecuteTime": {
     "end_time": "2023-03-29T01:30:06.496524Z",
     "start_time": "2023-03-29T01:30:06.458456Z"
    }
   },
   "outputs": [],
   "source": [
    "# 페이지 뒤로 가기 -> driver =  wb.chrome()\n",
    "# html 요소 아닌 driver의 기능\n",
    "driver.back()"
   ]
  },
  {
   "cell_type": "code",
   "execution_count": 13,
   "id": "a1429cf9",
   "metadata": {
    "ExecuteTime": {
     "end_time": "2023-03-29T00:50:43.934522Z",
     "start_time": "2023-03-29T00:50:43.928505Z"
    }
   },
   "outputs": [],
   "source": [
    "import pandas as pd"
   ]
  },
  {
   "cell_type": "code",
   "execution_count": 21,
   "id": "7ff5e58b",
   "metadata": {
    "ExecuteTime": {
     "end_time": "2023-03-29T01:24:45.525937Z",
     "start_time": "2023-03-29T01:23:55.171172Z"
    }
   },
   "outputs": [],
   "source": [
    "# 1번부터 5번까지 데이터 수집\n",
    "\n",
    "# 1. 비어있는 리스트에 수집한 텍스트 정보를 저장(상품명, 가격)\n",
    "# 2. 데이터 프레임으로 생성\n",
    "# 3. 참고파일 -> 멜론차트, 영화리뷰 파일을 참고해서 완성해보자\n",
    "\n",
    "titleList = []\n",
    "priceList = []\n",
    "for i in range(10):\n",
    "    imgs = driver.find_elements(By.CLASS_NAME, \"lazy\")\n",
    "    imgs[i].click()\n",
    "    # 이미지를 클릭했을 때 (화면 변화/깜빡) 1초 쉬어주기\n",
    "    time.sleep(1)\n",
    "    \n",
    "    title = driver.find_element(By.CLASS_NAME, \"itemtit\")\n",
    "    titleList.append(title.text)\n",
    "    \n",
    "    price = driver.find_elements(By.CLASS_NAME,\"price_real\")\n",
    "    priceList.append(price[0].text)\n",
    "    \n",
    "    driver.back()\n",
    "    # 뒤로가기 실행 했을 때 (화면 변화/깜빡) 1초 쉬어주기\n",
    "    time.sleep(1)"
   ]
  },
  {
   "cell_type": "code",
   "execution_count": 22,
   "id": "c20167fb",
   "metadata": {
    "ExecuteTime": {
     "end_time": "2023-03-29T01:24:47.555811Z",
     "start_time": "2023-03-29T01:24:47.538459Z"
    }
   },
   "outputs": [
    {
     "data": {
      "text/html": [
       "<div>\n",
       "<style scoped>\n",
       "    .dataframe tbody tr th:only-of-type {\n",
       "        vertical-align: middle;\n",
       "    }\n",
       "\n",
       "    .dataframe tbody tr th {\n",
       "        vertical-align: top;\n",
       "    }\n",
       "\n",
       "    .dataframe thead th {\n",
       "        text-align: right;\n",
       "    }\n",
       "</style>\n",
       "<table border=\"1\" class=\"dataframe\">\n",
       "  <thead>\n",
       "    <tr style=\"text-align: right;\">\n",
       "      <th></th>\n",
       "      <th>상품명</th>\n",
       "      <th>상품가격</th>\n",
       "    </tr>\n",
       "  </thead>\n",
       "  <tbody>\n",
       "    <tr>\n",
       "      <th>0</th>\n",
       "      <td>휴튼미플린하코트출판사가 만든 과학레벨드리더스 /Science and Engineer...</td>\n",
       "      <td>168,800원</td>\n",
       "    </tr>\n",
       "    <tr>\n",
       "      <th>1</th>\n",
       "      <td>크로아상 크로플 생지 2250g (40~50개입) + 사과버터잼 100g 증정(쿠폰...</td>\n",
       "      <td>21,100원</td>\n",
       "    </tr>\n",
       "    <tr>\n",
       "      <th>2</th>\n",
       "      <td>(깨비농원) 고당도 천혜향 4.5kg 소과(28-36과)/20%+5% 쿠폰</td>\n",
       "      <td>30,900원</td>\n",
       "    </tr>\n",
       "    <tr>\n",
       "      <th>3</th>\n",
       "      <td>훈제오리 슬라이스 800g + 800g</td>\n",
       "      <td>23,600원</td>\n",
       "    </tr>\n",
       "    <tr>\n",
       "      <th>4</th>\n",
       "      <td>고창 김민상님의 황토밭 햇 꿀밤고구마 5kg 특상 / 쿠폰가 12680 (3/29 하루)</td>\n",
       "      <td>16,900원</td>\n",
       "    </tr>\n",
       "    <tr>\n",
       "      <th>5</th>\n",
       "      <td>에버셀 셀 바이탈 셀 프로그램 1주 체험키트 니도겐 안티에이징 표피 줄기세포 배양액</td>\n",
       "      <td>7,500원</td>\n",
       "    </tr>\n",
       "    <tr>\n",
       "      <th>6</th>\n",
       "      <td>더미식 백미밥 210g 24개+장인라면 컵라면 증정</td>\n",
       "      <td>23,900원</td>\n",
       "    </tr>\n",
       "    <tr>\n",
       "      <th>7</th>\n",
       "      <td>동원 딤섬 새우하가우/부추창펀/샤오롱바오 8봉 택1</td>\n",
       "      <td>25,310원</td>\n",
       "    </tr>\n",
       "    <tr>\n",
       "      <th>8</th>\n",
       "      <td>다양한 언어기법을 통한 단어학습/맥그로힐/Building Vocabulary Ski...</td>\n",
       "      <td>95,800원</td>\n",
       "    </tr>\n",
       "    <tr>\n",
       "      <th>9</th>\n",
       "      <td>국산100% 전라도 아삭한 열무김치 2kg 열무비빔밥</td>\n",
       "      <td>15,000원</td>\n",
       "    </tr>\n",
       "  </tbody>\n",
       "</table>\n",
       "</div>"
      ],
      "text/plain": [
       "                                                 상품명      상품가격\n",
       "0  휴튼미플린하코트출판사가 만든 과학레벨드리더스 /Science and Engineer...  168,800원\n",
       "1  크로아상 크로플 생지 2250g (40~50개입) + 사과버터잼 100g 증정(쿠폰...   21,100원\n",
       "2          (깨비농원) 고당도 천혜향 4.5kg 소과(28-36과)/20%+5% 쿠폰   30,900원\n",
       "3                              훈제오리 슬라이스 800g + 800g   23,600원\n",
       "4  고창 김민상님의 황토밭 햇 꿀밤고구마 5kg 특상 / 쿠폰가 12680 (3/29 하루)   16,900원\n",
       "5     에버셀 셀 바이탈 셀 프로그램 1주 체험키트 니도겐 안티에이징 표피 줄기세포 배양액    7,500원\n",
       "6                       더미식 백미밥 210g 24개+장인라면 컵라면 증정   23,900원\n",
       "7                       동원 딤섬 새우하가우/부추창펀/샤오롱바오 8봉 택1   25,310원\n",
       "8  다양한 언어기법을 통한 단어학습/맥그로힐/Building Vocabulary Ski...   95,800원\n",
       "9                      국산100% 전라도 아삭한 열무김치 2kg 열무비빔밥   15,000원"
      ]
     },
     "execution_count": 22,
     "metadata": {},
     "output_type": "execute_result"
    }
   ],
   "source": [
    "gmarket_dic = {'상품명':titleList,'상품가격':priceList}\n",
    "gmarket_df = pd.DataFrame(gmarket_dic)\n",
    "gmarket_df"
   ]
  },
  {
   "cell_type": "markdown",
   "id": "e633e7dc",
   "metadata": {},
   "source": [
    "### 크롤링의 순서! (프로세스)\n",
    "- 1. 화면 구성 : 크롬창의 데이터를 수집 할 준비\n",
    "- 2. 요수 수집 : 컴퓨터가 사용하는 HTML 형태의 데이터 수집\n",
    "- 3. 데이터 가공 : 수집된 요소에서 내가 필요한 정보만 추출\n",
    "    - 3.1. 비어있는 리스트에 내가 필요한 정보를 저장\n",
    "- 4. 데이터 활용 : 데이터프레임, 파일로 저장, DB로 저장"
   ]
  }
 ],
 "metadata": {
  "kernelspec": {
   "display_name": "Python 3 (ipykernel)",
   "language": "python",
   "name": "python3"
  },
  "language_info": {
   "codemirror_mode": {
    "name": "ipython",
    "version": 3
   },
   "file_extension": ".py",
   "mimetype": "text/x-python",
   "name": "python",
   "nbconvert_exporter": "python",
   "pygments_lexer": "ipython3",
   "version": "3.9.13"
  },
  "toc": {
   "base_numbering": 1,
   "nav_menu": {},
   "number_sections": true,
   "sideBar": true,
   "skip_h1_title": false,
   "title_cell": "Table of Contents",
   "title_sidebar": "Contents",
   "toc_cell": false,
   "toc_position": {},
   "toc_section_display": true,
   "toc_window_display": false
  },
  "varInspector": {
   "cols": {
    "lenName": 16,
    "lenType": 16,
    "lenVar": 40
   },
   "kernels_config": {
    "python": {
     "delete_cmd_postfix": "",
     "delete_cmd_prefix": "del ",
     "library": "var_list.py",
     "varRefreshCmd": "print(var_dic_list())"
    },
    "r": {
     "delete_cmd_postfix": ") ",
     "delete_cmd_prefix": "rm(",
     "library": "var_list.r",
     "varRefreshCmd": "cat(var_dic_list()) "
    }
   },
   "types_to_exclude": [
    "module",
    "function",
    "builtin_function_or_method",
    "instance",
    "_Feature"
   ],
   "window_display": false
  }
 },
 "nbformat": 4,
 "nbformat_minor": 5
}
