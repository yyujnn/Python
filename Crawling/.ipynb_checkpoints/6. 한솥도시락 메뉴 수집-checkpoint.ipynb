{
 "cells": [
  {
   "cell_type": "code",
   "execution_count": 1,
   "id": "620fb9e4",
   "metadata": {
    "ExecuteTime": {
     "end_time": "2023-03-30T00:47:40.020452Z",
     "start_time": "2023-03-30T00:47:39.527872Z"
    }
   },
   "outputs": [],
   "source": [
    "# Selenium 라이브러리 로딩\n",
    "\n",
    "# 브라우저 \n",
    "from selenium import webdriver as wb\n",
    "\n",
    "# 키보드\n",
    "from selenium.webdriver.common.keys import Keys\n",
    "\n",
    "# 구분자\n",
    "from selenium.webdriver.common.by import By\n",
    "\n",
    "# 지연시간\n",
    "import time\n",
    "\n",
    "# 데이터 프레임\n",
    "import pandas as pd"
   ]
  },
  {
   "cell_type": "code",
   "execution_count": 2,
   "id": "92fb5026",
   "metadata": {
    "ExecuteTime": {
     "end_time": "2023-03-30T00:47:51.005151Z",
     "start_time": "2023-03-30T00:47:40.996852Z"
    }
   },
   "outputs": [],
   "source": [
    "url = 'https://www.hsd.co.kr/menu/menu_list'\n",
    "\n",
    "driver = wb.Chrome()\n",
    "driver.get(url)"
   ]
  },
  {
   "cell_type": "code",
   "execution_count": 5,
   "id": "fb628179",
   "metadata": {
    "ExecuteTime": {
     "end_time": "2023-03-29T01:50:11.799022Z",
     "start_time": "2023-03-29T01:50:11.741201Z"
    }
   },
   "outputs": [],
   "source": [
    "# \"더보기\" 요소 접근하기\n",
    "# 클릭\n",
    "# 클릭 횟수 : 각자 다름 \n",
    "\n",
    "driver.find_element(By.CLASS_NAME, 'c_05').click()\n",
    "# <> 1개 -> 리스트 안 값 1개"
   ]
  },
  {
   "cell_type": "code",
   "execution_count": 7,
   "id": "f838a85e",
   "metadata": {
    "ExecuteTime": {
     "end_time": "2023-03-29T02:04:56.358503Z",
     "start_time": "2023-03-29T02:04:55.284166Z"
    }
   },
   "outputs": [],
   "source": [
    "# 더보기 클릭을 반복문으로 구현\n",
    "\n",
    "for i in range(1):\n",
    "    driver.find_element(By.CLASS_NAME, 'c_05').click()\n",
    "    time.sleep(1)"
   ]
  },
  {
   "cell_type": "code",
   "execution_count": 39,
   "id": "364dec18",
   "metadata": {
    "ExecuteTime": {
     "end_time": "2023-03-29T02:35:01.715584Z",
     "start_time": "2023-03-29T02:35:01.669691Z"
    }
   },
   "outputs": [
    {
     "data": {
      "text/plain": [
       "(91, 91)"
      ]
     },
     "execution_count": 39,
     "metadata": {},
     "output_type": "execute_result"
    }
   ],
   "source": [
    "# 도시락 메뉴(이름)과 가격 수집 후 출력\n",
    "menu = driver.find_elements(By.CSS_SELECTOR, \"h4.h.fz_03\")\n",
    "price = driver.find_elements(By.CSS_SELECTOR, \"span.blind+strong\")\n",
    "\n",
    "len(menu), len(price)"
   ]
  },
  {
   "cell_type": "code",
   "execution_count": 33,
   "id": "a59f578e",
   "metadata": {
    "ExecuteTime": {
     "end_time": "2023-03-29T02:32:25.755969Z",
     "start_time": "2023-03-29T02:32:25.726698Z"
    }
   },
   "outputs": [
    {
     "data": {
      "text/plain": [
       "'2,200'"
      ]
     },
     "execution_count": 33,
     "metadata": {},
     "output_type": "execute_result"
    }
   ],
   "source": [
    "driver.find_elements(By.CSS_SELECTOR, \"div.item-price strong\")[0].text # 내가 한 방법"
   ]
  },
  {
   "cell_type": "code",
   "execution_count": 44,
   "id": "6d3a0f22",
   "metadata": {
    "ExecuteTime": {
     "end_time": "2023-03-29T02:44:26.420777Z",
     "start_time": "2023-03-29T02:44:23.992935Z"
    }
   },
   "outputs": [],
   "source": [
    "# 빈 리스트 생성\n",
    "menuList = []\n",
    "priceList = []\n",
    "\n",
    "for i in range(len(menu)):\n",
    "    menuList.append(menu[i].text)\n",
    "    priceList.append(price[i].text+'원')"
   ]
  },
  {
   "cell_type": "code",
   "execution_count": 46,
   "id": "a64cea7d",
   "metadata": {
    "ExecuteTime": {
     "end_time": "2023-03-29T02:45:30.096057Z",
     "start_time": "2023-03-29T02:45:30.077997Z"
    }
   },
   "outputs": [
    {
     "data": {
      "text/html": [
       "<div>\n",
       "<style scoped>\n",
       "    .dataframe tbody tr th:only-of-type {\n",
       "        vertical-align: middle;\n",
       "    }\n",
       "\n",
       "    .dataframe tbody tr th {\n",
       "        vertical-align: top;\n",
       "    }\n",
       "\n",
       "    .dataframe thead th {\n",
       "        text-align: right;\n",
       "    }\n",
       "</style>\n",
       "<table border=\"1\" class=\"dataframe\">\n",
       "  <thead>\n",
       "    <tr style=\"text-align: right;\">\n",
       "      <th></th>\n",
       "      <th>메뉴</th>\n",
       "      <th>가격</th>\n",
       "    </tr>\n",
       "  </thead>\n",
       "  <tbody>\n",
       "    <tr>\n",
       "      <th>0</th>\n",
       "      <td>치즈버터 해시 포테이토 스틱</td>\n",
       "      <td>2,200원</td>\n",
       "    </tr>\n",
       "    <tr>\n",
       "      <th>1</th>\n",
       "      <td>허니버터 해시 포테이토 스틱</td>\n",
       "      <td>2,200원</td>\n",
       "    </tr>\n",
       "    <tr>\n",
       "      <th>2</th>\n",
       "      <td>새후마요</td>\n",
       "      <td>4,500원</td>\n",
       "    </tr>\n",
       "    <tr>\n",
       "      <th>3</th>\n",
       "      <td>숯불직화구이 두부강된장</td>\n",
       "      <td>8,200원</td>\n",
       "    </tr>\n",
       "    <tr>\n",
       "      <th>4</th>\n",
       "      <td>해시 포테이토 스틱</td>\n",
       "      <td>2,000원</td>\n",
       "    </tr>\n",
       "    <tr>\n",
       "      <th>...</th>\n",
       "      <td>...</td>\n",
       "      <td>...</td>\n",
       "    </tr>\n",
       "    <tr>\n",
       "      <th>86</th>\n",
       "      <td>무말랭이 무침</td>\n",
       "      <td>500원</td>\n",
       "    </tr>\n",
       "    <tr>\n",
       "      <th>87</th>\n",
       "      <td>한솥밥</td>\n",
       "      <td>1,000원</td>\n",
       "    </tr>\n",
       "    <tr>\n",
       "      <th>88</th>\n",
       "      <td>현미밥</td>\n",
       "      <td>1,700원</td>\n",
       "    </tr>\n",
       "    <tr>\n",
       "      <th>89</th>\n",
       "      <td>리얼 티라미수 찰떡</td>\n",
       "      <td>1,700원</td>\n",
       "    </tr>\n",
       "    <tr>\n",
       "      <th>90</th>\n",
       "      <td>리얼꿀 미니호떡</td>\n",
       "      <td>2,200원</td>\n",
       "    </tr>\n",
       "  </tbody>\n",
       "</table>\n",
       "<p>91 rows × 2 columns</p>\n",
       "</div>"
      ],
      "text/plain": [
       "                 메뉴      가격\n",
       "0   치즈버터 해시 포테이토 스틱  2,200원\n",
       "1   허니버터 해시 포테이토 스틱  2,200원\n",
       "2              새후마요  4,500원\n",
       "3      숯불직화구이 두부강된장  8,200원\n",
       "4        해시 포테이토 스틱  2,000원\n",
       "..              ...     ...\n",
       "86          무말랭이 무침    500원\n",
       "87              한솥밥  1,000원\n",
       "88              현미밥  1,700원\n",
       "89       리얼 티라미수 찰떡  1,700원\n",
       "90         리얼꿀 미니호떡  2,200원\n",
       "\n",
       "[91 rows x 2 columns]"
      ]
     },
     "execution_count": 46,
     "metadata": {},
     "output_type": "execute_result"
    }
   ],
   "source": [
    "hs_dic= {'메뉴':menuList, '가격':priceList}\n",
    "hs_df = pd.DataFrame(hs_dic)\n",
    "hs_df"
   ]
  },
  {
   "cell_type": "markdown",
   "id": "2a35e675",
   "metadata": {},
   "source": [
    "### ActionChains\n",
    "- 내가 동작할 액션(행동)들을 묶어서 실행할 때"
   ]
  },
  {
   "cell_type": "code",
   "execution_count": 7,
   "id": "0141b1c8",
   "metadata": {
    "ExecuteTime": {
     "end_time": "2023-03-30T01:27:44.395747Z",
     "start_time": "2023-03-30T01:27:42.278406Z"
    }
   },
   "outputs": [],
   "source": [
    "url = 'https://www.hsd.co.kr/'\n",
    "driver = wb.Chrome()\n",
    "driver.get(url)"
   ]
  },
  {
   "cell_type": "markdown",
   "id": "0519b9a4",
   "metadata": {},
   "source": [
    "### 선택자를 한꺼번에 가지고 오는 팁\n",
    "- 개발자 도구에서 원하는 요소(검사해서 나온 결과)에 마우스 우클릭!\n",
    "    - copy탭 > copy selector(선택자 복사) 클릭 !\n",
    "#### 주의할 점!\n",
    "- 무조건 내가 선택한 요소 한 개만 가지고 올 수 있다.\n",
    "    - 복수개의 데이터가 필요한 경우에는 선택자를 수정\n",
    "        - ex) nth-child() 지워주는 경우가 가장 많다!"
   ]
  },
  {
   "cell_type": "code",
   "execution_count": 8,
   "id": "f5a69fe1",
   "metadata": {
    "ExecuteTime": {
     "end_time": "2023-03-30T01:27:50.928946Z",
     "start_time": "2023-03-30T01:27:49.967027Z"
    }
   },
   "outputs": [],
   "source": [
    "# 1. MENU 탭에 마우스 이동\n",
    "# 2. 전체메뉴를 클릭\n",
    "\n",
    "menu_bar = driver.find_element(By.CSS_SELECTOR, \"#gnb > div.gnb_menu > ul > li:nth-child(3) > p > a\")\n",
    "allMenu = driver.find_element(By.CSS_SELECTOR, \"#gnb > div.gnb_menu > ul > li:nth-child(3) > div > ul > li:nth-child(1) > a\")\n",
    "\n",
    "# A,C 대문자 주의하자\n",
    "# 한줄로 표현\n",
    "# wb.ActionChains(driver).move_to_element(menu_bar).click(allMenu).perform()\n",
    "\n",
    "# 변수에 담아서 표현\n",
    "AC_driver = wb.ActionChains(driver)\n",
    "menu_bar_move = AC_driver.move_to_element(menu_bar)\n",
    "allMenu_click = menu_bar_move.click(allMenu)\n",
    "allMenu_click.perform()\n",
    "\n",
    "# wb.ActionChains(\"브라우저\").기능(요소).기능(요소).perform()\n",
    "# perform() : 적용"
   ]
  },
  {
   "cell_type": "markdown",
   "id": "0cb6ec5d",
   "metadata": {},
   "source": [
    "### 화면에서 안 보이게 동작\n",
    "- 크롬 옵션을 설정\n",
    "#### 단점! \n",
    "- 크롤링 시작할 때(처음부터) 사용하기에는 권장하지 않음!!\n",
    "    - 1000건, 10000건의 데이터를 수집할 때 어느 부분에서 오류가 나는지 파악하기 힘들다.\n",
    "- try/except 사용시에도 동일하다!\n",
    "    - 우선, 에러가 발생하는 영역을 파악한 뒤 사용을 권장"
   ]
  },
  {
   "cell_type": "code",
   "execution_count": 10,
   "id": "c6964bcf",
   "metadata": {
    "ExecuteTime": {
     "end_time": "2023-03-30T02:08:11.363411Z",
     "start_time": "2023-03-30T02:07:56.882724Z"
    }
   },
   "outputs": [
    {
     "name": "stdout",
     "output_type": "stream",
     "text": [
      "나는 except! 더보기 클릭 완료!\n"
     ]
    },
    {
     "data": {
      "text/html": [
       "<div>\n",
       "<style scoped>\n",
       "    .dataframe tbody tr th:only-of-type {\n",
       "        vertical-align: middle;\n",
       "    }\n",
       "\n",
       "    .dataframe tbody tr th {\n",
       "        vertical-align: top;\n",
       "    }\n",
       "\n",
       "    .dataframe thead th {\n",
       "        text-align: right;\n",
       "    }\n",
       "</style>\n",
       "<table border=\"1\" class=\"dataframe\">\n",
       "  <thead>\n",
       "    <tr style=\"text-align: right;\">\n",
       "      <th></th>\n",
       "      <th>메뉴</th>\n",
       "      <th>가격</th>\n",
       "    </tr>\n",
       "  </thead>\n",
       "  <tbody>\n",
       "    <tr>\n",
       "      <th>0</th>\n",
       "      <td>치즈버터 해시 포테이토 스틱</td>\n",
       "      <td>2,200원</td>\n",
       "    </tr>\n",
       "    <tr>\n",
       "      <th>1</th>\n",
       "      <td>허니버터 해시 포테이토 스틱</td>\n",
       "      <td>2,200원</td>\n",
       "    </tr>\n",
       "    <tr>\n",
       "      <th>2</th>\n",
       "      <td>새후마요</td>\n",
       "      <td>4,500원</td>\n",
       "    </tr>\n",
       "    <tr>\n",
       "      <th>3</th>\n",
       "      <td>숯불직화구이 두부강된장</td>\n",
       "      <td>8,200원</td>\n",
       "    </tr>\n",
       "    <tr>\n",
       "      <th>4</th>\n",
       "      <td>해시 포테이토 스틱</td>\n",
       "      <td>2,000원</td>\n",
       "    </tr>\n",
       "    <tr>\n",
       "      <th>...</th>\n",
       "      <td>...</td>\n",
       "      <td>...</td>\n",
       "    </tr>\n",
       "    <tr>\n",
       "      <th>86</th>\n",
       "      <td>무말랭이 무침</td>\n",
       "      <td>500원</td>\n",
       "    </tr>\n",
       "    <tr>\n",
       "      <th>87</th>\n",
       "      <td>한솥밥</td>\n",
       "      <td>1,000원</td>\n",
       "    </tr>\n",
       "    <tr>\n",
       "      <th>88</th>\n",
       "      <td>현미밥</td>\n",
       "      <td>1,700원</td>\n",
       "    </tr>\n",
       "    <tr>\n",
       "      <th>89</th>\n",
       "      <td>리얼 티라미수 찰떡</td>\n",
       "      <td>1,700원</td>\n",
       "    </tr>\n",
       "    <tr>\n",
       "      <th>90</th>\n",
       "      <td>리얼꿀 미니호떡</td>\n",
       "      <td>2,200원</td>\n",
       "    </tr>\n",
       "  </tbody>\n",
       "</table>\n",
       "<p>91 rows × 2 columns</p>\n",
       "</div>"
      ],
      "text/plain": [
       "                 메뉴      가격\n",
       "0   치즈버터 해시 포테이토 스틱  2,200원\n",
       "1   허니버터 해시 포테이토 스틱  2,200원\n",
       "2              새후마요  4,500원\n",
       "3      숯불직화구이 두부강된장  8,200원\n",
       "4        해시 포테이토 스틱  2,000원\n",
       "..              ...     ...\n",
       "86          무말랭이 무침    500원\n",
       "87              한솥밥  1,000원\n",
       "88              현미밥  1,700원\n",
       "89       리얼 티라미수 찰떡  1,700원\n",
       "90         리얼꿀 미니호떡  2,200원\n",
       "\n",
       "[91 rows x 2 columns]"
      ]
     },
     "execution_count": 10,
     "metadata": {},
     "output_type": "execute_result"
    }
   ],
   "source": [
    "# 더보기 버튼 몇 번 눌러야 할지 알고 싶지 않을 때는 ??\n",
    "# for문 x / while문 o\n",
    "\n",
    "# [크롬 설정]\n",
    "# C와 O는 대문자\n",
    "# 크롬의 옵션을 설정할건데~\n",
    "options = wb.ChromeOptions()\n",
    "# 눈에 안보이게 가려주세요\n",
    "options.add_argument(\"headless\")\n",
    "\n",
    "# [크롬 설정 적용] -> wb.Chrome(옵션 속성 부여)\n",
    "url = 'https://www.hsd.co.kr/menu/menu_list'\n",
    "driver = wb.Chrome(chrome_options = options)\n",
    "driver.get(url)\n",
    "\n",
    "# 더보기 클릭 반복문\n",
    "\n",
    "# try에서 코드를 일단 실행해봄\n",
    "# 실행이 끝나면, 에러가 발생해도 except로 넘어가줘\n",
    "try : \n",
    "    \n",
    "    while True:\n",
    "        \n",
    "        driver.find_element(By.CLASS_NAME, 'c_05').click()\n",
    "        time.sleep(1)\n",
    "\n",
    "# except : 나를 실행하고 아래로 넘어가야지\n",
    "except : \n",
    "    print(\"나는 except! 더보기 클릭 완료!\")\n",
    "# 더보기 클릭 반복문\n",
    "\n",
    "# 메뉴, 가격 수집\n",
    "menu = driver.find_elements(By.CSS_SELECTOR, \"h4.h.fz_03\")\n",
    "price = driver.find_elements(By.CSS_SELECTOR, \"span.blind+strong\")\n",
    "\n",
    "menuList = []\n",
    "priceList = []\n",
    "\n",
    "for i in range(len(menu)):\n",
    "    menuList.append(menu[i].text)\n",
    "    priceList.append(price[i].text+'원')\n",
    "\n",
    "# 딕셔너리- 데이터 프레임 생성\n",
    "driver.close()\n",
    "\n",
    "hs_dic= {'메뉴':menuList, '가격':priceList}\n",
    "pd.DataFrame(hs_dic)\n"
   ]
  },
  {
   "cell_type": "code",
   "execution_count": null,
   "id": "2d43f314",
   "metadata": {},
   "outputs": [],
   "source": []
  },
  {
   "cell_type": "code",
   "execution_count": null,
   "id": "980c5a71",
   "metadata": {},
   "outputs": [],
   "source": []
  }
 ],
 "metadata": {
  "kernelspec": {
   "display_name": "Python 3 (ipykernel)",
   "language": "python",
   "name": "python3"
  },
  "language_info": {
   "codemirror_mode": {
    "name": "ipython",
    "version": 3
   },
   "file_extension": ".py",
   "mimetype": "text/x-python",
   "name": "python",
   "nbconvert_exporter": "python",
   "pygments_lexer": "ipython3",
   "version": "3.9.13"
  },
  "toc": {
   "base_numbering": 1,
   "nav_menu": {
    "height": "251px",
    "width": "329px"
   },
   "number_sections": true,
   "sideBar": true,
   "skip_h1_title": false,
   "title_cell": "Table of Contents",
   "title_sidebar": "Contents",
   "toc_cell": false,
   "toc_position": {},
   "toc_section_display": true,
   "toc_window_display": false
  },
  "varInspector": {
   "cols": {
    "lenName": 16,
    "lenType": 16,
    "lenVar": 40
   },
   "kernels_config": {
    "python": {
     "delete_cmd_postfix": "",
     "delete_cmd_prefix": "del ",
     "library": "var_list.py",
     "varRefreshCmd": "print(var_dic_list())"
    },
    "r": {
     "delete_cmd_postfix": ") ",
     "delete_cmd_prefix": "rm(",
     "library": "var_list.r",
     "varRefreshCmd": "cat(var_dic_list()) "
    }
   },
   "types_to_exclude": [
    "module",
    "function",
    "builtin_function_or_method",
    "instance",
    "_Feature"
   ],
   "window_display": false
  }
 },
 "nbformat": 4,
 "nbformat_minor": 5
}
