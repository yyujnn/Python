{
 "cells": [
  {
   "cell_type": "code",
   "execution_count": 1,
   "id": "89d8ca96",
   "metadata": {
    "ExecuteTime": {
     "end_time": "2023-07-19T06:30:13.044837Z",
     "start_time": "2023-07-19T06:30:12.881627Z"
    }
   },
   "outputs": [],
   "source": [
    "# 1. Flask - 서버를 구동하는데 필요한 Flask 객체 생성\n",
    "from flask import Flask \n",
    "# 2. request - 요청에 대한 값을 꺼내올 때 사용\n",
    "# 3. redirect - 응답해줄 때 redirect 방식을 사용\n",
    "# 4. make_response - 응답 객체를 생성할 때 사용\n",
    "from flask import request, redirect, make_response \n",
    "# jsonify --> ajax 요청 응답, json 구조 변환 (필요할 때 사용하기)\n",
    "# 5. \n",
    "from flask_cors import CORS"
   ]
  },
  {
   "cell_type": "code",
   "execution_count": null,
   "id": "e537af51",
   "metadata": {
    "ExecuteTime": {
     "start_time": "2023-07-19T06:59:43.579Z"
    }
   },
   "outputs": [
    {
     "name": "stdout",
     "output_type": "stream",
     "text": [
      " * Serving Flask app \"__main__\" (lazy loading)\n",
      " * Environment: production\n",
      "\u001b[31m   WARNING: This is a development server. Do not use it in a production deployment.\u001b[0m\n",
      "\u001b[2m   Use a production WSGI server instead.\u001b[0m\n",
      " * Debug mode: off\n"
     ]
    },
    {
     "name": "stderr",
     "output_type": "stream",
     "text": [
      " * Running on http://127.0.0.1:9000/ (Press CTRL+C to quit)\n",
      "127.0.0.1 - - [19/Jul/2023 15:59:47] \"GET / HTTP/1.1\" 404 -\n",
      "127.0.0.1 - - [19/Jul/2023 16:00:06] \"GET /upload HTTP/1.1\" 405 -\n",
      "127.0.0.1 - - [19/Jul/2023 16:00:06] \"GET /favicon.ico HTTP/1.1\" 404 -\n"
     ]
    }
   ],
   "source": [
    "app = Flask(__name__)\n",
    "CORS(app)\n",
    "\n",
    "@app.route(\"/upload\", methods=[\"POST\"])\n",
    "def start_upload():\n",
    "    print('들어오니?')\n",
    "    fileName = request.files.get(\"fileName\")\n",
    "    fileExtension = request.files.get(\"fileExtension\")\n",
    "    generatedFileName = request.files.get(\"generatedFileName\")\n",
    "    \n",
    "    file_dict = {\n",
    "    \"fileName\": fileName,\n",
    "    \"fileExtension\": fileExtension,\n",
    "    \"generatedFileName\": generatedFileName\n",
    "}\n",
    "    return file_dict \n",
    "\n",
    "if __name__ == \"__main__\":\n",
    "    \n",
    "    app.run(host = \"127.0.0.1\", port = \"9000\")"
   ]
  },
  {
   "cell_type": "code",
   "execution_count": null,
   "id": "3e822698",
   "metadata": {},
   "outputs": [],
   "source": []
  },
  {
   "cell_type": "code",
   "execution_count": null,
   "id": "20dae5d8",
   "metadata": {},
   "outputs": [],
   "source": []
  },
  {
   "cell_type": "code",
   "execution_count": null,
   "id": "c8acd734",
   "metadata": {},
   "outputs": [],
   "source": []
  },
  {
   "cell_type": "code",
   "execution_count": null,
   "id": "4f2b54c0",
   "metadata": {},
   "outputs": [],
   "source": []
  },
  {
   "cell_type": "code",
   "execution_count": null,
   "id": "bb3bde6a",
   "metadata": {},
   "outputs": [],
   "source": []
  },
  {
   "cell_type": "code",
   "execution_count": null,
   "id": "46dba662",
   "metadata": {},
   "outputs": [],
   "source": []
  },
  {
   "cell_type": "code",
   "execution_count": null,
   "id": "0c582fe9",
   "metadata": {},
   "outputs": [],
   "source": []
  }
 ],
 "metadata": {
  "kernelspec": {
   "display_name": "Python 3 (ipykernel)",
   "language": "python",
   "name": "python3"
  },
  "language_info": {
   "codemirror_mode": {
    "name": "ipython",
    "version": 3
   },
   "file_extension": ".py",
   "mimetype": "text/x-python",
   "name": "python",
   "nbconvert_exporter": "python",
   "pygments_lexer": "ipython3",
   "version": "3.9.13"
  },
  "toc": {
   "base_numbering": 1,
   "nav_menu": {},
   "number_sections": true,
   "sideBar": true,
   "skip_h1_title": false,
   "title_cell": "Table of Contents",
   "title_sidebar": "Contents",
   "toc_cell": false,
   "toc_position": {},
   "toc_section_display": true,
   "toc_window_display": false
  },
  "varInspector": {
   "cols": {
    "lenName": 16,
    "lenType": 16,
    "lenVar": 40
   },
   "kernels_config": {
    "python": {
     "delete_cmd_postfix": "",
     "delete_cmd_prefix": "del ",
     "library": "var_list.py",
     "varRefreshCmd": "print(var_dic_list())"
    },
    "r": {
     "delete_cmd_postfix": ") ",
     "delete_cmd_prefix": "rm(",
     "library": "var_list.r",
     "varRefreshCmd": "cat(var_dic_list()) "
    }
   },
   "types_to_exclude": [
    "module",
    "function",
    "builtin_function_or_method",
    "instance",
    "_Feature"
   ],
   "window_display": false
  }
 },
 "nbformat": 4,
 "nbformat_minor": 5
}
