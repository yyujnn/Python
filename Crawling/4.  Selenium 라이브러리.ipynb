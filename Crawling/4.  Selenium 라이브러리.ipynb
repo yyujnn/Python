{
 "cells": [
  {
   "cell_type": "markdown",
   "id": "7e8b784c",
   "metadata": {},
   "source": [
    "### requests 라이브러리의 불편한 점 \n",
    "- 사용자의 개입이 많다. (모든 행위를 직접 해주어야 함)\n",
    "    - 크롬창(브라우저)을 켜고 검색, 창을 꺼주는 등\n",
    "- 자동화라고 보기 어렵다."
   ]
  },
  {
   "cell_type": "markdown",
   "id": "bcfaa1aa",
   "metadata": {},
   "source": [
    "### selenium 라이브러리\n",
    "- 웹 브라우저를 자동으로 제어하기 위한 라이브러리 (자동화)\n",
    "- 반드시 최초 한 번 설치 해주어야 함\n",
    "    - 설치는 한 번만\n",
    "- webdriver : 브라우저 역할\n",
    "- Keys : 컴퓨터용 키보드\n",
    "- By : 요소 구분자 역할"
   ]
  },
  {
   "cell_type": "code",
   "execution_count": 1,
   "id": "0f85333c",
   "metadata": {
    "ExecuteTime": {
     "end_time": "2023-03-28T01:12:18.759990Z",
     "start_time": "2023-03-28T01:12:11.215111Z"
    },
    "collapsed": true
   },
   "outputs": [
    {
     "name": "stdout",
     "output_type": "stream",
     "text": [
      "Collecting selenium\n",
      "  Downloading selenium-4.8.3-py3-none-any.whl (6.5 MB)\n",
      "     ---------------------------------------- 6.5/6.5 MB 10.7 MB/s eta 0:00:00\n",
      "Collecting trio-websocket~=0.9\n",
      "  Downloading trio_websocket-0.10.2-py3-none-any.whl (17 kB)\n",
      "Requirement already satisfied: urllib3[socks]~=1.26 in c:\\users\\smhrd\\anaconda3\\lib\\site-packages (from selenium) (1.26.11)\n",
      "Collecting trio~=0.17\n",
      "  Downloading trio-0.22.0-py3-none-any.whl (384 kB)\n",
      "     ------------------------------------- 384.9/384.9 kB 12.1 MB/s eta 0:00:00\n",
      "Requirement already satisfied: certifi>=2021.10.8 in c:\\users\\smhrd\\anaconda3\\lib\\site-packages (from selenium) (2022.9.14)\n",
      "Collecting async-generator>=1.9\n",
      "  Downloading async_generator-1.10-py3-none-any.whl (18 kB)\n",
      "Collecting exceptiongroup>=1.0.0rc9\n",
      "  Downloading exceptiongroup-1.1.1-py3-none-any.whl (14 kB)\n",
      "Requirement already satisfied: attrs>=19.2.0 in c:\\users\\smhrd\\anaconda3\\lib\\site-packages (from trio~=0.17->selenium) (21.4.0)\n",
      "Collecting outcome\n",
      "  Downloading outcome-1.2.0-py2.py3-none-any.whl (9.7 kB)\n",
      "Requirement already satisfied: sniffio in c:\\users\\smhrd\\anaconda3\\lib\\site-packages (from trio~=0.17->selenium) (1.2.0)\n",
      "Requirement already satisfied: cffi>=1.14 in c:\\users\\smhrd\\anaconda3\\lib\\site-packages (from trio~=0.17->selenium) (1.15.1)\n",
      "Requirement already satisfied: idna in c:\\users\\smhrd\\anaconda3\\lib\\site-packages (from trio~=0.17->selenium) (3.3)\n",
      "Requirement already satisfied: sortedcontainers in c:\\users\\smhrd\\anaconda3\\lib\\site-packages (from trio~=0.17->selenium) (2.4.0)\n",
      "Collecting wsproto>=0.14\n",
      "  Downloading wsproto-1.2.0-py3-none-any.whl (24 kB)\n",
      "Requirement already satisfied: PySocks!=1.5.7,<2.0,>=1.5.6 in c:\\users\\smhrd\\anaconda3\\lib\\site-packages (from urllib3[socks]~=1.26->selenium) (1.7.1)\n",
      "Requirement already satisfied: pycparser in c:\\users\\smhrd\\anaconda3\\lib\\site-packages (from cffi>=1.14->trio~=0.17->selenium) (2.21)\n",
      "Collecting h11<1,>=0.9.0\n",
      "  Downloading h11-0.14.0-py3-none-any.whl (58 kB)\n",
      "     ---------------------------------------- 58.3/58.3 kB 3.0 MB/s eta 0:00:00\n",
      "Installing collected packages: outcome, h11, exceptiongroup, async-generator, wsproto, trio, trio-websocket, selenium\n",
      "Successfully installed async-generator-1.10 exceptiongroup-1.1.1 h11-0.14.0 outcome-1.2.0 selenium-4.8.3 trio-0.22.0 trio-websocket-0.10.2 wsproto-1.2.0\n"
     ]
    }
   ],
   "source": [
    "# pip 큰 패키지에서 설치하겠다 라이브러리를\n",
    "# ! : 강제 진행 하겠다는 뜻\n",
    "!pip install selenium"
   ]
  },
  {
   "cell_type": "code",
   "execution_count": 1,
   "id": "045046f6",
   "metadata": {
    "ExecuteTime": {
     "end_time": "2023-03-28T01:48:09.772943Z",
     "start_time": "2023-03-28T01:48:09.646872Z"
    }
   },
   "outputs": [],
   "source": [
    "# selenium 라이브러리 로딩\n",
    "\n",
    "# 브라우저 역할 - 컴퓨터용 브라우저\n",
    "from selenium import webdriver as wb\n",
    "\n",
    "# 키보드 역할 (Keys K 대분자 !) - 컴퓨터용 키보드\n",
    "from selenium.webdriver.common.keys import Keys\n",
    "\n",
    "# 구분자 역할 () - 선택자를 구분\n",
    "from selenium.webdriver.common.by import By"
   ]
  },
  {
   "cell_type": "markdown",
   "id": "b01ae2e3",
   "metadata": {},
   "source": [
    "### 브라우저 실행 \n",
    "- 크롬 드라이버 설치 \n",
    "    - 항상 내가 사용하고 있는 크롬의 버전과 동일한 버전으로 설치해주기 ! 👌\n",
    "    - 크롬 드라이버와 작성중인 코드(ipynb파일)을 같은 경로에 위치"
   ]
  },
  {
   "cell_type": "code",
   "execution_count": 13,
   "id": "d873c3a5",
   "metadata": {
    "ExecuteTime": {
     "end_time": "2023-03-28T02:27:20.676804Z",
     "start_time": "2023-03-28T02:27:19.078223Z"
    }
   },
   "outputs": [],
   "source": [
    "# wb.Chrome() : 웹 드라이버 기능 중 크롬 브라우저를 사용 -> driver변수 담기\n",
    "# wb.Chrome(설치 경로) : 경로를 생략하고 싶다면 코드와 같은 경로에 위치\n",
    "# driver.get(\"url\") : 특정 페이지를 조회\n",
    "\n",
    "driver = wb.Chrome()\n",
    "driver.get('https://www.naver.com/')\n",
    "# --> 요청 응답까지 받은 상태 \n",
    "# --> html 브라우저 자체로 열었기 때문에 bs 객체화 필요하지 않음\n",
    "\n",
    "# 크롬 드라이버 주의사항\n",
    "# 설치유무(버전) / 설치경로 설정"
   ]
  },
  {
   "cell_type": "code",
   "execution_count": 14,
   "id": "1032802c",
   "metadata": {
    "ExecuteTime": {
     "end_time": "2023-03-28T02:27:24.135390Z",
     "start_time": "2023-03-28T02:27:24.109459Z"
    }
   },
   "outputs": [],
   "source": [
    "# 검색창 조회\n",
    "# element, s 차이 : 단수/복수 -> select와 비슷 \n",
    "# find_element(By.구분자, \"값\")\n",
    "\n",
    "search = driver.find_element(By.ID, 'query')\n",
    "# 브라우저.요소찾기(아이디로, 'query'라는 아이디)"
   ]
  },
  {
   "cell_type": "code",
   "execution_count": 15,
   "id": "b3ad2bee",
   "metadata": {
    "ExecuteTime": {
     "end_time": "2023-03-28T02:27:25.749127Z",
     "start_time": "2023-03-28T02:27:25.694258Z"
    }
   },
   "outputs": [],
   "source": [
    "# 검색창에 특정 값 보내기\n",
    "# 요소에게 값 전송할 때 : send_keys(\"값\")\n",
    "search.send_keys(\"맛집\")"
   ]
  },
  {
   "cell_type": "markdown",
   "id": "e11b2512",
   "metadata": {},
   "source": [
    "### 검색 진행\n",
    "- 엔터를 눌러서 검색\n",
    "- 검색(돋보기) 버튼 클릭"
   ]
  },
  {
   "cell_type": "code",
   "execution_count": 16,
   "id": "075bc792",
   "metadata": {
    "ExecuteTime": {
     "end_time": "2023-03-28T02:27:30.733484Z",
     "start_time": "2023-03-28T02:27:29.509893Z"
    }
   },
   "outputs": [],
   "source": [
    "# 엔터 누르기(값전송과 똑같은 원리)\n",
    "# Keys() 기능 활용\n",
    "\n",
    "search.send_keys(Keys.ENTER)"
   ]
  },
  {
   "cell_type": "code",
   "execution_count": 17,
   "id": "ac3b0d5a",
   "metadata": {
    "ExecuteTime": {
     "end_time": "2023-03-28T02:27:32.869665Z",
     "start_time": "2023-03-28T02:27:32.381567Z"
    }
   },
   "outputs": [],
   "source": [
    "# 뒤로가기 실행\n",
    "# 뒤로가기는 HTML 코드가 아니다.-> 브라우저의 영역\n",
    "# driver.back() 기능을 직접 실행 \n",
    "\n",
    "driver.back()"
   ]
  },
  {
   "cell_type": "code",
   "execution_count": 18,
   "id": "2993b3eb",
   "metadata": {
    "ExecuteTime": {
     "end_time": "2023-03-28T02:29:16.856439Z",
     "start_time": "2023-03-28T02:29:16.799846Z"
    }
   },
   "outputs": [],
   "source": [
    "# 페이지가 변경되면(초기화) 모든 정보를 새로 받아와야 함★\n",
    "\n",
    "search = driver.find_element(By.ID, 'query')\n",
    "search.send_keys(\"카페\")"
   ]
  },
  {
   "cell_type": "code",
   "execution_count": 21,
   "id": "5d2621dd",
   "metadata": {
    "ExecuteTime": {
     "end_time": "2023-03-28T02:32:04.938454Z",
     "start_time": "2023-03-28T02:32:03.477691Z"
    }
   },
   "outputs": [],
   "source": [
    "# 검색 버튼 요소 찾아오기\n",
    "# -> btn 변수에 담아주기\n",
    "btn = driver.find_element(By.ID, 'search_btn')\n",
    "btn.click()"
   ]
  },
  {
   "cell_type": "code",
   "execution_count": 1,
   "id": "ce3d075c",
   "metadata": {
    "ExecuteTime": {
     "end_time": "2023-03-29T00:19:14.764059Z",
     "start_time": "2023-03-29T00:19:14.564620Z"
    },
    "collapsed": true
   },
   "outputs": [
    {
     "ename": "NameError",
     "evalue": "name 'driver' is not defined",
     "output_type": "error",
     "traceback": [
      "\u001b[1;31m---------------------------------------------------------------------------\u001b[0m",
      "\u001b[1;31mNameError\u001b[0m                                 Traceback (most recent call last)",
      "\u001b[1;32m~\\AppData\\Local\\Temp\\ipykernel_13820\\1642267784.py\u001b[0m in \u001b[0;36m<module>\u001b[1;34m\u001b[0m\n\u001b[0;32m      3\u001b[0m \u001b[1;31m# body 변수에 담기\u001b[0m\u001b[1;33m\u001b[0m\u001b[1;33m\u001b[0m\u001b[0m\n\u001b[0;32m      4\u001b[0m \u001b[1;31m# body한테 END 키 보내기\u001b[0m\u001b[1;33m\u001b[0m\u001b[1;33m\u001b[0m\u001b[0m\n\u001b[1;32m----> 5\u001b[1;33m \u001b[0mbody\u001b[0m \u001b[1;33m=\u001b[0m \u001b[0mdriver\u001b[0m\u001b[1;33m.\u001b[0m\u001b[0mfind_element\u001b[0m\u001b[1;33m(\u001b[0m\u001b[0mBy\u001b[0m\u001b[1;33m.\u001b[0m\u001b[0mTAG_NAME\u001b[0m\u001b[1;33m,\u001b[0m\u001b[1;34m\"body\"\u001b[0m\u001b[1;33m)\u001b[0m\u001b[1;33m\u001b[0m\u001b[1;33m\u001b[0m\u001b[0m\n\u001b[0m\u001b[0;32m      6\u001b[0m \u001b[0mbody\u001b[0m\u001b[1;33m.\u001b[0m\u001b[0msend_keys\u001b[0m\u001b[1;33m(\u001b[0m\u001b[0mKeys\u001b[0m\u001b[1;33m.\u001b[0m\u001b[0mEND\u001b[0m\u001b[1;33m)\u001b[0m\u001b[1;33m\u001b[0m\u001b[1;33m\u001b[0m\u001b[0m\n",
      "\u001b[1;31mNameError\u001b[0m: name 'driver' is not defined"
     ]
    }
   ],
   "source": [
    "# 스크롤을 페이지 최하단으로 이동\n",
    "\n",
    "# body 변수에 담기\n",
    "# body한테 END 키 보내기 -> 대문자\n",
    "body = driver.find_element(By.TAG_NAME,\"body\")\n",
    "body.send_keys(Keys.END)"
   ]
  },
  {
   "cell_type": "code",
   "execution_count": 30,
   "id": "9c7dc249",
   "metadata": {
    "ExecuteTime": {
     "end_time": "2023-03-28T03:07:20.456256Z",
     "start_time": "2023-03-28T03:07:19.384866Z"
    }
   },
   "outputs": [
    {
     "data": {
      "text/plain": [
       "<selenium.webdriver.chrome.webdriver.WebDriver (session=\"c786573c0e79d96f923bc49b537f112b\")>"
      ]
     },
     "execution_count": 30,
     "metadata": {},
     "output_type": "execute_result"
    }
   ],
   "source": [
    "driver = wb.Chrome()\n",
    "driver"
   ]
  },
  {
   "cell_type": "code",
   "execution_count": 31,
   "id": "c7211cb1",
   "metadata": {
    "ExecuteTime": {
     "end_time": "2023-03-28T03:07:24.390272Z",
     "start_time": "2023-03-28T03:07:24.312628Z"
    }
   },
   "outputs": [],
   "source": [
    "# 크롬 창 종료 \n",
    "# 주의 ! 닫기 버튼은 HTML 코드가 아니다 (브라우저->드라이버)\n",
    "\n",
    "driver.close()\n",
    "# driver.quit()\n",
    "\n",
    "# close() : 속도가 조금 오래걸린다! (메모리를 완전히 종료시켜줌)\n",
    "# quit()  : 속도가 매우 빠름! (메모리가 남아있다)"
   ]
  },
  {
   "cell_type": "code",
   "execution_count": null,
   "id": "88bab188",
   "metadata": {},
   "outputs": [],
   "source": []
  },
  {
   "cell_type": "code",
   "execution_count": null,
   "id": "10fea1d3",
   "metadata": {},
   "outputs": [],
   "source": []
  }
 ],
 "metadata": {
  "kernelspec": {
   "display_name": "Python 3 (ipykernel)",
   "language": "python",
   "name": "python3"
  },
  "language_info": {
   "codemirror_mode": {
    "name": "ipython",
    "version": 3
   },
   "file_extension": ".py",
   "mimetype": "text/x-python",
   "name": "python",
   "nbconvert_exporter": "python",
   "pygments_lexer": "ipython3",
   "version": "3.9.13"
  },
  "toc": {
   "base_numbering": 1,
   "nav_menu": {},
   "number_sections": true,
   "sideBar": true,
   "skip_h1_title": false,
   "title_cell": "Table of Contents",
   "title_sidebar": "Contents",
   "toc_cell": false,
   "toc_position": {},
   "toc_section_display": true,
   "toc_window_display": false
  },
  "varInspector": {
   "cols": {
    "lenName": 16,
    "lenType": 16,
    "lenVar": 40
   },
   "kernels_config": {
    "python": {
     "delete_cmd_postfix": "",
     "delete_cmd_prefix": "del ",
     "library": "var_list.py",
     "varRefreshCmd": "print(var_dic_list())"
    },
    "r": {
     "delete_cmd_postfix": ") ",
     "delete_cmd_prefix": "rm(",
     "library": "var_list.r",
     "varRefreshCmd": "cat(var_dic_list()) "
    }
   },
   "types_to_exclude": [
    "module",
    "function",
    "builtin_function_or_method",
    "instance",
    "_Feature"
   ],
   "window_display": false
  }
 },
 "nbformat": 4,
 "nbformat_minor": 5
}
