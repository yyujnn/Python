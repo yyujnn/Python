{
 "cells": [
  {
   "cell_type": "code",
   "execution_count": 2,
   "id": "eaf47edf",
   "metadata": {
    "ExecuteTime": {
     "end_time": "2023-03-30T02:31:24.934882Z",
     "start_time": "2023-03-30T02:31:24.924909Z"
    }
   },
   "outputs": [],
   "source": [
    "# selenium 라이브러리 로딩\n",
    "\n",
    "# 브라우저\n",
    "from selenium import webdriver as wb\n",
    "\n",
    "# 키보드\n",
    "from selenium.webdriver.common.keys import Keys\n",
    "\n",
    "# 구분자\n",
    "from selenium.webdriver.common.by import By\n",
    "\n",
    "# 지연시간\n",
    "import time\n",
    "\n",
    "# 데이터 활용(데이터프레임)\n",
    "import pandas as pd\n",
    "\n",
    "# 파일 시스템을 위한 라이브러리(파일, 폴더를 생성/삭제 역할)\n",
    "import os\n",
    "\n",
    "# 이미지파일의 url값을 파일로 저장해주는 라이브러리\n",
    "from urllib.request import urlretrieve"
   ]
  },
  {
   "cell_type": "code",
   "execution_count": 10,
   "id": "d745f24e",
   "metadata": {
    "ExecuteTime": {
     "end_time": "2023-03-30T02:46:04.361834Z",
     "start_time": "2023-03-30T02:46:02.113848Z"
    }
   },
   "outputs": [],
   "source": [
    "url = 'https://pokemonkorea.co.kr/pokedex'\n",
    "driver = wb.Chrome()\n",
    "driver.get(url)"
   ]
  },
  {
   "cell_type": "markdown",
   "id": "ffb18c44",
   "metadata": {},
   "source": [
    "### 스크롤 내리기가 필요하다!\n",
    "> 스크롤을 전부 다 내릴 때는 while문을 사용하면 안된다!  <br>\n",
    "> why? body 태그는 해당 페이지에 계속 존재하니까 결국 무한루프에 빠져버린다.  \n",
    "> 한솥도시락에서 했던 더보기 버튼은 누르다보면 사라졌었다.(에러발생)\n",
    "- for i in range(20) : 20번 내리겠다!"
   ]
  },
  {
   "cell_type": "code",
   "execution_count": 17,
   "id": "2cd3b1d8",
   "metadata": {
    "ExecuteTime": {
     "end_time": "2023-03-30T02:47:31.468480Z",
     "start_time": "2023-03-30T02:47:28.858240Z"
    }
   },
   "outputs": [],
   "source": [
    "# 스크롤 내리기(이미지 파일 로딩을 미리 해주기 위함)\n",
    "for i in range(100) : \n",
    "    body = driver.find_elements(By.CSS_SELECTOR, \"body\")\n",
    "    body[0].send_keys(Keys.END)"
   ]
  },
  {
   "cell_type": "code",
   "execution_count": 20,
   "id": "97e8bde2",
   "metadata": {
    "ExecuteTime": {
     "end_time": "2023-03-30T03:05:11.994975Z",
     "start_time": "2023-03-30T03:05:11.954816Z"
    }
   },
   "outputs": [
    {
     "data": {
      "text/plain": [
       "'https://data1.pokemonkorea.co.kr/newdata/pokedex/mid/000101.png'"
      ]
     },
     "execution_count": 20,
     "metadata": {},
     "output_type": "execute_result"
    }
   ],
   "source": [
    "imgs = driver.find_elements(By.CSS_SELECTOR, \".img-fluid\")\n",
    "\n",
    "len(imgs)\n",
    "\n",
    "imgs[0].get_attribute(\"src\")"
   ]
  },
  {
   "cell_type": "code",
   "execution_count": 22,
   "id": "559f2c18",
   "metadata": {
    "ExecuteTime": {
     "end_time": "2023-03-30T03:08:51.338384Z",
     "start_time": "2023-03-30T03:08:50.483795Z"
    }
   },
   "outputs": [],
   "source": [
    "# src를 저장해주는 빈 list생성\n",
    "srcList = []\n",
    "\n",
    "for i in imgs : \n",
    "    srcList.append(i.get_attribute(\"src\"))"
   ]
  },
  {
   "cell_type": "code",
   "execution_count": 25,
   "id": "33728321",
   "metadata": {
    "ExecuteTime": {
     "end_time": "2023-03-30T03:16:04.052022Z",
     "start_time": "2023-03-30T03:16:04.044698Z"
    }
   },
   "outputs": [],
   "source": [
    "# 바탕화면에 이미지라는 폴더가 없다면,\n",
    "\n",
    "if not os.path.isdir('C:/Users/smhrd/Desktop/이미지') : \n",
    "    # 바탕화면에 이미지라는 폴더를 만들어줘 ! \n",
    "    os.mkdir('C:/Users/smhrd/Desktop/이미지')"
   ]
  },
  {
   "cell_type": "code",
   "execution_count": 32,
   "id": "c51dfd9f",
   "metadata": {
    "ExecuteTime": {
     "end_time": "2023-03-30T03:27:21.118083Z",
     "start_time": "2023-03-30T03:27:09.195926Z"
    }
   },
   "outputs": [],
   "source": [
    "# src경로를 파일로 변환 \n",
    "cnt = 1\n",
    "\n",
    "for i in srcList :\n",
    "    urlretrieve(i,'C:/Users/smhrd/Desktop/이미지/포켓몬'+str(cnt)+'.jpg')\n",
    "    cnt += 1\n",
    "# 복합대입연산자 쓰는 이유 ! \n",
    "# 값을 누적시키기 위해 -> 그러니까 가독성이 좋아짐"
   ]
  },
  {
   "cell_type": "code",
   "execution_count": null,
   "id": "98d16aad",
   "metadata": {},
   "outputs": [],
   "source": []
  },
  {
   "cell_type": "code",
   "execution_count": null,
   "id": "64112366",
   "metadata": {},
   "outputs": [],
   "source": []
  },
  {
   "cell_type": "code",
   "execution_count": null,
   "id": "4ba7fc0a",
   "metadata": {},
   "outputs": [],
   "source": []
  },
  {
   "cell_type": "code",
   "execution_count": null,
   "id": "0db51782",
   "metadata": {},
   "outputs": [],
   "source": []
  },
  {
   "cell_type": "code",
   "execution_count": null,
   "id": "3cf7bcc6",
   "metadata": {},
   "outputs": [],
   "source": []
  },
  {
   "cell_type": "code",
   "execution_count": null,
   "id": "0090e86b",
   "metadata": {},
   "outputs": [],
   "source": []
  },
  {
   "cell_type": "code",
   "execution_count": null,
   "id": "389975ca",
   "metadata": {},
   "outputs": [],
   "source": []
  },
  {
   "cell_type": "code",
   "execution_count": null,
   "id": "fa276a50",
   "metadata": {},
   "outputs": [],
   "source": []
  },
  {
   "cell_type": "code",
   "execution_count": null,
   "id": "633e3b28",
   "metadata": {},
   "outputs": [],
   "source": []
  },
  {
   "cell_type": "code",
   "execution_count": null,
   "id": "1e89e819",
   "metadata": {},
   "outputs": [],
   "source": []
  },
  {
   "cell_type": "code",
   "execution_count": null,
   "id": "63fe9ef5",
   "metadata": {},
   "outputs": [],
   "source": []
  },
  {
   "cell_type": "code",
   "execution_count": null,
   "id": "274dc2c9",
   "metadata": {},
   "outputs": [],
   "source": []
  }
 ],
 "metadata": {
  "kernelspec": {
   "display_name": "Python 3 (ipykernel)",
   "language": "python",
   "name": "python3"
  },
  "language_info": {
   "codemirror_mode": {
    "name": "ipython",
    "version": 3
   },
   "file_extension": ".py",
   "mimetype": "text/x-python",
   "name": "python",
   "nbconvert_exporter": "python",
   "pygments_lexer": "ipython3",
   "version": "3.9.13"
  },
  "toc": {
   "base_numbering": 1,
   "nav_menu": {},
   "number_sections": true,
   "sideBar": true,
   "skip_h1_title": false,
   "title_cell": "Table of Contents",
   "title_sidebar": "Contents",
   "toc_cell": false,
   "toc_position": {},
   "toc_section_display": true,
   "toc_window_display": false
  },
  "varInspector": {
   "cols": {
    "lenName": 16,
    "lenType": 16,
    "lenVar": 40
   },
   "kernels_config": {
    "python": {
     "delete_cmd_postfix": "",
     "delete_cmd_prefix": "del ",
     "library": "var_list.py",
     "varRefreshCmd": "print(var_dic_list())"
    },
    "r": {
     "delete_cmd_postfix": ") ",
     "delete_cmd_prefix": "rm(",
     "library": "var_list.r",
     "varRefreshCmd": "cat(var_dic_list()) "
    }
   },
   "types_to_exclude": [
    "module",
    "function",
    "builtin_function_or_method",
    "instance",
    "_Feature"
   ],
   "window_display": false
  }
 },
 "nbformat": 4,
 "nbformat_minor": 5
}
