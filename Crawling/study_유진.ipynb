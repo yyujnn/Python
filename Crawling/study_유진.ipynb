{
 "cells": [
  {
   "cell_type": "markdown",
   "id": "75dc0eb8",
   "metadata": {},
   "source": [
    "## Crawling 시험 답안지(Crawling submission) 안내\n",
    "- 파일명에 본인 성명 기입하시오(Enter your name in the file name.)\n",
    "- 수업 중 배웠던 내용을 상기하여 최선을 다해 문제 풀어주세요.(Recall what you learned in class and do your best to solve the problem.)"
   ]
  },
  {
   "cell_type": "markdown",
   "id": "ecc87702",
   "metadata": {},
   "source": [
    "## 이론형"
   ]
  },
  {
   "cell_type": "markdown",
   "id": "c271c30b",
   "metadata": {},
   "source": [
    "Question 1. 다음 아래의 문제를 읽고 답을 서술하시오. \n",
    " - 문제1) 다음은 빅데이터 수집방식에 대한 설명이다. 빈 칸에 알맞은 방식을 고르시오."
   ]
  },
  {
   "cell_type": "code",
   "execution_count": null,
   "id": "11b14f26",
   "metadata": {},
   "outputs": [],
   "source": [
    "#  ➀ - a. 로그수집\n",
    "#  ➁ - f. 크롤링\n",
    "#  ➂ - c. 오픈API\n",
    "#  ④ - h. 센서 수집"
   ]
  },
  {
   "cell_type": "markdown",
   "id": "b23c1bb7",
   "metadata": {},
   "source": [
    " - 문제2) 크롤링의 개념과 필요성에 대해 서술하시오."
   ]
  },
  {
   "cell_type": "code",
   "execution_count": null,
   "id": "1162918e",
   "metadata": {},
   "outputs": [],
   "source": [
    "크롤링 개념 - 웹페이지의 내용을 수집하는 것\n",
    "필요성 - 웹페이지에 있는 다양한 데이터들을 사람이 매번 직접 손으로 \n",
    "수집하기가 어렵기때문에 작업을 자동으로 해주는 프로그램이 필요하기 때문"
   ]
  },
  {
   "cell_type": "markdown",
   "id": "e5eb006b",
   "metadata": {},
   "source": [
    " - 문제3)  BeautifulSoup모듈에 대해 서술하시오."
   ]
  },
  {
   "cell_type": "code",
   "execution_count": null,
   "id": "4552a7a8",
   "metadata": {},
   "outputs": [],
   "source": [
    "웹 문서안에 있는 데이터를 추출할 수 있도록 함수를 제공해주는 라이브러리"
   ]
  },
  {
   "cell_type": "markdown",
   "id": "2de2035e",
   "metadata": {},
   "source": [
    " - 문제4) 다음 두 보기의 차이를 설명하시오."
   ]
  },
  {
   "cell_type": "code",
   "execution_count": null,
   "id": "8c799754",
   "metadata": {},
   "outputs": [],
   "source": [
    "#  ➀ find_element(By.CSS_SELECTOR) : 특정 css 선택자 1개만 접근한다.\n",
    "\n",
    "#   ➁ find_elements(By.CSS_SELECTOR) : 동일한 css선택자 여러개를 접근한다."
   ]
  },
  {
   "attachments": {
    "image-2.png": {
     "image/png": "[encoded data removed]"
    }
   },
   "cell_type": "markdown",
   "id": "5b297d50",
   "metadata": {},
   "source": [
    " - 문제5) 다음은 HTML코드로 이루어진 웹 페이지이다. 밑줄 그어진 부분을 BeautifulSoup모듈의 함수를 이용하여 텍스트만 수집할 수 있는 코드를 빈칸에 작성하시오.\n",
    " ![image-2.png](attachment:image-2.png)"
   ]
  },
  {
   "cell_type": "code",
   "execution_count": null,
   "id": "6a391e39",
   "metadata": {},
   "outputs": [],
   "source": [
    "#  ➀ '#this_span'\n",
    "#  ➁ text"
   ]
  },
  {
   "cell_type": "markdown",
   "id": "19471357",
   "metadata": {},
   "source": [
    "----"
   ]
  },
  {
   "cell_type": "markdown",
   "id": "f7b300ad",
   "metadata": {},
   "source": [
    "## 실습형"
   ]
  },
  {
   "cell_type": "markdown",
   "id": "15c882f6",
   "metadata": {},
   "source": [
    "Question 2. 다음 문제를 읽고 알맞은 코드를 작성하시오.\n",
    " - 문제2)  자동제어를 통해 네이버 홈페이지에 접속하고 ‘크롤링’를 입력하여 검색하는 수집시스템을 구축하시오.  \n",
    "        * 페이지주소: https://www.naver.com/ \n",
    "        * 현재 주소에 띄워진 데이터를 수집하세요 (아래 이미지와 다를수있습니다)"
   ]
  },
  {
   "cell_type": "code",
   "execution_count": null,
   "id": "d0699d15",
   "metadata": {},
   "outputs": [],
   "source": [
    "from selenium import webdriver as wb\n",
    "from selenium.webdriver.common.by import By\n",
    "from selenium.webdriver.common.keys import Keys\n",
    "\n",
    "url = ' https://www.naver.com/'\n",
    "driver = wb.Chrome()\n",
    "driver.get(url)\n",
    "\n",
    "driver.find_element(By.CSS_SELECTOR, value='#query').send_keys('크롤링\\n')"
   ]
  },
  {
   "cell_type": "markdown",
   "id": "6ffa9b4d",
   "metadata": {},
   "source": [
    "----"
   ]
  },
  {
   "cell_type": "markdown",
   "id": "1d54aebe",
   "metadata": {},
   "source": [
    "Question 3. 다음 문제를 읽고 알맞은 코드를 작성하시오.\n",
    " - 문제3) 자동제어를 통해 G마켓 홈페이지에 접속하고, 조건에 맞는 수집프로그램을 만드시오.\n",
    "        * 페이지주소: http://corners.gmarket.co.kr/Bestsellers \n",
    "        * 현재 주소에 띄워진 데이터를 수집하세요 (아래 이미지와 다를 수 있습니다)"
   ]
  },
  {
   "cell_type": "code",
   "execution_count": null,
   "id": "1484a19c",
   "metadata": {},
   "outputs": [],
   "source": [
    "# 1. G마켓 Best 1~20위까지 제목과 가격을 수집하는 프로그램을 만드시오.\n",
    "from selenium import webdriver as wb\n",
    "from selenium.webdriver.common.by import By\n",
    "from selenium.webdriver.common.keys import Keys\n",
    "import pandas as pd\n",
    "\n",
    "url = 'http://corners.gmarket.co.kr/Bestsellers'\n",
    "driver = wb.Chrome()\n",
    "driver.get(url)\n",
    "\n",
    "pro_lst = []\n",
    "price_lst = []\n",
    "\n",
    "for i in range(1,21):\n",
    "    number = driver.find_elements(By.CSS_SELECTOR, value=f'p#no{i}')\n",
    "#     for i in number:\n",
    "#         print(i.text)\n",
    "    product = driver.find_elements(By.CSS_SELECTOR, value=f'div.best-list>ul>li#itemidx{i}>a')\n",
    "    product\n",
    "    price = driver.find_elements(By.CSS_SELECTOR, value=f'li#itemidx{i}>div.item_price>div.s-price>strong>span')\n",
    "    for i in range(len(product)):\n",
    "        pro_lst.append(product[i].text)\n",
    "        price_lst.append(price[i].text)\n",
    "# print(pro_lst)\n",
    "# print(price_lst)\n",
    "    \n",
    "\n",
    "    "
   ]
  },
  {
   "cell_type": "code",
   "execution_count": null,
   "id": "dd21e994",
   "metadata": {},
   "outputs": [],
   "source": [
    "# 2. 수집한 데이터를 DataFrame으로 만드시오.\n",
    "pro_dic = {'상품명' : pro_lst, '가격' : price_lst}\n",
    "pro_dic\n",
    "pro_df = pd.DataFrame(pro_dic)\n",
    "pro_df\n"
   ]
  },
  {
   "cell_type": "code",
   "execution_count": null,
   "id": "4555a33f",
   "metadata": {},
   "outputs": [],
   "source": []
  },
  {
   "cell_type": "markdown",
   "id": "4ffd399d",
   "metadata": {},
   "source": [
    "----"
   ]
  },
  {
   "cell_type": "markdown",
   "id": "6f3ef95f",
   "metadata": {},
   "source": [
    "Question 4. 다음 문제를 읽고 알맞은 코드를 작성하시오.\n",
    " - 문제4) 멜론차트에서 1~100위까지 정보를 수집하는 프로그램을 작성하시오.\n",
    "        * 페이지주소: https://www.melon.com/chart/ \n",
    "        * 현재 주소에 띄워진 데이터를 수집하세요 (아래 이미지와 다를수있습니다)\n",
    "        \n",
    "    <조건>\n",
    "     1. 수집할 정보는 곡정보에 있는 곡명과 가수명 이다.\n",
    "     2. pandas의 DataFrame형태로 ‘순위’를 기준으로 결과를 출력하여야 한다.\n",
    "     3. csv파일로 한글이 깨지지 않게 저장할 수 있는 코드를 작성하여야 한다.  \n",
    "       ※ 순위는 생성해야 한다.  \n",
    "       ※ csv파일은 제출할 필요가 없다(코드만 작성)"
   ]
  },
  {
   "cell_type": "code",
   "execution_count": null,
   "id": "411239d1",
   "metadata": {},
   "outputs": [],
   "source": [
    "# 수집할 정보는 곡정보에 있는 곡명과 가수명 이다.\n",
    "import pandas as pd\n",
    "import requests as req\n",
    "from bs4 import BeautifulSoup as bs\n",
    "\n",
    "header = {'user-agent' : 'Mozilla/5.0 (Windows NT 10.0; Win64; x64) AppleWebKit/537.36 (KHTML, like Gecko) Chrome/107.0.0.0 Safari/537.36'}\n",
    "url = 'https://www.melon.com/chart/'\n",
    "res = req.get(url, headers = header)\n",
    "res\n",
    "html = bs(res.text, 'lxml')\n",
    "html\n",
    "sing_lst = []\n",
    "singer_lst = []\n",
    "rank_lst = []\n",
    "\n",
    "sing = html.select('div.ellipsis.rank01>span>a')\n",
    "sing\n",
    "singer = html.select('div.ellipsis.rank02>a:first-child')\n",
    "singer\n",
    "for i in range(len(sing)):\n",
    "    rank_lst.append(i+1)\n",
    "    sing_lst.append(sing[i].text.strip())\n",
    "    singer_lst.append(singer[i].text.strip())"
   ]
  },
  {
   "cell_type": "code",
   "execution_count": null,
   "id": "2f584198",
   "metadata": {},
   "outputs": [],
   "source": [
    "# pandas의 DataFrame형태로 ‘순위’를 기준으로 결과를 출력하여야 한다.\n",
    "melon_dic = {'순위' : rank_lst, '곡명' : sing_lst, '가수명' : singer_lst}\n",
    "melon_dic\n",
    "melon_df = pd.DataFrame(melon_dic)\n",
    "melon_df2 = melon_df.set_index('순위')\n",
    "melon_df2"
   ]
  },
  {
   "cell_type": "code",
   "execution_count": null,
   "id": "637b3f55",
   "metadata": {},
   "outputs": [],
   "source": [
    "# csv파일로 한글이 깨지지 않게 저장할 수 있는 코드를 작성하여야 한다.\n",
    "melon_df2.to_csv('melonTop100.csv', encoding = 'utf-8-sig')"
   ]
  },
  {
   "cell_type": "markdown",
   "id": "86ab4fc1",
   "metadata": {},
   "source": [
    "----"
   ]
  },
  {
   "cell_type": "markdown",
   "id": "24a2827a",
   "metadata": {},
   "source": [
    "Question 5. 다음 문제를 읽고 알맞은 코드를 작성하시오.\n",
    " - 문제5) 자동제어를 통해 한솥 페이지에 접속하고 전체 메뉴의 메뉴명 가격정보를 수집할 수 있는 프로그램을 작성하세요. \n",
    "    * 페이지주소: https://www.hsd.co.kr/menu/menu_list\n",
    "    * 현재 주소에 띄워진 데이터를 수집하세요. (아래 이미지와 다를 수 있습니다)\n",
    "        \n",
    "    <조건>\n",
    "       1. 수집할 정보는 전체 메뉴의 메뉴명, 가격정보 이다.\n",
    "       2. pandas의 DataFrame형태로 결과를 출력하여야 한다.\n",
    "       3. csv파일로 한글이 깨지지 않게 저장할 수 있는 코드를 작성하여야 한다.  \n",
    "        ※ 코드를 실행했을 때 더보기 버튼을 끝까지 누른 후 정보를 수집해야 한다.  \n",
    "        ※ csv파일은 제출할 필요가 없다.(코드만 작성)  "
   ]
  },
  {
   "cell_type": "code",
   "execution_count": null,
   "id": "d77c1164",
   "metadata": {},
   "outputs": [],
   "source": [
    "# 수집할 정보는 전체 메뉴의 메뉴명, 가격정보 이다.\n",
    "import pandas as pd\n",
    "import requests as req\n",
    "from bs4 import BeautifulSoup as bs\n",
    "import matplotlib.pyplot as plt\n",
    "from selenium import webdriver as wb\n",
    "from selenium.webdriver.common.by import By\n",
    "from selenium.webdriver.common.keys import Keys\n",
    "import time\n",
    "\n",
    "url = 'https://www.hsd.co.kr/menu/menu_list'\n",
    "driver = wb.Chrome()\n",
    "driver.get(url)\n",
    "the_btn = driver.find_element(By.CSS_SELECTOR, value='.c_05')\n",
    "try:\n",
    "    while True : \n",
    "        the_btn.click()\n",
    "        time.sleep(1)\n",
    "except:\n",
    "    print(\"더보기 클릭 완료!!\")\n",
    "    \n",
    "menu = driver.find_elements(By.CSS_SELECTOR, value = 'div.item-spacer >div.item-text>h4')\n",
    "price = driver.find_elements(By.CSS_SELECTOR, value = 'div.item-spacer >div.item-text>div.item-price>strong')\n",
    "\n",
    "menu_lst = []\n",
    "price_lst = []\n",
    "for i in range(len(menu)):\n",
    "    menu_lst.append(menu[i].text.strip())\n",
    "    price_lst.append(price[i].text.strip())\n",
    "print(menu_lst)\n",
    "print(price_lst)"
   ]
  },
  {
   "cell_type": "code",
   "execution_count": null,
   "id": "2f9a19da",
   "metadata": {},
   "outputs": [],
   "source": [
    "# pandas의 DataFrame형태로 결과를 출력하여야 한다.\n",
    "menu_dic = {'메뉴명' : menu_lst, '가격' : price_lst}\n",
    "menu_df = pd.DataFrame(menu_dic)\n",
    "menu_df"
   ]
  },
  {
   "cell_type": "code",
   "execution_count": null,
   "id": "a93364b4",
   "metadata": {},
   "outputs": [],
   "source": [
    "# csv파일로 한글이 깨지지 않게 저장할 수 있는 코드를 작성하여야 한다.\n",
    "menu_df.to_csv('hansod_menu.csv', encoding = 'utf-8-sig')"
   ]
  }
 ],
 "metadata": {
  "kernelspec": {
   "display_name": "Python 3 (ipykernel)",
   "language": "python",
   "name": "python3"
  },
  "language_info": {
   "codemirror_mode": {
    "name": "ipython",
    "version": 3
   },
   "file_extension": ".py",
   "mimetype": "text/x-python",
   "name": "python",
   "nbconvert_exporter": "python",
   "pygments_lexer": "ipython3",
   "version": "3.9.13"
  },
  "toc": {
   "base_numbering": 1,
   "nav_menu": {
    "height": "62px",
    "width": "160px"
   },
   "number_sections": true,
   "sideBar": true,
   "skip_h1_title": false,
   "title_cell": "Table of Contents",
   "title_sidebar": "Contents",
   "toc_cell": false,
   "toc_position": {},
   "toc_section_display": true,
   "toc_window_display": false
  },
  "varInspector": {
   "cols": {
    "lenName": 16,
    "lenType": 16,
    "lenVar": 40
   },
   "kernels_config": {
    "python": {
     "delete_cmd_postfix": "",
     "delete_cmd_prefix": "del ",
     "library": "var_list.py",
     "varRefreshCmd": "print(var_dic_list())"
    },
    "r": {
     "delete_cmd_postfix": ") ",
     "delete_cmd_prefix": "rm(",
     "library": "var_list.r",
     "varRefreshCmd": "cat(var_dic_list()) "
    }
   },
   "types_to_exclude": [
    "module",
    "function",
    "builtin_function_or_method",
    "instance",
    "_Feature"
   ],
   "window_display": false
  }
 },
 "nbformat": 4,
 "nbformat_minor": 5
}
