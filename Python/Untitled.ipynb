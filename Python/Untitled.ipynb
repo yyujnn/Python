{
 "cells": [
  {
   "cell_type": "code",
   "execution_count": 1,
   "id": "8ae18e8a",
   "metadata": {
    "ExecuteTime": {
     "end_time": "2023-05-31T01:28:43.958441Z",
     "start_time": "2023-05-31T01:28:37.951931Z"
    },
    "collapsed": true
   },
   "outputs": [
    {
     "name": "stdout",
     "output_type": "stream",
     "text": [
      "Collecting jupyterthemes\n",
      "  Downloading jupyterthemes-0.20.0-py2.py3-none-any.whl (7.0 MB)\n",
      "     ---------------------------------------- 7.0/7.0 MB 10.9 MB/s eta 0:00:00\n",
      "Requirement already satisfied: notebook>=5.6.0 in c:\\users\\smhrd\\anaconda3\\lib\\site-packages (from jupyterthemes) (6.4.12)\n",
      "Requirement already satisfied: matplotlib>=1.4.3 in c:\\users\\smhrd\\anaconda3\\lib\\site-packages (from jupyterthemes) (3.5.2)\n",
      "Collecting lesscpy>=0.11.2\n",
      "  Downloading lesscpy-0.15.1-py2.py3-none-any.whl (46 kB)\n",
      "     ---------------------------------------- 46.7/46.7 kB ? eta 0:00:00\n",
      "Requirement already satisfied: jupyter-core in c:\\users\\smhrd\\anaconda3\\lib\\site-packages (from jupyterthemes) (4.11.1)\n",
      "Requirement already satisfied: ipython>=5.4.1 in c:\\users\\smhrd\\anaconda3\\lib\\site-packages (from jupyterthemes) (7.31.1)\n",
      "Requirement already satisfied: traitlets>=4.2 in c:\\users\\smhrd\\anaconda3\\lib\\site-packages (from ipython>=5.4.1->jupyterthemes) (5.1.1)\n",
      "Requirement already satisfied: jedi>=0.16 in c:\\users\\smhrd\\anaconda3\\lib\\site-packages (from ipython>=5.4.1->jupyterthemes) (0.18.1)\n",
      "Requirement already satisfied: backcall in c:\\users\\smhrd\\anaconda3\\lib\\site-packages (from ipython>=5.4.1->jupyterthemes) (0.2.0)\n",
      "Requirement already satisfied: pickleshare in c:\\users\\smhrd\\anaconda3\\lib\\site-packages (from ipython>=5.4.1->jupyterthemes) (0.7.5)\n",
      "Requirement already satisfied: matplotlib-inline in c:\\users\\smhrd\\anaconda3\\lib\\site-packages (from ipython>=5.4.1->jupyterthemes) (0.1.6)\n",
      "Requirement already satisfied: prompt-toolkit!=3.0.0,!=3.0.1,<3.1.0,>=2.0.0 in c:\\users\\smhrd\\anaconda3\\lib\\site-packages (from ipython>=5.4.1->jupyterthemes) (3.0.20)\n",
      "Requirement already satisfied: colorama in c:\\users\\smhrd\\anaconda3\\lib\\site-packages (from ipython>=5.4.1->jupyterthemes) (0.4.5)\n",
      "Requirement already satisfied: pygments in c:\\users\\smhrd\\anaconda3\\lib\\site-packages (from ipython>=5.4.1->jupyterthemes) (2.11.2)\n",
      "Requirement already satisfied: decorator in c:\\users\\smhrd\\anaconda3\\lib\\site-packages (from ipython>=5.4.1->jupyterthemes) (5.1.1)\n",
      "Requirement already satisfied: setuptools>=18.5 in c:\\users\\smhrd\\anaconda3\\lib\\site-packages (from ipython>=5.4.1->jupyterthemes) (63.4.1)\n",
      "Collecting ply\n",
      "  Downloading ply-3.11-py2.py3-none-any.whl (49 kB)\n",
      "     ---------------------------------------- 49.6/49.6 kB ? eta 0:00:00\n",
      "Requirement already satisfied: pyparsing>=2.2.1 in c:\\users\\smhrd\\anaconda3\\lib\\site-packages (from matplotlib>=1.4.3->jupyterthemes) (3.0.9)\n",
      "Requirement already satisfied: fonttools>=4.22.0 in c:\\users\\smhrd\\anaconda3\\lib\\site-packages (from matplotlib>=1.4.3->jupyterthemes) (4.25.0)\n",
      "Requirement already satisfied: pillow>=6.2.0 in c:\\users\\smhrd\\anaconda3\\lib\\site-packages (from matplotlib>=1.4.3->jupyterthemes) (9.2.0)\n",
      "Requirement already satisfied: cycler>=0.10 in c:\\users\\smhrd\\anaconda3\\lib\\site-packages (from matplotlib>=1.4.3->jupyterthemes) (0.11.0)\n",
      "Requirement already satisfied: python-dateutil>=2.7 in c:\\users\\smhrd\\anaconda3\\lib\\site-packages (from matplotlib>=1.4.3->jupyterthemes) (2.8.2)\n",
      "Requirement already satisfied: packaging>=20.0 in c:\\users\\smhrd\\anaconda3\\lib\\site-packages (from matplotlib>=1.4.3->jupyterthemes) (21.3)\n",
      "Requirement already satisfied: kiwisolver>=1.0.1 in c:\\users\\smhrd\\anaconda3\\lib\\site-packages (from matplotlib>=1.4.3->jupyterthemes) (1.4.2)\n",
      "Requirement already satisfied: numpy>=1.17 in c:\\users\\smhrd\\anaconda3\\lib\\site-packages (from matplotlib>=1.4.3->jupyterthemes) (1.21.5)\n",
      "Requirement already satisfied: prometheus-client in c:\\users\\smhrd\\anaconda3\\lib\\site-packages (from notebook>=5.6.0->jupyterthemes) (0.14.1)\n",
      "Requirement already satisfied: jupyter-client>=5.3.4 in c:\\users\\smhrd\\anaconda3\\lib\\site-packages (from notebook>=5.6.0->jupyterthemes) (7.3.4)\n",
      "Requirement already satisfied: jinja2 in c:\\users\\smhrd\\anaconda3\\lib\\site-packages (from notebook>=5.6.0->jupyterthemes) (2.11.3)\n",
      "Requirement already satisfied: nbformat in c:\\users\\smhrd\\anaconda3\\lib\\site-packages (from notebook>=5.6.0->jupyterthemes) (5.5.0)\n",
      "Requirement already satisfied: ipython-genutils in c:\\users\\smhrd\\anaconda3\\lib\\site-packages (from notebook>=5.6.0->jupyterthemes) (0.2.0)\n",
      "Requirement already satisfied: pyzmq>=17 in c:\\users\\smhrd\\anaconda3\\lib\\site-packages (from notebook>=5.6.0->jupyterthemes) (23.2.0)\n",
      "Requirement already satisfied: argon2-cffi in c:\\users\\smhrd\\anaconda3\\lib\\site-packages (from notebook>=5.6.0->jupyterthemes) (21.3.0)\n",
      "Requirement already satisfied: Send2Trash>=1.8.0 in c:\\users\\smhrd\\anaconda3\\lib\\site-packages (from notebook>=5.6.0->jupyterthemes) (1.8.0)\n",
      "Requirement already satisfied: ipykernel in c:\\users\\smhrd\\anaconda3\\lib\\site-packages (from notebook>=5.6.0->jupyterthemes) (6.15.2)\n",
      "Requirement already satisfied: nbconvert>=5 in c:\\users\\smhrd\\anaconda3\\lib\\site-packages (from notebook>=5.6.0->jupyterthemes) (6.4.4)\n",
      "Requirement already satisfied: tornado>=6.1 in c:\\users\\smhrd\\anaconda3\\lib\\site-packages (from notebook>=5.6.0->jupyterthemes) (6.1)\n",
      "Requirement already satisfied: terminado>=0.8.3 in c:\\users\\smhrd\\anaconda3\\lib\\site-packages (from notebook>=5.6.0->jupyterthemes) (0.13.1)\n",
      "Requirement already satisfied: nest-asyncio>=1.5 in c:\\users\\smhrd\\anaconda3\\lib\\site-packages (from notebook>=5.6.0->jupyterthemes) (1.5.5)\n",
      "Requirement already satisfied: pywin32>=1.0 in c:\\users\\smhrd\\anaconda3\\lib\\site-packages (from jupyter-core->jupyterthemes) (302)\n",
      "Requirement already satisfied: parso<0.9.0,>=0.8.0 in c:\\users\\smhrd\\anaconda3\\lib\\site-packages (from jedi>=0.16->ipython>=5.4.1->jupyterthemes) (0.8.3)\n",
      "Requirement already satisfied: entrypoints in c:\\users\\smhrd\\anaconda3\\lib\\site-packages (from jupyter-client>=5.3.4->notebook>=5.6.0->jupyterthemes) (0.4)\n",
      "Requirement already satisfied: defusedxml in c:\\users\\smhrd\\anaconda3\\lib\\site-packages (from nbconvert>=5->notebook>=5.6.0->jupyterthemes) (0.7.1)\n",
      "Requirement already satisfied: mistune<2,>=0.8.1 in c:\\users\\smhrd\\anaconda3\\lib\\site-packages (from nbconvert>=5->notebook>=5.6.0->jupyterthemes) (0.8.4)\n",
      "Requirement already satisfied: bleach in c:\\users\\smhrd\\anaconda3\\lib\\site-packages (from nbconvert>=5->notebook>=5.6.0->jupyterthemes) (4.1.0)\n",
      "Requirement already satisfied: pandocfilters>=1.4.1 in c:\\users\\smhrd\\anaconda3\\lib\\site-packages (from nbconvert>=5->notebook>=5.6.0->jupyterthemes) (1.5.0)\n",
      "Requirement already satisfied: testpath in c:\\users\\smhrd\\anaconda3\\lib\\site-packages (from nbconvert>=5->notebook>=5.6.0->jupyterthemes) (0.6.0)\n",
      "Requirement already satisfied: beautifulsoup4 in c:\\users\\smhrd\\anaconda3\\lib\\site-packages (from nbconvert>=5->notebook>=5.6.0->jupyterthemes) (4.11.1)\n",
      "Requirement already satisfied: jupyterlab-pygments in c:\\users\\smhrd\\anaconda3\\lib\\site-packages (from nbconvert>=5->notebook>=5.6.0->jupyterthemes) (0.1.2)\n",
      "Requirement already satisfied: nbclient<0.6.0,>=0.5.0 in c:\\users\\smhrd\\anaconda3\\lib\\site-packages (from nbconvert>=5->notebook>=5.6.0->jupyterthemes) (0.5.13)\n",
      "Requirement already satisfied: MarkupSafe>=0.23 in c:\\users\\smhrd\\anaconda3\\lib\\site-packages (from jinja2->notebook>=5.6.0->jupyterthemes) (2.0.1)\n",
      "Requirement already satisfied: jsonschema>=2.6 in c:\\users\\smhrd\\anaconda3\\lib\\site-packages (from nbformat->notebook>=5.6.0->jupyterthemes) (4.16.0)\n",
      "Requirement already satisfied: fastjsonschema in c:\\users\\smhrd\\anaconda3\\lib\\site-packages (from nbformat->notebook>=5.6.0->jupyterthemes) (2.16.2)\n",
      "Requirement already satisfied: wcwidth in c:\\users\\smhrd\\anaconda3\\lib\\site-packages (from prompt-toolkit!=3.0.0,!=3.0.1,<3.1.0,>=2.0.0->ipython>=5.4.1->jupyterthemes) (0.2.5)\n",
      "Requirement already satisfied: six>=1.5 in c:\\users\\smhrd\\anaconda3\\lib\\site-packages (from python-dateutil>=2.7->matplotlib>=1.4.3->jupyterthemes) (1.16.0)\n",
      "Requirement already satisfied: pywinpty>=1.1.0 in c:\\users\\smhrd\\anaconda3\\lib\\site-packages (from terminado>=0.8.3->notebook>=5.6.0->jupyterthemes) (2.0.2)\n",
      "Requirement already satisfied: argon2-cffi-bindings in c:\\users\\smhrd\\anaconda3\\lib\\site-packages (from argon2-cffi->notebook>=5.6.0->jupyterthemes) (21.2.0)\n",
      "Requirement already satisfied: psutil in c:\\users\\smhrd\\anaconda3\\lib\\site-packages (from ipykernel->notebook>=5.6.0->jupyterthemes) (5.9.0)\n",
      "Requirement already satisfied: debugpy>=1.0 in c:\\users\\smhrd\\anaconda3\\lib\\site-packages (from ipykernel->notebook>=5.6.0->jupyterthemes) (1.5.1)\n",
      "Requirement already satisfied: attrs>=17.4.0 in c:\\users\\smhrd\\anaconda3\\lib\\site-packages (from jsonschema>=2.6->nbformat->notebook>=5.6.0->jupyterthemes) (21.4.0)\n",
      "Requirement already satisfied: pyrsistent!=0.17.0,!=0.17.1,!=0.17.2,>=0.14.0 in c:\\users\\smhrd\\anaconda3\\lib\\site-packages (from jsonschema>=2.6->nbformat->notebook>=5.6.0->jupyterthemes) (0.18.0)\n",
      "Requirement already satisfied: cffi>=1.0.1 in c:\\users\\smhrd\\anaconda3\\lib\\site-packages (from argon2-cffi-bindings->argon2-cffi->notebook>=5.6.0->jupyterthemes) (1.15.1)\n",
      "Requirement already satisfied: soupsieve>1.2 in c:\\users\\smhrd\\anaconda3\\lib\\site-packages (from beautifulsoup4->nbconvert>=5->notebook>=5.6.0->jupyterthemes) (2.3.1)\n",
      "Requirement already satisfied: webencodings in c:\\users\\smhrd\\anaconda3\\lib\\site-packages (from bleach->nbconvert>=5->notebook>=5.6.0->jupyterthemes) (0.5.1)\n",
      "Requirement already satisfied: pycparser in c:\\users\\smhrd\\anaconda3\\lib\\site-packages (from cffi>=1.0.1->argon2-cffi-bindings->argon2-cffi->notebook>=5.6.0->jupyterthemes) (2.21)\n",
      "Installing collected packages: ply, lesscpy, jupyterthemes\n",
      "Successfully installed jupyterthemes-0.20.0 lesscpy-0.15.1 ply-3.11\n"
     ]
    }
   ],
   "source": [
    "!pip install jupyterthemes"
   ]
  },
  {
   "cell_type": "code",
   "execution_count": 3,
   "id": "bd14162d",
   "metadata": {
    "ExecuteTime": {
     "end_time": "2023-05-31T01:30:20.897860Z",
     "start_time": "2023-05-31T01:30:20.213389Z"
    }
   },
   "outputs": [],
   "source": [
    "!jt -f roboto"
   ]
  },
  {
   "cell_type": "code",
   "execution_count": null,
   "id": "56819930",
   "metadata": {},
   "outputs": [],
   "source": []
  }
 ],
 "metadata": {
  "kernelspec": {
   "display_name": "Python 3 (ipykernel)",
   "language": "python",
   "name": "python3"
  },
  "language_info": {
   "codemirror_mode": {
    "name": "ipython",
    "version": 3
   },
   "file_extension": ".py",
   "mimetype": "text/x-python",
   "name": "python",
   "nbconvert_exporter": "python",
   "pygments_lexer": "ipython3",
   "version": "3.9.13"
  },
  "toc": {
   "base_numbering": 1,
   "nav_menu": {},
   "number_sections": true,
   "sideBar": true,
   "skip_h1_title": false,
   "title_cell": "Table of Contents",
   "title_sidebar": "Contents",
   "toc_cell": false,
   "toc_position": {},
   "toc_section_display": true,
   "toc_window_display": false
  },
  "varInspector": {
   "cols": {
    "lenName": 16,
    "lenType": 16,
    "lenVar": 40
   },
   "kernels_config": {
    "python": {
     "delete_cmd_postfix": "",
     "delete_cmd_prefix": "del ",
     "library": "var_list.py",
     "varRefreshCmd": "print(var_dic_list())"
    },
    "r": {
     "delete_cmd_postfix": ") ",
     "delete_cmd_prefix": "rm(",
     "library": "var_list.r",
     "varRefreshCmd": "cat(var_dic_list()) "
    }
   },
   "types_to_exclude": [
    "module",
    "function",
    "builtin_function_or_method",
    "instance",
    "_Feature"
   ],
   "window_display": false
  }
 },
 "nbformat": 4,
 "nbformat_minor": 5
}
