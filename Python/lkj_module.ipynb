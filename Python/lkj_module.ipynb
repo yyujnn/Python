{
 "cells": [
  {
   "cell_type": "markdown",
   "id": "f61f82d7",
   "metadata": {},
   "source": [
    "### 더하기 함수"
   ]
  },
  {
   "cell_type": "code",
   "execution_count": 1,
   "id": "c202b111",
   "metadata": {
    "ExecuteTime": {
     "end_time": "2023-03-20T02:39:20.732265Z",
     "start_time": "2023-03-20T02:39:20.722292Z"
    }
   },
   "outputs": [],
   "source": [
    "def add (num1, num2) :\n",
    "    return num1+num2"
   ]
  },
  {
   "cell_type": "markdown",
   "id": "187e2267",
   "metadata": {},
   "source": [
    "### 빼기 함수"
   ]
  },
  {
   "cell_type": "code",
   "execution_count": 2,
   "id": "7f74aca2",
   "metadata": {
    "ExecuteTime": {
     "end_time": "2023-03-20T02:39:41.389531Z",
     "start_time": "2023-03-20T02:39:41.369413Z"
    }
   },
   "outputs": [],
   "source": [
    "def minus (num1, num2) :\n",
    "    return num1-num2"
   ]
  },
  {
   "cell_type": "markdown",
   "id": "23788c17",
   "metadata": {},
   "source": [
    "### 곱하기 함수"
   ]
  },
  {
   "cell_type": "code",
   "execution_count": 3,
   "id": "1befdad3",
   "metadata": {
    "ExecuteTime": {
     "end_time": "2023-03-20T02:39:57.167454Z",
     "start_time": "2023-03-20T02:39:57.161470Z"
    }
   },
   "outputs": [],
   "source": [
    "def mult (num1, num2) :\n",
    "    return num1*num2"
   ]
  },
  {
   "cell_type": "markdown",
   "id": "01cf3408",
   "metadata": {},
   "source": [
    "### 나누기 함수"
   ]
  },
  {
   "cell_type": "code",
   "execution_count": 4,
   "id": "43b9bb1c",
   "metadata": {
    "ExecuteTime": {
     "end_time": "2023-03-20T02:40:07.164457Z",
     "start_time": "2023-03-20T02:40:07.148590Z"
    }
   },
   "outputs": [],
   "source": [
    "def div (num1, num2) :\n",
    "    return num1/num2"
   ]
  },
  {
   "cell_type": "code",
   "execution_count": null,
   "id": "5a7a2404",
   "metadata": {},
   "outputs": [],
   "source": []
  },
  {
   "cell_type": "code",
   "execution_count": null,
   "id": "211b636c",
   "metadata": {},
   "outputs": [],
   "source": []
  },
  {
   "cell_type": "code",
   "execution_count": null,
   "id": "dbb7c62b",
   "metadata": {},
   "outputs": [],
   "source": []
  },
  {
   "cell_type": "code",
   "execution_count": null,
   "id": "b0b37e55",
   "metadata": {},
   "outputs": [],
   "source": []
  },
  {
   "cell_type": "code",
   "execution_count": null,
   "id": "35e158b4",
   "metadata": {},
   "outputs": [],
   "source": []
  },
  {
   "cell_type": "code",
   "execution_count": null,
   "id": "012adb63",
   "metadata": {},
   "outputs": [],
   "source": []
  },
  {
   "cell_type": "code",
   "execution_count": null,
   "id": "d336ae4a",
   "metadata": {},
   "outputs": [],
   "source": []
  },
  {
   "cell_type": "code",
   "execution_count": null,
   "id": "2c4d0da8",
   "metadata": {},
   "outputs": [],
   "source": []
  },
  {
   "cell_type": "code",
   "execution_count": null,
   "id": "a4b37e89",
   "metadata": {},
   "outputs": [],
   "source": []
  },
  {
   "cell_type": "code",
   "execution_count": null,
   "id": "ee7491e2",
   "metadata": {},
   "outputs": [],
   "source": []
  },
  {
   "cell_type": "code",
   "execution_count": null,
   "id": "5b7459e6",
   "metadata": {},
   "outputs": [],
   "source": []
  },
  {
   "cell_type": "code",
   "execution_count": null,
   "id": "8d6585ae",
   "metadata": {},
   "outputs": [],
   "source": []
  },
  {
   "cell_type": "code",
   "execution_count": null,
   "id": "de4fe1cc",
   "metadata": {},
   "outputs": [],
   "source": []
  },
  {
   "cell_type": "code",
   "execution_count": null,
   "id": "7d86434b",
   "metadata": {},
   "outputs": [],
   "source": []
  },
  {
   "cell_type": "code",
   "execution_count": null,
   "id": "4a2a600e",
   "metadata": {},
   "outputs": [],
   "source": []
  },
  {
   "cell_type": "code",
   "execution_count": null,
   "id": "3e94c15c",
   "metadata": {},
   "outputs": [],
   "source": []
  },
  {
   "cell_type": "code",
   "execution_count": null,
   "id": "4fc9d5a5",
   "metadata": {},
   "outputs": [],
   "source": []
  }
 ],
 "metadata": {
  "kernelspec": {
   "display_name": "Python 3 (ipykernel)",
   "language": "python",
   "name": "python3"
  },
  "language_info": {
   "codemirror_mode": {
    "name": "ipython",
    "version": 3
   },
   "file_extension": ".py",
   "mimetype": "text/x-python",
   "name": "python",
   "nbconvert_exporter": "python",
   "pygments_lexer": "ipython3",
   "version": "3.9.13"
  },
  "toc": {
   "base_numbering": 1,
   "nav_menu": {},
   "number_sections": true,
   "sideBar": true,
   "skip_h1_title": false,
   "title_cell": "Table of Contents",
   "title_sidebar": "Contents",
   "toc_cell": false,
   "toc_position": {},
   "toc_section_display": true,
   "toc_window_display": false
  },
  "varInspector": {
   "cols": {
    "lenName": 16,
    "lenType": 16,
    "lenVar": 40
   },
   "kernels_config": {
    "python": {
     "delete_cmd_postfix": "",
     "delete_cmd_prefix": "del ",
     "library": "var_list.py",
     "varRefreshCmd": "print(var_dic_list())"
    },
    "r": {
     "delete_cmd_postfix": ") ",
     "delete_cmd_prefix": "rm(",
     "library": "var_list.r",
     "varRefreshCmd": "cat(var_dic_list()) "
    }
   },
   "types_to_exclude": [
    "module",
    "function",
    "builtin_function_or_method",
    "instance",
    "_Feature"
   ],
   "window_display": false
  }
 },
 "nbformat": 4,
 "nbformat_minor": 5
}
