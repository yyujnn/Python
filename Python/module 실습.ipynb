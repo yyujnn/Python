{
 "cells": [
  {
   "cell_type": "code",
   "execution_count": 1,
   "id": "c5475493",
   "metadata": {
    "ExecuteTime": {
     "end_time": "2023-03-20T02:46:38.818259Z",
     "start_time": "2023-03-20T02:46:38.798672Z"
    }
   },
   "outputs": [],
   "source": [
    "#모듈 사용하기\n",
    "#모듈 불러오기\n",
    "import lkj_module as lm"
   ]
  },
  {
   "cell_type": "code",
   "execution_count": 2,
   "id": "0331bc16",
   "metadata": {
    "ExecuteTime": {
     "end_time": "2023-03-20T02:47:59.014206Z",
     "start_time": "2023-03-20T02:47:58.989576Z"
    }
   },
   "outputs": [
    {
     "data": {
      "text/plain": [
       "8"
      ]
     },
     "execution_count": 2,
     "metadata": {},
     "output_type": "execute_result"
    }
   ],
   "source": [
    "#더하기 기능 실행해보기\n",
    "lm.add(3, 5)"
   ]
  },
  {
   "cell_type": "code",
   "execution_count": 6,
   "id": "1b29c887",
   "metadata": {
    "ExecuteTime": {
     "end_time": "2023-03-20T02:49:00.740023Z",
     "start_time": "2023-03-20T02:49:00.725843Z"
    }
   },
   "outputs": [
    {
     "data": {
      "text/plain": [
       "15"
      ]
     },
     "execution_count": 6,
     "metadata": {},
     "output_type": "execute_result"
    }
   ],
   "source": [
    "lm.minus(20, 5)"
   ]
  },
  {
   "cell_type": "code",
   "execution_count": 8,
   "id": "3602a40e",
   "metadata": {
    "ExecuteTime": {
     "end_time": "2023-03-20T02:49:58.993013Z",
     "start_time": "2023-03-20T02:49:58.982505Z"
    }
   },
   "outputs": [],
   "source": [
    "# 모듈에서 특정 기능 하나만 꺼내오기\n",
    "\n",
    "from lkj_module import mult"
   ]
  },
  {
   "cell_type": "code",
   "execution_count": 10,
   "id": "4c48c81a",
   "metadata": {
    "ExecuteTime": {
     "end_time": "2023-03-20T02:50:14.722367Z",
     "start_time": "2023-03-20T02:50:14.710328Z"
    }
   },
   "outputs": [
    {
     "data": {
      "text/plain": [
       "21"
      ]
     },
     "execution_count": 10,
     "metadata": {},
     "output_type": "execute_result"
    }
   ],
   "source": [
    "mult(3, 7)"
   ]
  },
  {
   "cell_type": "code",
   "execution_count": null,
   "id": "7aa2efc1",
   "metadata": {},
   "outputs": [],
   "source": []
  },
  {
   "cell_type": "code",
   "execution_count": null,
   "id": "57421423",
   "metadata": {},
   "outputs": [],
   "source": []
  },
  {
   "cell_type": "code",
   "execution_count": null,
   "id": "51c6326c",
   "metadata": {},
   "outputs": [],
   "source": []
  },
  {
   "cell_type": "code",
   "execution_count": null,
   "id": "48c60d66",
   "metadata": {},
   "outputs": [],
   "source": []
  },
  {
   "cell_type": "code",
   "execution_count": null,
   "id": "5a3e7c01",
   "metadata": {},
   "outputs": [],
   "source": []
  },
  {
   "cell_type": "code",
   "execution_count": null,
   "id": "28f039ee",
   "metadata": {},
   "outputs": [],
   "source": []
  },
  {
   "cell_type": "code",
   "execution_count": null,
   "id": "83790b31",
   "metadata": {},
   "outputs": [],
   "source": []
  },
  {
   "cell_type": "code",
   "execution_count": null,
   "id": "cb763f78",
   "metadata": {},
   "outputs": [],
   "source": []
  },
  {
   "cell_type": "code",
   "execution_count": null,
   "id": "4303898f",
   "metadata": {},
   "outputs": [],
   "source": []
  },
  {
   "cell_type": "code",
   "execution_count": null,
   "id": "ebd72f4c",
   "metadata": {},
   "outputs": [],
   "source": []
  },
  {
   "cell_type": "code",
   "execution_count": null,
   "id": "5c534d06",
   "metadata": {},
   "outputs": [],
   "source": []
  },
  {
   "cell_type": "code",
   "execution_count": null,
   "id": "c953e535",
   "metadata": {},
   "outputs": [],
   "source": []
  },
  {
   "cell_type": "code",
   "execution_count": null,
   "id": "7f27bb33",
   "metadata": {},
   "outputs": [],
   "source": []
  }
 ],
 "metadata": {
  "kernelspec": {
   "display_name": "Python 3 (ipykernel)",
   "language": "python",
   "name": "python3"
  },
  "language_info": {
   "codemirror_mode": {
    "name": "ipython",
    "version": 3
   },
   "file_extension": ".py",
   "mimetype": "text/x-python",
   "name": "python",
   "nbconvert_exporter": "python",
   "pygments_lexer": "ipython3",
   "version": "3.9.13"
  },
  "toc": {
   "base_numbering": 1,
   "nav_menu": {},
   "number_sections": true,
   "sideBar": true,
   "skip_h1_title": false,
   "title_cell": "Table of Contents",
   "title_sidebar": "Contents",
   "toc_cell": false,
   "toc_position": {},
   "toc_section_display": true,
   "toc_window_display": false
  },
  "varInspector": {
   "cols": {
    "lenName": 16,
    "lenType": 16,
    "lenVar": 40
   },
   "kernels_config": {
    "python": {
     "delete_cmd_postfix": "",
     "delete_cmd_prefix": "del ",
     "library": "var_list.py",
     "varRefreshCmd": "print(var_dic_list())"
    },
    "r": {
     "delete_cmd_postfix": ") ",
     "delete_cmd_prefix": "rm(",
     "library": "var_list.r",
     "varRefreshCmd": "cat(var_dic_list()) "
    }
   },
   "types_to_exclude": [
    "module",
    "function",
    "builtin_function_or_method",
    "instance",
    "_Feature"
   ],
   "window_display": false
  }
 },
 "nbformat": 4,
 "nbformat_minor": 5
}
