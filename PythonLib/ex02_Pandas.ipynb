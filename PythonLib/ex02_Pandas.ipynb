{
 "cells": [
  {
   "cell_type": "markdown",
   "id": "11bd0800",
   "metadata": {},
   "source": [
    "### Pandas 객체(자료구조)\n",
    "- 1차원 : 시리즈(Series)\n",
    "- 2차원 : 데이터프레임(DataFrame)"
   ]
  },
  {
   "cell_type": "code",
   "execution_count": 1,
   "id": "9cde578a",
   "metadata": {
    "ExecuteTime": {
     "end_time": "2023-03-22T00:04:17.686120Z",
     "start_time": "2023-03-22T00:04:17.163561Z"
    }
   },
   "outputs": [],
   "source": [
    "# pandas 모듈을 불러와서 pd라는 별칭으로 사용하겠다.\n",
    "import pandas as pd"
   ]
  },
  {
   "cell_type": "code",
   "execution_count": 2,
   "id": "c0b4d9b7",
   "metadata": {
    "ExecuteTime": {
     "end_time": "2023-03-22T00:04:17.701437Z",
     "start_time": "2023-03-22T00:04:17.686120Z"
    }
   },
   "outputs": [
    {
     "data": {
      "text/plain": [
       "0    9602000\n",
       "1    3344000\n",
       "2    1488000\n",
       "3    2419000\n",
       "dtype: int64"
      ]
     },
     "execution_count": 2,
     "metadata": {},
     "output_type": "execute_result"
    }
   ],
   "source": [
    "# 1차원 시리즈 생성\n",
    "# list 사용하여 Series 생성\n",
    "# 도시별 인구수 나타내는 Series 생성\n",
    "pop = pd.Series([9602000, 3344000, 1488000, 2419000])\n",
    "pop"
   ]
  },
  {
   "cell_type": "code",
   "execution_count": 3,
   "id": "4b9da14b",
   "metadata": {
    "ExecuteTime": {
     "end_time": "2023-03-22T00:04:17.716995Z",
     "start_time": "2023-03-22T00:04:17.701932Z"
    }
   },
   "outputs": [
    {
     "data": {
      "text/plain": [
       "서울    9602000\n",
       "부산    3344000\n",
       "광주    1488000\n",
       "대구    2419000\n",
       "dtype: int64"
      ]
     },
     "execution_count": 3,
     "metadata": {},
     "output_type": "execute_result"
    }
   ],
   "source": [
    "# 시리즈 데이터에 인덱스를 지정하기\n",
    "pop = pd.Series([9602000, 3344000, 1488000, 2419000], index = ['서울', '부산', '광주', '대구'])\n",
    "pop"
   ]
  },
  {
   "cell_type": "code",
   "execution_count": 4,
   "id": "90d704a8",
   "metadata": {
    "ExecuteTime": {
     "end_time": "2023-03-22T00:04:17.732775Z",
     "start_time": "2023-03-22T00:04:17.718991Z"
    }
   },
   "outputs": [
    {
     "data": {
      "text/plain": [
       "서울    605.2\n",
       "부산    770.1\n",
       "광주    501.1\n",
       "대구    883.5\n",
       "dtype: float64"
      ]
     },
     "execution_count": 4,
     "metadata": {},
     "output_type": "execute_result"
    }
   ],
   "source": [
    "# 딕셔너리를 이용해서 시리즈 생성해보기\n",
    "# 면적에 대한 정보 생성\n",
    "area = pd.Series({'서울':605.2, '부산':770.1, '광주':501.1, '대구':883.5})\n",
    "area"
   ]
  },
  {
   "cell_type": "markdown",
   "id": "84a9ab6d",
   "metadata": {},
   "source": [
    "- 데이터 속성 확인"
   ]
  },
  {
   "cell_type": "code",
   "execution_count": 5,
   "id": "505a8821",
   "metadata": {
    "ExecuteTime": {
     "end_time": "2023-03-22T00:04:17.753365Z",
     "start_time": "2023-03-22T00:04:17.734747Z"
    }
   },
   "outputs": [
    {
     "data": {
      "text/plain": [
       "array([9602000, 3344000, 1488000, 2419000], dtype=int64)"
      ]
     },
     "execution_count": 5,
     "metadata": {},
     "output_type": "execute_result"
    }
   ],
   "source": [
    "# 1. value값만 확인하고 싶을 때 \n",
    "pop.values  # 출력 결과의 형태 : Numpy 배열"
   ]
  },
  {
   "cell_type": "code",
   "execution_count": 6,
   "id": "a5f7fec0",
   "metadata": {
    "ExecuteTime": {
     "end_time": "2023-03-22T00:04:17.770024Z",
     "start_time": "2023-03-22T00:04:17.754860Z"
    }
   },
   "outputs": [
    {
     "data": {
      "text/plain": [
       "Index(['서울', '부산', '광주', '대구'], dtype='object')"
      ]
     },
     "execution_count": 6,
     "metadata": {},
     "output_type": "execute_result"
    }
   ],
   "source": [
    "# 2. 시리즈의 인덱스 값을 확인하고 싶을 때\n",
    "pop.index # object ==> 문자열 자료형"
   ]
  },
  {
   "cell_type": "code",
   "execution_count": 7,
   "id": "51fe8704",
   "metadata": {
    "ExecuteTime": {
     "end_time": "2023-03-22T00:04:17.787675Z",
     "start_time": "2023-03-22T00:04:17.772018Z"
    }
   },
   "outputs": [
    {
     "data": {
      "text/plain": [
       "dtype('float64')"
      ]
     },
     "execution_count": 7,
     "metadata": {},
     "output_type": "execute_result"
    }
   ],
   "source": [
    "#3. 시리즈의 데이터 타입 확인\n",
    "pop.dtype\n",
    "area.dtype"
   ]
  },
  {
   "cell_type": "markdown",
   "id": "73fef51f",
   "metadata": {},
   "source": [
    "#### 시리즈 이름 지정\n",
    "- 시리즈의 이름은 DataFrame의 컬럼명이 된다"
   ]
  },
  {
   "cell_type": "code",
   "execution_count": 8,
   "id": "295a2826",
   "metadata": {
    "ExecuteTime": {
     "end_time": "2023-03-22T00:04:17.804505Z",
     "start_time": "2023-03-22T00:04:17.789232Z"
    }
   },
   "outputs": [
    {
     "data": {
      "text/plain": [
       "서울    9602000\n",
       "부산    3344000\n",
       "광주    1488000\n",
       "대구    2419000\n",
       "dtype: int64"
      ]
     },
     "execution_count": 8,
     "metadata": {},
     "output_type": "execute_result"
    }
   ],
   "source": [
    "pop"
   ]
  },
  {
   "cell_type": "code",
   "execution_count": 9,
   "id": "6207fc36",
   "metadata": {
    "ExecuteTime": {
     "end_time": "2023-03-22T00:04:17.815615Z",
     "start_time": "2023-03-22T00:04:17.805506Z"
    }
   },
   "outputs": [
    {
     "data": {
      "text/plain": [
       "서울    9602000\n",
       "부산    3344000\n",
       "광주    1488000\n",
       "대구    2419000\n",
       "Name: 2020 인구, dtype: int64"
      ]
     },
     "execution_count": 9,
     "metadata": {},
     "output_type": "execute_result"
    }
   ],
   "source": [
    "pop.name = '2020 인구'\n",
    "pop"
   ]
  },
  {
   "cell_type": "code",
   "execution_count": 10,
   "id": "e4121838",
   "metadata": {
    "ExecuteTime": {
     "end_time": "2023-03-22T00:04:17.830796Z",
     "start_time": "2023-03-22T00:04:17.815615Z"
    }
   },
   "outputs": [
    {
     "data": {
      "text/plain": [
       "도시\n",
       "서울    9602000\n",
       "부산    3344000\n",
       "광주    1488000\n",
       "대구    2419000\n",
       "Name: 2020 인구, dtype: int64"
      ]
     },
     "execution_count": 10,
     "metadata": {},
     "output_type": "execute_result"
    }
   ],
   "source": [
    "pop.index.name = '도시'\n",
    "pop"
   ]
  },
  {
   "cell_type": "markdown",
   "id": "20ab98ac",
   "metadata": {},
   "source": [
    "#### 시리즈 데이터 갱신(수정), 삭제, 추가"
   ]
  },
  {
   "cell_type": "code",
   "execution_count": 11,
   "id": "ee3036a0",
   "metadata": {
    "ExecuteTime": {
     "end_time": "2023-03-22T00:04:17.841809Z",
     "start_time": "2023-03-22T00:04:17.832790Z"
    }
   },
   "outputs": [
    {
     "data": {
      "text/plain": [
       "지역\n",
       "서울    9602000\n",
       "부산    3344000\n",
       "광주    1488000\n",
       "대구    2419000\n",
       "Name: 2020 인구, dtype: int64"
      ]
     },
     "execution_count": 11,
     "metadata": {},
     "output_type": "execute_result"
    }
   ],
   "source": [
    "# 갱신(수정)\n",
    "# 1. 인덱스 위치 접근\n",
    "# 2. 값을 대입\n",
    "pop.index.name = '지역'\n",
    "pop"
   ]
  },
  {
   "cell_type": "code",
   "execution_count": 12,
   "id": "828ad3c9",
   "metadata": {
    "ExecuteTime": {
     "end_time": "2023-03-22T00:04:17.857432Z",
     "start_time": "2023-03-22T00:04:17.841809Z"
    }
   },
   "outputs": [
    {
     "data": {
      "text/plain": [
       "지역\n",
       "서울    9602000\n",
       "부산    3500000\n",
       "광주    1488000\n",
       "대구    2419000\n",
       "Name: 2020 인구, dtype: int64"
      ]
     },
     "execution_count": 12,
     "metadata": {},
     "output_type": "execute_result"
    }
   ],
   "source": [
    "# 부산 데이터를 3500000으로 수정\n",
    "pop['부산'] = 3500000\n",
    "pop"
   ]
  },
  {
   "cell_type": "code",
   "execution_count": 13,
   "id": "9f3d4d50",
   "metadata": {
    "ExecuteTime": {
     "end_time": "2023-03-22T00:04:17.869972Z",
     "start_time": "2023-03-22T00:04:17.859427Z"
    }
   },
   "outputs": [],
   "source": [
    "# 삭제 : drop()\n",
    "# 광주 도시 삭제\n",
    "pop.drop('광주',inplace = True) \n",
    "# inplace = False : 데이터를 삭제하고 초기화를 시켜주지 않음\n",
    "# pop = pop.drop('광주')\n",
    "# inplace = True : : 데이터를 삭제하고 원래 위치에 반영(초기화)"
   ]
  },
  {
   "cell_type": "code",
   "execution_count": 14,
   "id": "78b46445",
   "metadata": {
    "ExecuteTime": {
     "end_time": "2023-03-22T00:04:17.884811Z",
     "start_time": "2023-03-22T00:04:17.869972Z"
    }
   },
   "outputs": [
    {
     "data": {
      "text/plain": [
       "지역\n",
       "서울    9602000\n",
       "부산    3500000\n",
       "대구    2419000\n",
       "Name: 2020 인구, dtype: int64"
      ]
     },
     "execution_count": 14,
     "metadata": {},
     "output_type": "execute_result"
    }
   ],
   "source": [
    "pop "
   ]
  },
  {
   "cell_type": "code",
   "execution_count": 15,
   "id": "e6942454",
   "metadata": {
    "ExecuteTime": {
     "end_time": "2023-03-22T00:04:17.900768Z",
     "start_time": "2023-03-22T00:04:17.886805Z"
    }
   },
   "outputs": [
    {
     "data": {
      "text/plain": [
       "지역\n",
       "서울    9602000\n",
       "부산    3500000\n",
       "대구    2419000\n",
       "거제     250000\n",
       "Name: 2020 인구, dtype: int64"
      ]
     },
     "execution_count": 15,
     "metadata": {},
     "output_type": "execute_result"
    }
   ],
   "source": [
    "# 추가 : 없는 키 값 불러주고 값을 대입\n",
    "# '거제' : 250000\n",
    "pop['거제'] = 250000\n",
    "pop"
   ]
  },
  {
   "cell_type": "code",
   "execution_count": 16,
   "id": "981840cc",
   "metadata": {
    "ExecuteTime": {
     "end_time": "2023-03-22T00:04:17.915728Z",
     "start_time": "2023-03-22T00:04:17.902762Z"
    }
   },
   "outputs": [
    {
     "data": {
      "text/plain": [
       "도시\n",
       "서울    9602000\n",
       "부산    3344000\n",
       "대구    2419000\n",
       "거제     250000\n",
       "천안     660000\n",
       "Name: 2020 인구, dtype: int64"
      ]
     },
     "execution_count": 16,
     "metadata": {},
     "output_type": "execute_result"
    }
   ],
   "source": [
    "# 인덱스 이름 변경 : 지역 ==> 도시\n",
    "pop.index.name = '도시'\n",
    "\n",
    "# 천안 데이터 추가 : '천안' : 660000\n",
    "pop['천안'] = 660000\n",
    "\n",
    "# 부산 데이터 수정 ==> 3344000\n",
    "pop['부산'] = 3344000\n",
    "pop"
   ]
  },
  {
   "cell_type": "code",
   "execution_count": 17,
   "id": "a3d2d367",
   "metadata": {
    "ExecuteTime": {
     "end_time": "2023-03-22T00:04:17.931685Z",
     "start_time": "2023-03-22T00:04:17.917722Z"
    }
   },
   "outputs": [
    {
     "data": {
      "text/plain": [
       "서울    605.2\n",
       "부산    770.1\n",
       "광주    501.1\n",
       "대구    883.5\n",
       "dtype: float64"
      ]
     },
     "execution_count": 17,
     "metadata": {},
     "output_type": "execute_result"
    }
   ],
   "source": [
    "area"
   ]
  },
  {
   "cell_type": "code",
   "execution_count": 18,
   "id": "80aeac25",
   "metadata": {
    "ExecuteTime": {
     "end_time": "2023-03-22T00:04:17.947584Z",
     "start_time": "2023-03-22T00:04:17.933680Z"
    }
   },
   "outputs": [
    {
     "data": {
      "text/plain": [
       "도시\n",
       "서울    605.2\n",
       "부산    770.1\n",
       "대구    883.5\n",
       "거제    501.1\n",
       "천안    450.1\n",
       "Name: 면적(㎢), dtype: float64"
      ]
     },
     "execution_count": 18,
     "metadata": {},
     "output_type": "execute_result"
    }
   ],
   "source": [
    "# 인덱스 이름 설정 = > 도시\n",
    "area.index.name = '도시'\n",
    "\n",
    "# 시리즈 이름 설정 => 면적(㎢)\n",
    "area.name ='면적(㎢)'\n",
    "\n",
    "# 데이터 수정(광주 -> 거제, 천안-> 450.1 추가 )\n",
    "area.drop('광주',inplace=True)\n",
    "\n",
    "area['거제'] = 501.1\n",
    "area['천안'] = 450.1 \n",
    "area"
   ]
  },
  {
   "cell_type": "markdown",
   "id": "f07227ca",
   "metadata": {},
   "source": [
    "#### 시리즈 병합(concat)\n",
    "- 1차원을 연결하여 2차원으로 변환\n",
    "- 시리즈의 이름이 데이터프레임의 컬럼명이 되는지 확인"
   ]
  },
  {
   "cell_type": "code",
   "execution_count": 19,
   "id": "05054957",
   "metadata": {
    "ExecuteTime": {
     "end_time": "2023-03-22T00:04:17.963542Z",
     "start_time": "2023-03-22T00:04:17.949579Z"
    }
   },
   "outputs": [
    {
     "data": {
      "text/plain": [
       "도시\n",
       "서울    9602000.0\n",
       "부산    3344000.0\n",
       "대구    2419000.0\n",
       "거제     250000.0\n",
       "천안     660000.0\n",
       "서울        605.2\n",
       "부산        770.1\n",
       "대구        883.5\n",
       "거제        501.1\n",
       "천안        450.1\n",
       "dtype: float64"
      ]
     },
     "execution_count": 19,
     "metadata": {},
     "output_type": "execute_result"
    }
   ],
   "source": [
    "# axis = 0 : 행방향 (수직방향)\n",
    "# axis =1 : 열방향 (수평방향)\n",
    "df = pd.concat([pop,area])  # axis 기본값 ==> 행방향\n",
    "df"
   ]
  },
  {
   "cell_type": "code",
   "execution_count": 20,
   "id": "cf8a6805",
   "metadata": {
    "ExecuteTime": {
     "end_time": "2023-03-22T00:04:17.979500Z",
     "start_time": "2023-03-22T00:04:17.965537Z"
    }
   },
   "outputs": [
    {
     "data": {
      "text/html": [
       "<div>\n",
       "<style scoped>\n",
       "    .dataframe tbody tr th:only-of-type {\n",
       "        vertical-align: middle;\n",
       "    }\n",
       "\n",
       "    .dataframe tbody tr th {\n",
       "        vertical-align: top;\n",
       "    }\n",
       "\n",
       "    .dataframe thead th {\n",
       "        text-align: right;\n",
       "    }\n",
       "</style>\n",
       "<table border=\"1\" class=\"dataframe\">\n",
       "  <thead>\n",
       "    <tr style=\"text-align: right;\">\n",
       "      <th></th>\n",
       "      <th>2020 인구</th>\n",
       "      <th>면적(㎢)</th>\n",
       "    </tr>\n",
       "    <tr>\n",
       "      <th>도시</th>\n",
       "      <th></th>\n",
       "      <th></th>\n",
       "    </tr>\n",
       "  </thead>\n",
       "  <tbody>\n",
       "    <tr>\n",
       "      <th>서울</th>\n",
       "      <td>9602000</td>\n",
       "      <td>605.2</td>\n",
       "    </tr>\n",
       "    <tr>\n",
       "      <th>부산</th>\n",
       "      <td>3344000</td>\n",
       "      <td>770.1</td>\n",
       "    </tr>\n",
       "    <tr>\n",
       "      <th>대구</th>\n",
       "      <td>2419000</td>\n",
       "      <td>883.5</td>\n",
       "    </tr>\n",
       "    <tr>\n",
       "      <th>거제</th>\n",
       "      <td>250000</td>\n",
       "      <td>501.1</td>\n",
       "    </tr>\n",
       "    <tr>\n",
       "      <th>천안</th>\n",
       "      <td>660000</td>\n",
       "      <td>450.1</td>\n",
       "    </tr>\n",
       "  </tbody>\n",
       "</table>\n",
       "</div>"
      ],
      "text/plain": [
       "    2020 인구  면적(㎢)\n",
       "도시                \n",
       "서울  9602000  605.2\n",
       "부산  3344000  770.1\n",
       "대구  2419000  883.5\n",
       "거제   250000  501.1\n",
       "천안   660000  450.1"
      ]
     },
     "execution_count": 20,
     "metadata": {},
     "output_type": "execute_result"
    }
   ],
   "source": [
    "df2 = pd.concat([pop,area],axis=1) # axis 기본값 ==> 열방향\n",
    "df2\n",
    "\n",
    "# 시리즈의 이름이 컬럼명이 됨"
   ]
  },
  {
   "cell_type": "markdown",
   "id": "1e2bc45b",
   "metadata": {
    "ExecuteTime": {
     "end_time": "2023-03-21T03:03:52.477985Z",
     "start_time": "2023-03-21T03:03:52.469423Z"
    }
   },
   "source": [
    "#### 2차원 데이터프레임 생성\n",
    "- 리스트, 딕셔너리 자료를 활용하여 생성 가능"
   ]
  },
  {
   "cell_type": "code",
   "execution_count": 21,
   "id": "33228cec",
   "metadata": {
    "ExecuteTime": {
     "end_time": "2023-03-22T00:04:17.990087Z",
     "start_time": "2023-03-22T00:04:17.981494Z"
    }
   },
   "outputs": [
    {
     "data": {
      "text/html": [
       "<div>\n",
       "<style scoped>\n",
       "    .dataframe tbody tr th:only-of-type {\n",
       "        vertical-align: middle;\n",
       "    }\n",
       "\n",
       "    .dataframe tbody tr th {\n",
       "        vertical-align: top;\n",
       "    }\n",
       "\n",
       "    .dataframe thead th {\n",
       "        text-align: right;\n",
       "    }\n",
       "</style>\n",
       "<table border=\"1\" class=\"dataframe\">\n",
       "  <thead>\n",
       "    <tr style=\"text-align: right;\">\n",
       "      <th></th>\n",
       "      <th>2020 인구</th>\n",
       "      <th>면적(㎢)</th>\n",
       "    </tr>\n",
       "  </thead>\n",
       "  <tbody>\n",
       "    <tr>\n",
       "      <th>서울</th>\n",
       "      <td>9602000</td>\n",
       "      <td>605.2</td>\n",
       "    </tr>\n",
       "    <tr>\n",
       "      <th>부산</th>\n",
       "      <td>3344000</td>\n",
       "      <td>770.1</td>\n",
       "    </tr>\n",
       "    <tr>\n",
       "      <th>대구</th>\n",
       "      <td>2419000</td>\n",
       "      <td>883.5</td>\n",
       "    </tr>\n",
       "  </tbody>\n",
       "</table>\n",
       "</div>"
      ],
      "text/plain": [
       "    2020 인구  면적(㎢)\n",
       "서울  9602000  605.2\n",
       "부산  3344000  770.1\n",
       "대구  2419000  883.5"
      ]
     },
     "execution_count": 21,
     "metadata": {},
     "output_type": "execute_result"
    }
   ],
   "source": [
    "# 딕셔너리를 이용하여 데이터 프레임 생성하기\n",
    "data = {'2020 인구' : [9602000, 3344000, 2419000], '면적(㎢)' : [605.2,770.1,883.5]}\n",
    "# key 값이 컬럼병\n",
    "data\n",
    "df3 = pd.DataFrame(data, index = ['서울', '부산', '대구'])\n",
    "df3"
   ]
  },
  {
   "cell_type": "code",
   "execution_count": 22,
   "id": "f1279b88",
   "metadata": {
    "ExecuteTime": {
     "end_time": "2023-03-22T00:04:18.005582Z",
     "start_time": "2023-03-22T00:04:17.990087Z"
    }
   },
   "outputs": [
    {
     "data": {
      "text/html": [
       "<div>\n",
       "<style scoped>\n",
       "    .dataframe tbody tr th:only-of-type {\n",
       "        vertical-align: middle;\n",
       "    }\n",
       "\n",
       "    .dataframe tbody tr th {\n",
       "        vertical-align: top;\n",
       "    }\n",
       "\n",
       "    .dataframe thead th {\n",
       "        text-align: right;\n",
       "    }\n",
       "</style>\n",
       "<table border=\"1\" class=\"dataframe\">\n",
       "  <thead>\n",
       "    <tr style=\"text-align: right;\">\n",
       "      <th></th>\n",
       "      <th>키</th>\n",
       "      <th>몸무게</th>\n",
       "      <th>나이</th>\n",
       "    </tr>\n",
       "  </thead>\n",
       "  <tbody>\n",
       "    <tr>\n",
       "      <th>홍길동</th>\n",
       "      <td>175.3</td>\n",
       "      <td>66.2</td>\n",
       "      <td>27.0</td>\n",
       "    </tr>\n",
       "    <tr>\n",
       "      <th>김사또</th>\n",
       "      <td>180.2</td>\n",
       "      <td>78.9</td>\n",
       "      <td>49.0</td>\n",
       "    </tr>\n",
       "    <tr>\n",
       "      <th>임꺽정</th>\n",
       "      <td>178.6</td>\n",
       "      <td>55.1</td>\n",
       "      <td>35.0</td>\n",
       "    </tr>\n",
       "  </tbody>\n",
       "</table>\n",
       "</div>"
      ],
      "text/plain": [
       "         키   몸무게    나이\n",
       "홍길동  175.3  66.2  27.0\n",
       "김사또  180.2  78.9  49.0\n",
       "임꺽정  178.6  55.1  35.0"
      ]
     },
     "execution_count": 22,
     "metadata": {},
     "output_type": "execute_result"
    }
   ],
   "source": [
    "test = {'키' : [175.3, 180.2, 178.6], '몸무게' : [66.2, 78.9, 55.1], '나이' : [27.0,49.0,35.0]}\n",
    "df4 = pd.DataFrame(test, index = ['홍길동', '김사또', '임꺽정'])\n",
    "df4"
   ]
  },
  {
   "cell_type": "code",
   "execution_count": 23,
   "id": "103cc785",
   "metadata": {
    "ExecuteTime": {
     "end_time": "2023-03-22T00:04:18.021539Z",
     "start_time": "2023-03-22T00:04:18.007576Z"
    }
   },
   "outputs": [
    {
     "data": {
      "text/html": [
       "<div>\n",
       "<style scoped>\n",
       "    .dataframe tbody tr th:only-of-type {\n",
       "        vertical-align: middle;\n",
       "    }\n",
       "\n",
       "    .dataframe tbody tr th {\n",
       "        vertical-align: top;\n",
       "    }\n",
       "\n",
       "    .dataframe thead th {\n",
       "        text-align: right;\n",
       "    }\n",
       "</style>\n",
       "<table border=\"1\" class=\"dataframe\">\n",
       "  <thead>\n",
       "    <tr style=\"text-align: right;\">\n",
       "      <th></th>\n",
       "      <th>홍길동</th>\n",
       "      <th>김사또</th>\n",
       "      <th>임꺽정</th>\n",
       "    </tr>\n",
       "  </thead>\n",
       "  <tbody>\n",
       "    <tr>\n",
       "      <th>키</th>\n",
       "      <td>175.3</td>\n",
       "      <td>180.2</td>\n",
       "      <td>178.6</td>\n",
       "    </tr>\n",
       "    <tr>\n",
       "      <th>몸무게</th>\n",
       "      <td>66.2</td>\n",
       "      <td>78.9</td>\n",
       "      <td>55.1</td>\n",
       "    </tr>\n",
       "    <tr>\n",
       "      <th>나이</th>\n",
       "      <td>27.0</td>\n",
       "      <td>49.0</td>\n",
       "      <td>35.0</td>\n",
       "    </tr>\n",
       "  </tbody>\n",
       "</table>\n",
       "</div>"
      ],
      "text/plain": [
       "       홍길동    김사또    임꺽정\n",
       "키    175.3  180.2  178.6\n",
       "몸무게   66.2   78.9   55.1\n",
       "나이    27.0   49.0   35.0"
      ]
     },
     "execution_count": 23,
     "metadata": {},
     "output_type": "execute_result"
    }
   ],
   "source": [
    "# 행과 열을 전환해주는 키워드 .T(전치 - transpose)\n",
    "df5_T = df4.T\n",
    "df5_T"
   ]
  },
  {
   "cell_type": "markdown",
   "id": "795d7a19",
   "metadata": {},
   "source": [
    "### Pandas 데이터 접근하기 : 인덱싱 & 슬라이싱"
   ]
  },
  {
   "cell_type": "markdown",
   "id": "c246d1a8",
   "metadata": {
    "ExecuteTime": {
     "end_time": "2023-03-21T03:24:07.548159Z",
     "start_time": "2023-03-21T03:24:07.524555Z"
    }
   },
   "source": [
    "#### 시리즈 인덱싱 "
   ]
  },
  {
   "cell_type": "code",
   "execution_count": 24,
   "id": "ab08b647",
   "metadata": {
    "ExecuteTime": {
     "end_time": "2023-03-22T00:04:18.039943Z",
     "start_time": "2023-03-22T00:04:18.022536Z"
    }
   },
   "outputs": [
    {
     "data": {
      "text/plain": [
       "250000"
      ]
     },
     "execution_count": 24,
     "metadata": {},
     "output_type": "execute_result"
    }
   ],
   "source": [
    "pop\n",
    "# 인덱싱으로 거제 데이터 접근하기\n",
    "pop['거제']\n",
    "pop[3]"
   ]
  },
  {
   "cell_type": "code",
   "execution_count": 25,
   "id": "56227534",
   "metadata": {
    "ExecuteTime": {
     "end_time": "2023-03-22T00:04:18.055901Z",
     "start_time": "2023-03-22T00:04:18.041938Z"
    }
   },
   "outputs": [
    {
     "data": {
      "text/plain": [
       "도시\n",
       "서울    9602000\n",
       "대구    2419000\n",
       "천안     660000\n",
       "Name: 2020 인구, dtype: int64"
      ]
     },
     "execution_count": 25,
     "metadata": {},
     "output_type": "execute_result"
    }
   ],
   "source": [
    "# 여러개 도시 데이터를 한번에 인덱싱하기\n",
    "# 서울, 대구, 천안 도시 데이터 접근하기\n",
    "pop[['서울', '대구', '천안']]\n",
    "pop[[0,2,4]]\n",
    "pop[::2]"
   ]
  },
  {
   "cell_type": "markdown",
   "id": "d834c5da",
   "metadata": {},
   "source": [
    "#### 시리즈 슬라이싱"
   ]
  },
  {
   "cell_type": "code",
   "execution_count": 26,
   "id": "2f12a4d6",
   "metadata": {
    "ExecuteTime": {
     "end_time": "2023-03-22T00:04:18.069811Z",
     "start_time": "2023-03-22T00:04:18.057895Z"
    }
   },
   "outputs": [
    {
     "data": {
      "text/plain": [
       "도시\n",
       "서울    9602000\n",
       "부산    3344000\n",
       "대구    2419000\n",
       "거제     250000\n",
       "천안     660000\n",
       "Name: 2020 인구, dtype: int64"
      ]
     },
     "execution_count": 26,
     "metadata": {},
     "output_type": "execute_result"
    }
   ],
   "source": [
    "pop"
   ]
  },
  {
   "cell_type": "code",
   "execution_count": 27,
   "id": "5a7c7832",
   "metadata": {
    "ExecuteTime": {
     "end_time": "2023-03-22T00:04:18.084922Z",
     "start_time": "2023-03-22T00:04:18.069811Z"
    }
   },
   "outputs": [
    {
     "data": {
      "text/plain": [
       "도시\n",
       "부산    3344000\n",
       "대구    2419000\n",
       "거제     250000\n",
       "천안     660000\n",
       "Name: 2020 인구, dtype: int64"
      ]
     },
     "execution_count": 27,
     "metadata": {},
     "output_type": "execute_result"
    }
   ],
   "source": [
    "# 부산 ~ 천안 접근해보기\n",
    "pop['부산':'천안'] # 문자열로 접근할 때는 뒷값이 포함\n",
    "pop[1:] # 인덱스 번호로 접근할 때는 뒷값이 포함 x"
   ]
  },
  {
   "cell_type": "markdown",
   "id": "788a654b",
   "metadata": {},
   "source": [
    "#### 시리즈 불리언 인덱싱"
   ]
  },
  {
   "cell_type": "code",
   "execution_count": 28,
   "id": "c22c739d",
   "metadata": {
    "ExecuteTime": {
     "end_time": "2023-03-22T00:04:18.100880Z",
     "start_time": "2023-03-22T00:04:18.092900Z"
    }
   },
   "outputs": [
    {
     "data": {
      "text/plain": [
       "도시\n",
       "서울    9602000\n",
       "부산    3344000\n",
       "대구    2419000\n",
       "거제     250000\n",
       "천안     660000\n",
       "Name: 2020 인구, dtype: int64"
      ]
     },
     "execution_count": 28,
     "metadata": {},
     "output_type": "execute_result"
    }
   ],
   "source": [
    "pop"
   ]
  },
  {
   "cell_type": "code",
   "execution_count": 29,
   "id": "a6f109ce",
   "metadata": {
    "ExecuteTime": {
     "end_time": "2023-03-22T00:04:18.116837Z",
     "start_time": "2023-03-22T00:04:18.102874Z"
    }
   },
   "outputs": [
    {
     "data": {
      "text/plain": [
       "도시\n",
       "거제    250000\n",
       "천안    660000\n",
       "Name: 2020 인구, dtype: int64"
      ]
     },
     "execution_count": 29,
     "metadata": {},
     "output_type": "execute_result"
    }
   ],
   "source": [
    "# 인구수가 1000000 미만인 도시 확인\n",
    "pop[pop < 1000000]"
   ]
  },
  {
   "cell_type": "code",
   "execution_count": 30,
   "id": "930c45d7",
   "metadata": {
    "ExecuteTime": {
     "end_time": "2023-03-22T00:04:18.132794Z",
     "start_time": "2023-03-22T00:04:18.118831Z"
    }
   },
   "outputs": [
    {
     "data": {
      "text/plain": [
       "Index(['거제', '천안'], dtype='object', name='도시')"
      ]
     },
     "execution_count": 30,
     "metadata": {},
     "output_type": "execute_result"
    }
   ],
   "source": [
    "# 백만 이상인 도시명만 확인하고 싶을 때\n",
    "pop[pop<1000000].index"
   ]
  },
  {
   "cell_type": "code",
   "execution_count": 31,
   "id": "3cc0d543",
   "metadata": {
    "ExecuteTime": {
     "end_time": "2023-03-22T00:04:18.147687Z",
     "start_time": "2023-03-22T00:04:18.133261Z"
    }
   },
   "outputs": [
    {
     "data": {
      "text/plain": [
       "Index(['부산', '대구'], dtype='object', name='도시')"
      ]
     },
     "execution_count": 31,
     "metadata": {},
     "output_type": "execute_result"
    }
   ],
   "source": [
    "# 인구수가 2백만 이상 ~ 5백만 이하 도시 확인하기\n",
    "pop[(pop>=2000000) & (pop<=5000000)].index"
   ]
  },
  {
   "cell_type": "markdown",
   "id": "f8a4ed9d",
   "metadata": {},
   "source": [
    "#### DataFrame 열 인덱싱"
   ]
  },
  {
   "cell_type": "code",
   "execution_count": 32,
   "id": "32555fe3",
   "metadata": {
    "ExecuteTime": {
     "end_time": "2023-03-22T00:04:18.163645Z",
     "start_time": "2023-03-22T00:04:18.149681Z"
    }
   },
   "outputs": [
    {
     "data": {
      "text/html": [
       "<div>\n",
       "<style scoped>\n",
       "    .dataframe tbody tr th:only-of-type {\n",
       "        vertical-align: middle;\n",
       "    }\n",
       "\n",
       "    .dataframe tbody tr th {\n",
       "        vertical-align: top;\n",
       "    }\n",
       "\n",
       "    .dataframe thead th {\n",
       "        text-align: right;\n",
       "    }\n",
       "</style>\n",
       "<table border=\"1\" class=\"dataframe\">\n",
       "  <thead>\n",
       "    <tr style=\"text-align: right;\">\n",
       "      <th></th>\n",
       "      <th>Java</th>\n",
       "      <th>python</th>\n",
       "      <th>db</th>\n",
       "      <th>html/css</th>\n",
       "    </tr>\n",
       "  </thead>\n",
       "  <tbody>\n",
       "    <tr>\n",
       "      <th>dw</th>\n",
       "      <td>95</td>\n",
       "      <td>100</td>\n",
       "      <td>85</td>\n",
       "      <td>70</td>\n",
       "    </tr>\n",
       "    <tr>\n",
       "      <th>eh</th>\n",
       "      <td>85</td>\n",
       "      <td>95</td>\n",
       "      <td>85</td>\n",
       "      <td>75</td>\n",
       "    </tr>\n",
       "  </tbody>\n",
       "</table>\n",
       "</div>"
      ],
      "text/plain": [
       "    Java  python  db  html/css\n",
       "dw    95     100  85        70\n",
       "eh    85      95  85        75"
      ]
     },
     "execution_count": 32,
     "metadata": {},
     "output_type": "execute_result"
    }
   ],
   "source": [
    "# 2명 학생에 대한 성적 데이터 프레임 생성\n",
    "df_stu = pd.DataFrame({'Java':[95,85], 'python':[100,95],\n",
    "                       'db':[85,85],'html/css':[70,75]},\n",
    "                     index = ['dw','eh'])\n",
    "# 중괄호 뒤에 인덱스\n",
    "df_stu"
   ]
  },
  {
   "cell_type": "code",
   "execution_count": 33,
   "id": "132359c9",
   "metadata": {
    "ExecuteTime": {
     "end_time": "2023-03-22T00:04:18.179601Z",
     "start_time": "2023-03-22T00:04:18.165639Z"
    }
   },
   "outputs": [
    {
     "data": {
      "text/plain": [
       "dw    95\n",
       "eh    85\n",
       "Name: Java, dtype: int64"
      ]
     },
     "execution_count": 33,
     "metadata": {},
     "output_type": "execute_result"
    }
   ],
   "source": [
    "# 'python' 과목 성적 데이터 접근\n",
    "# 컬럼 인덱싱 먼저 ('dw' => 오류)\n",
    "df_stu['Java']\n",
    "# 컬럼 하나 출력 => Series"
   ]
  },
  {
   "cell_type": "code",
   "execution_count": 34,
   "id": "30f42bdc",
   "metadata": {
    "ExecuteTime": {
     "end_time": "2023-03-22T00:04:18.191595Z",
     "start_time": "2023-03-22T00:04:18.181597Z"
    }
   },
   "outputs": [
    {
     "data": {
      "text/html": [
       "<div>\n",
       "<style scoped>\n",
       "    .dataframe tbody tr th:only-of-type {\n",
       "        vertical-align: middle;\n",
       "    }\n",
       "\n",
       "    .dataframe tbody tr th {\n",
       "        vertical-align: top;\n",
       "    }\n",
       "\n",
       "    .dataframe thead th {\n",
       "        text-align: right;\n",
       "    }\n",
       "</style>\n",
       "<table border=\"1\" class=\"dataframe\">\n",
       "  <thead>\n",
       "    <tr style=\"text-align: right;\">\n",
       "      <th></th>\n",
       "      <th>Java</th>\n",
       "    </tr>\n",
       "  </thead>\n",
       "  <tbody>\n",
       "    <tr>\n",
       "      <th>dw</th>\n",
       "      <td>95</td>\n",
       "    </tr>\n",
       "    <tr>\n",
       "      <th>eh</th>\n",
       "      <td>85</td>\n",
       "    </tr>\n",
       "  </tbody>\n",
       "</table>\n",
       "</div>"
      ],
      "text/plain": [
       "    Java\n",
       "dw    95\n",
       "eh    85"
      ]
     },
     "execution_count": 34,
     "metadata": {},
     "output_type": "execute_result"
    }
   ],
   "source": [
    "df_stu[['Java']] # 데이터 프레임 모양으로 출력"
   ]
  },
  {
   "cell_type": "code",
   "execution_count": 35,
   "id": "45020095",
   "metadata": {
    "ExecuteTime": {
     "end_time": "2023-03-22T00:04:18.207687Z",
     "start_time": "2023-03-22T00:04:18.191595Z"
    }
   },
   "outputs": [
    {
     "data": {
      "text/html": [
       "<div>\n",
       "<style scoped>\n",
       "    .dataframe tbody tr th:only-of-type {\n",
       "        vertical-align: middle;\n",
       "    }\n",
       "\n",
       "    .dataframe tbody tr th {\n",
       "        vertical-align: top;\n",
       "    }\n",
       "\n",
       "    .dataframe thead th {\n",
       "        text-align: right;\n",
       "    }\n",
       "</style>\n",
       "<table border=\"1\" class=\"dataframe\">\n",
       "  <thead>\n",
       "    <tr style=\"text-align: right;\">\n",
       "      <th></th>\n",
       "      <th>python</th>\n",
       "      <th>db</th>\n",
       "    </tr>\n",
       "  </thead>\n",
       "  <tbody>\n",
       "    <tr>\n",
       "      <th>dw</th>\n",
       "      <td>100</td>\n",
       "      <td>85</td>\n",
       "    </tr>\n",
       "    <tr>\n",
       "      <th>eh</th>\n",
       "      <td>95</td>\n",
       "      <td>85</td>\n",
       "    </tr>\n",
       "  </tbody>\n",
       "</table>\n",
       "</div>"
      ],
      "text/plain": [
       "    python  db\n",
       "dw     100  85\n",
       "eh      95  85"
      ]
     },
     "execution_count": 35,
     "metadata": {},
     "output_type": "execute_result"
    }
   ],
   "source": [
    "# 여러 개의 컬럼에 접근하기\n",
    "df_stu[['python','db']]"
   ]
  },
  {
   "cell_type": "code",
   "execution_count": 36,
   "id": "bcb619e6",
   "metadata": {
    "ExecuteTime": {
     "end_time": "2023-03-22T00:04:18.223644Z",
     "start_time": "2023-03-22T00:04:18.209681Z"
    }
   },
   "outputs": [
    {
     "data": {
      "text/html": [
       "<div>\n",
       "<style scoped>\n",
       "    .dataframe tbody tr th:only-of-type {\n",
       "        vertical-align: middle;\n",
       "    }\n",
       "\n",
       "    .dataframe tbody tr th {\n",
       "        vertical-align: top;\n",
       "    }\n",
       "\n",
       "    .dataframe thead th {\n",
       "        text-align: right;\n",
       "    }\n",
       "</style>\n",
       "<table border=\"1\" class=\"dataframe\">\n",
       "  <thead>\n",
       "    <tr style=\"text-align: right;\">\n",
       "      <th></th>\n",
       "      <th>Java</th>\n",
       "      <th>python</th>\n",
       "      <th>db</th>\n",
       "      <th>html/css</th>\n",
       "    </tr>\n",
       "  </thead>\n",
       "  <tbody>\n",
       "    <tr>\n",
       "      <th>eh</th>\n",
       "      <td>85</td>\n",
       "      <td>95</td>\n",
       "      <td>85</td>\n",
       "      <td>75</td>\n",
       "    </tr>\n",
       "  </tbody>\n",
       "</table>\n",
       "</div>"
      ],
      "text/plain": [
       "    Java  python  db  html/css\n",
       "eh    85      95  85        75"
      ]
     },
     "execution_count": 36,
     "metadata": {},
     "output_type": "execute_result"
    }
   ],
   "source": [
    "# df[:] => 슬라이싱은 행 인덱싱\n",
    "df_stu['java':'python']\n",
    "df_stu['dw':'eh']\n",
    "df_stu[1:]"
   ]
  },
  {
   "cell_type": "markdown",
   "id": "38c0b06c",
   "metadata": {},
   "source": [
    "#### 행, 열에 접근하는 인덱서\n",
    "- df[] => 컬럼 인덱싱, df[:]=> 행 인덱싱 불편\n",
    "- loc, iloc 인덱서 등장\n",
    "- df.loc[행] ,  df.loc[행, 열], df.loc[행:행, [열1,열3]]=> 실제 인덱스명 또는 컬럼명을 사용하여 데이터 접근\n",
    "- df.iloc[행],  df.iloc[행, 열] df.iloc[행:행, [열1,열3]]=> numpy array 인덱스 값을 사용하여 데이터 접근"
   ]
  },
  {
   "cell_type": "code",
   "execution_count": 37,
   "id": "b647c91a",
   "metadata": {
    "ExecuteTime": {
     "end_time": "2023-03-22T00:04:18.239601Z",
     "start_time": "2023-03-22T00:04:18.224641Z"
    }
   },
   "outputs": [
    {
     "data": {
      "text/plain": [
       "Java         95\n",
       "python      100\n",
       "db           85\n",
       "html/css     70\n",
       "Name: dw, dtype: int64"
      ]
     },
     "execution_count": 37,
     "metadata": {},
     "output_type": "execute_result"
    }
   ],
   "source": [
    "# dw 행 데이터 접근\n",
    "# loc : 눈에 보이는 label 라벨 값\n",
    "df_stu.loc['dw']"
   ]
  },
  {
   "cell_type": "code",
   "execution_count": 38,
   "id": "2422b026",
   "metadata": {
    "ExecuteTime": {
     "end_time": "2023-03-22T00:04:18.262483Z",
     "start_time": "2023-03-22T00:04:18.241597Z"
    }
   },
   "outputs": [
    {
     "data": {
      "text/plain": [
       "Java         95\n",
       "python      100\n",
       "db           85\n",
       "html/css     70\n",
       "Name: dw, dtype: int64"
      ]
     },
     "execution_count": 38,
     "metadata": {},
     "output_type": "execute_result"
    }
   ],
   "source": [
    "# iloc : 인덱스 값 데이터 접근\n",
    "df_stu.iloc[0] # 0번째 행 접근"
   ]
  },
  {
   "cell_type": "code",
   "execution_count": 39,
   "id": "bc09f99f",
   "metadata": {
    "ExecuteTime": {
     "end_time": "2023-03-22T00:04:18.278471Z",
     "start_time": "2023-03-22T00:04:18.264478Z"
    }
   },
   "outputs": [
    {
     "data": {
      "text/html": [
       "<div>\n",
       "<style scoped>\n",
       "    .dataframe tbody tr th:only-of-type {\n",
       "        vertical-align: middle;\n",
       "    }\n",
       "\n",
       "    .dataframe tbody tr th {\n",
       "        vertical-align: top;\n",
       "    }\n",
       "\n",
       "    .dataframe thead th {\n",
       "        text-align: right;\n",
       "    }\n",
       "</style>\n",
       "<table border=\"1\" class=\"dataframe\">\n",
       "  <thead>\n",
       "    <tr style=\"text-align: right;\">\n",
       "      <th></th>\n",
       "      <th>Java</th>\n",
       "      <th>python</th>\n",
       "      <th>db</th>\n",
       "      <th>html/css</th>\n",
       "    </tr>\n",
       "  </thead>\n",
       "  <tbody>\n",
       "    <tr>\n",
       "      <th>eh</th>\n",
       "      <td>85</td>\n",
       "      <td>95</td>\n",
       "      <td>85</td>\n",
       "      <td>75</td>\n",
       "    </tr>\n",
       "    <tr>\n",
       "      <th>dw</th>\n",
       "      <td>95</td>\n",
       "      <td>100</td>\n",
       "      <td>85</td>\n",
       "      <td>70</td>\n",
       "    </tr>\n",
       "  </tbody>\n",
       "</table>\n",
       "</div>"
      ],
      "text/plain": [
       "    Java  python  db  html/css\n",
       "eh    85      95  85        75\n",
       "dw    95     100  85        70"
      ]
     },
     "execution_count": 39,
     "metadata": {},
     "output_type": "execute_result"
    }
   ],
   "source": [
    "# df_stu dw, eh 행 접근 > iloc\n",
    "df_stu.iloc[:]\n",
    "# df_stu dw, eh 행 접근 > loc\n",
    "df_stu.loc['dw':'eh']\n",
    "df_stu.loc[['eh','dw']] \n",
    "# 순서 바꾸기 # 행 값 여러개라 대괄호 한 번 씌우기(행,열 로 구분할 수 있으니)"
   ]
  },
  {
   "cell_type": "code",
   "execution_count": 40,
   "id": "41cdb2d0",
   "metadata": {
    "ExecuteTime": {
     "end_time": "2023-03-22T00:04:18.294397Z",
     "start_time": "2023-03-22T00:04:18.280435Z"
    }
   },
   "outputs": [
    {
     "data": {
      "text/plain": [
       "95"
      ]
     },
     "execution_count": 40,
     "metadata": {},
     "output_type": "execute_result"
    }
   ],
   "source": [
    "# df_stu iloc 열 접근\n",
    "# java 컬럼 접근해보기 > 0번째 열에 접근\n",
    "df_stu.iloc[:,0]\n",
    "\n",
    "# dw, java 점수 접근\n",
    "df_stu.iloc[0,0]"
   ]
  },
  {
   "cell_type": "code",
   "execution_count": 41,
   "id": "687d2804",
   "metadata": {
    "ExecuteTime": {
     "end_time": "2023-03-22T00:04:18.320462Z",
     "start_time": "2023-03-22T00:04:18.297389Z"
    }
   },
   "outputs": [
    {
     "data": {
      "text/plain": [
       "python      100\n",
       "html/css     70\n",
       "Name: dw, dtype: int64"
      ]
     },
     "execution_count": 41,
     "metadata": {},
     "output_type": "execute_result"
    }
   ],
   "source": [
    "# df_stu dw의 python, html/css 점수에 접근\n",
    "df_stu.loc['dw','python':'html/css':2]\n",
    "df_stu.loc['dw',['python','html/css']]\n",
    "\n",
    "df_stu.iloc[0,1::2]\n",
    "df_stu.iloc[0,[1,3]]"
   ]
  },
  {
   "cell_type": "markdown",
   "id": "8fb99a20",
   "metadata": {},
   "source": [
    "#### DataFrame 불리언인덱싱\n",
    "- 논리 연산자를 활용하여 데이터 접근"
   ]
  },
  {
   "cell_type": "code",
   "execution_count": 42,
   "id": "056bb2a9",
   "metadata": {
    "ExecuteTime": {
     "end_time": "2023-03-22T00:04:18.336395Z",
     "start_time": "2023-03-22T00:04:18.322434Z"
    }
   },
   "outputs": [],
   "source": [
    "# 행 데이터 추가\n",
    "# 1. 행 접근 (없는 이름) # 2. 대입\n",
    "df_stu.loc['dh']=[95,95,85,100]"
   ]
  },
  {
   "cell_type": "code",
   "execution_count": 43,
   "id": "227f2cf5",
   "metadata": {
    "ExecuteTime": {
     "end_time": "2023-03-22T00:04:18.349713Z",
     "start_time": "2023-03-22T00:04:18.338390Z"
    }
   },
   "outputs": [
    {
     "data": {
      "text/html": [
       "<div>\n",
       "<style scoped>\n",
       "    .dataframe tbody tr th:only-of-type {\n",
       "        vertical-align: middle;\n",
       "    }\n",
       "\n",
       "    .dataframe tbody tr th {\n",
       "        vertical-align: top;\n",
       "    }\n",
       "\n",
       "    .dataframe thead th {\n",
       "        text-align: right;\n",
       "    }\n",
       "</style>\n",
       "<table border=\"1\" class=\"dataframe\">\n",
       "  <thead>\n",
       "    <tr style=\"text-align: right;\">\n",
       "      <th></th>\n",
       "      <th>Java</th>\n",
       "      <th>python</th>\n",
       "      <th>db</th>\n",
       "      <th>html/css</th>\n",
       "      <th>ml</th>\n",
       "    </tr>\n",
       "  </thead>\n",
       "  <tbody>\n",
       "    <tr>\n",
       "      <th>dw</th>\n",
       "      <td>95</td>\n",
       "      <td>100</td>\n",
       "      <td>85</td>\n",
       "      <td>70</td>\n",
       "      <td>100</td>\n",
       "    </tr>\n",
       "    <tr>\n",
       "      <th>eh</th>\n",
       "      <td>85</td>\n",
       "      <td>95</td>\n",
       "      <td>85</td>\n",
       "      <td>75</td>\n",
       "      <td>100</td>\n",
       "    </tr>\n",
       "    <tr>\n",
       "      <th>dh</th>\n",
       "      <td>95</td>\n",
       "      <td>95</td>\n",
       "      <td>85</td>\n",
       "      <td>100</td>\n",
       "      <td>100</td>\n",
       "    </tr>\n",
       "  </tbody>\n",
       "</table>\n",
       "</div>"
      ],
      "text/plain": [
       "    Java  python  db  html/css   ml\n",
       "dw    95     100  85        70  100\n",
       "eh    85      95  85        75  100\n",
       "dh    95      95  85       100  100"
      ]
     },
     "execution_count": 43,
     "metadata": {},
     "output_type": "execute_result"
    }
   ],
   "source": [
    "# 컬럼 추카\n",
    "# 1. 컬럼 접근(없는 이름) # 2. 대입\n",
    "df_stu.loc[:,'ml']=[100,100,100]\n",
    "df_stu"
   ]
  },
  {
   "cell_type": "code",
   "execution_count": 44,
   "id": "85fd752a",
   "metadata": {
    "ExecuteTime": {
     "end_time": "2023-03-22T00:04:18.365634Z",
     "start_time": "2023-03-22T00:04:18.349713Z"
    }
   },
   "outputs": [
    {
     "data": {
      "text/plain": [
       "dw     True\n",
       "eh    False\n",
       "dh     True\n",
       "Name: Java, dtype: bool"
      ]
     },
     "execution_count": 44,
     "metadata": {},
     "output_type": "execute_result"
    }
   ],
   "source": [
    "# java 성적에서 90 이상인 사람의 이름은?\n",
    "df_stu.iloc[:,0]>=90\n",
    "df_stu['Java']>=90"
   ]
  },
  {
   "cell_type": "code",
   "execution_count": 45,
   "id": "5c777275",
   "metadata": {
    "ExecuteTime": {
     "end_time": "2023-03-22T00:04:18.381568Z",
     "start_time": "2023-03-22T00:04:18.367606Z"
    }
   },
   "outputs": [
    {
     "data": {
      "text/html": [
       "<div>\n",
       "<style scoped>\n",
       "    .dataframe tbody tr th:only-of-type {\n",
       "        vertical-align: middle;\n",
       "    }\n",
       "\n",
       "    .dataframe tbody tr th {\n",
       "        vertical-align: top;\n",
       "    }\n",
       "\n",
       "    .dataframe thead th {\n",
       "        text-align: right;\n",
       "    }\n",
       "</style>\n",
       "<table border=\"1\" class=\"dataframe\">\n",
       "  <thead>\n",
       "    <tr style=\"text-align: right;\">\n",
       "      <th></th>\n",
       "      <th>Java</th>\n",
       "      <th>python</th>\n",
       "      <th>db</th>\n",
       "      <th>html/css</th>\n",
       "      <th>ml</th>\n",
       "    </tr>\n",
       "  </thead>\n",
       "  <tbody>\n",
       "    <tr>\n",
       "      <th>dw</th>\n",
       "      <td>95</td>\n",
       "      <td>100</td>\n",
       "      <td>85</td>\n",
       "      <td>70</td>\n",
       "      <td>100</td>\n",
       "    </tr>\n",
       "    <tr>\n",
       "      <th>dh</th>\n",
       "      <td>95</td>\n",
       "      <td>95</td>\n",
       "      <td>85</td>\n",
       "      <td>100</td>\n",
       "      <td>100</td>\n",
       "    </tr>\n",
       "  </tbody>\n",
       "</table>\n",
       "</div>"
      ],
      "text/plain": [
       "    Java  python  db  html/css   ml\n",
       "dw    95     100  85        70  100\n",
       "dh    95      95  85       100  100"
      ]
     },
     "execution_count": 45,
     "metadata": {},
     "output_type": "execute_result"
    }
   ],
   "source": [
    "df_stu[df_stu['Java']>=90] # 불리언 인덱싱이 행 인덱싱으로 작용 (True인 행 모두 출력)"
   ]
  },
  {
   "cell_type": "code",
   "execution_count": 46,
   "id": "d24cb60b",
   "metadata": {
    "ExecuteTime": {
     "end_time": "2023-03-22T00:04:18.392724Z",
     "start_time": "2023-03-22T00:04:18.383563Z"
    }
   },
   "outputs": [
    {
     "data": {
      "text/plain": [
       "Index(['dw', 'dh'], dtype='object')"
      ]
     },
     "execution_count": 46,
     "metadata": {},
     "output_type": "execute_result"
    }
   ],
   "source": [
    "df_stu[df_stu['Java']>=90].index"
   ]
  },
  {
   "cell_type": "code",
   "execution_count": 47,
   "id": "b92b9867",
   "metadata": {
    "ExecuteTime": {
     "end_time": "2023-03-22T00:04:18.408841Z",
     "start_time": "2023-03-22T00:04:18.392724Z"
    }
   },
   "outputs": [
    {
     "name": "stdout",
     "output_type": "stream",
     "text": [
      "python 성적이 100점 이상인 사람은 몇명인가? : 1\n"
     ]
    }
   ],
   "source": [
    "# python 성적이 100점 이상인 사람은 몇명인가?\n",
    "df_stu[df_stu['python']>=100].index.size\n",
    "len(df_stu[df_stu['python']>=100].index)\n",
    "result = df_stu[df_stu['python']>=100].shape[0] # 튜플 개수 \n",
    "\n",
    "print(f'python 성적이 100점 이상인 사람은 몇명인가? : {result}') # 1명"
   ]
  },
  {
   "cell_type": "code",
   "execution_count": 48,
   "id": "d2af9693",
   "metadata": {
    "ExecuteTime": {
     "end_time": "2023-03-22T00:04:18.424798Z",
     "start_time": "2023-03-22T00:04:18.410837Z"
    }
   },
   "outputs": [
    {
     "data": {
      "text/html": [
       "<div>\n",
       "<style scoped>\n",
       "    .dataframe tbody tr th:only-of-type {\n",
       "        vertical-align: middle;\n",
       "    }\n",
       "\n",
       "    .dataframe tbody tr th {\n",
       "        vertical-align: top;\n",
       "    }\n",
       "\n",
       "    .dataframe thead th {\n",
       "        text-align: right;\n",
       "    }\n",
       "</style>\n",
       "<table border=\"1\" class=\"dataframe\">\n",
       "  <thead>\n",
       "    <tr style=\"text-align: right;\">\n",
       "      <th></th>\n",
       "      <th>Java</th>\n",
       "      <th>python</th>\n",
       "      <th>db</th>\n",
       "      <th>html/css</th>\n",
       "      <th>ml</th>\n",
       "    </tr>\n",
       "  </thead>\n",
       "  <tbody>\n",
       "    <tr>\n",
       "      <th>dw</th>\n",
       "      <td>95</td>\n",
       "      <td>100</td>\n",
       "      <td>85</td>\n",
       "      <td>70</td>\n",
       "      <td>100</td>\n",
       "    </tr>\n",
       "    <tr>\n",
       "      <th>dh</th>\n",
       "      <td>95</td>\n",
       "      <td>95</td>\n",
       "      <td>85</td>\n",
       "      <td>100</td>\n",
       "      <td>100</td>\n",
       "    </tr>\n",
       "  </tbody>\n",
       "</table>\n",
       "</div>"
      ],
      "text/plain": [
       "    Java  python  db  html/css   ml\n",
       "dw    95     100  85        70  100\n",
       "dh    95      95  85       100  100"
      ]
     },
     "execution_count": 48,
     "metadata": {},
     "output_type": "execute_result"
    }
   ],
   "source": [
    "# df_stu[df_stu.iloc[0]==100] # iloc 인덱서는 불리언 인덱싱과 호환이 안됨\n",
    "df_stu[df_stu.loc[:,'Java']==95] # loc 인덱서는 불리언 인덱싱과 호환됨"
   ]
  },
  {
   "cell_type": "markdown",
   "id": "1746fc5a",
   "metadata": {},
   "source": [
    "### Pandas 유용한 함수"
   ]
  },
  {
   "cell_type": "markdown",
   "id": "0389de20",
   "metadata": {},
   "source": [
    "####  value_counts() : 값이 등장한 횟수 세는 기능"
   ]
  },
  {
   "cell_type": "code",
   "execution_count": 49,
   "id": "8af12192",
   "metadata": {
    "ExecuteTime": {
     "end_time": "2023-03-22T00:04:18.445991Z",
     "start_time": "2023-03-22T00:04:18.426792Z"
    }
   },
   "outputs": [
    {
     "data": {
      "text/html": [
       "<div>\n",
       "<style scoped>\n",
       "    .dataframe tbody tr th:only-of-type {\n",
       "        vertical-align: middle;\n",
       "    }\n",
       "\n",
       "    .dataframe tbody tr th {\n",
       "        vertical-align: top;\n",
       "    }\n",
       "\n",
       "    .dataframe thead th {\n",
       "        text-align: right;\n",
       "    }\n",
       "</style>\n",
       "<table border=\"1\" class=\"dataframe\">\n",
       "  <thead>\n",
       "    <tr style=\"text-align: right;\">\n",
       "      <th></th>\n",
       "      <th>Java</th>\n",
       "      <th>python</th>\n",
       "      <th>db</th>\n",
       "      <th>html/css</th>\n",
       "      <th>ml</th>\n",
       "    </tr>\n",
       "  </thead>\n",
       "  <tbody>\n",
       "    <tr>\n",
       "      <th>dw</th>\n",
       "      <td>95</td>\n",
       "      <td>100</td>\n",
       "      <td>85</td>\n",
       "      <td>70</td>\n",
       "      <td>100</td>\n",
       "    </tr>\n",
       "    <tr>\n",
       "      <th>eh</th>\n",
       "      <td>85</td>\n",
       "      <td>95</td>\n",
       "      <td>85</td>\n",
       "      <td>75</td>\n",
       "      <td>100</td>\n",
       "    </tr>\n",
       "    <tr>\n",
       "      <th>dh</th>\n",
       "      <td>95</td>\n",
       "      <td>95</td>\n",
       "      <td>85</td>\n",
       "      <td>100</td>\n",
       "      <td>100</td>\n",
       "    </tr>\n",
       "  </tbody>\n",
       "</table>\n",
       "</div>"
      ],
      "text/plain": [
       "    Java  python  db  html/css   ml\n",
       "dw    95     100  85        70  100\n",
       "eh    85      95  85        75  100\n",
       "dh    95      95  85       100  100"
      ]
     },
     "execution_count": 49,
     "metadata": {},
     "output_type": "execute_result"
    }
   ],
   "source": [
    "df_stu"
   ]
  },
  {
   "cell_type": "code",
   "execution_count": 50,
   "id": "c948553f",
   "metadata": {
    "ExecuteTime": {
     "end_time": "2023-03-22T00:04:18.460452Z",
     "start_time": "2023-03-22T00:04:18.447985Z"
    }
   },
   "outputs": [
    {
     "data": {
      "text/plain": [
       "95    2\n",
       "85    1\n",
       "Name: Java, dtype: int64"
      ]
     },
     "execution_count": 50,
     "metadata": {},
     "output_type": "execute_result"
    }
   ],
   "source": [
    "df_stu['Java'].value_counts()"
   ]
  },
  {
   "cell_type": "code",
   "execution_count": 51,
   "id": "0d0a0431",
   "metadata": {
    "ExecuteTime": {
     "end_time": "2023-03-22T00:04:18.475565Z",
     "start_time": "2023-03-22T00:04:18.462599Z"
    }
   },
   "outputs": [
    {
     "data": {
      "text/plain": [
       "95     2\n",
       "100    1\n",
       "Name: python, dtype: int64"
      ]
     },
     "execution_count": 51,
     "metadata": {},
     "output_type": "execute_result"
    }
   ],
   "source": [
    "# python에서 가장 많이 나온 성적의 개수는? (빈도수가 높은 성적은?)\n",
    "df_stu['python'].value_counts()"
   ]
  },
  {
   "cell_type": "code",
   "execution_count": 52,
   "id": "3d116d52",
   "metadata": {
    "ExecuteTime": {
     "end_time": "2023-03-22T00:04:18.491545Z",
     "start_time": "2023-03-22T00:04:18.477558Z"
    }
   },
   "outputs": [],
   "source": [
    "# 빈도수 파악 -> 카테고리 형식(범주형) 데이터에 자주 사용\n",
    "# 기술통계량 파악 -> 값의 크고 작음의 의미가 있는 숫자 데이터(수치형) 자주 사용"
   ]
  },
  {
   "cell_type": "markdown",
   "id": "75c75e7d",
   "metadata": {},
   "source": [
    "#### sort_values(), sort_index() : 정렬하는 함수"
   ]
  },
  {
   "cell_type": "code",
   "execution_count": 53,
   "id": "4d836ad5",
   "metadata": {
    "ExecuteTime": {
     "end_time": "2023-03-22T00:04:18.501912Z",
     "start_time": "2023-03-22T00:04:18.493516Z"
    }
   },
   "outputs": [
    {
     "data": {
      "text/plain": [
       "도시\n",
       "서울    9602000\n",
       "부산    3344000\n",
       "대구    2419000\n",
       "거제     250000\n",
       "천안     660000\n",
       "Name: 2020 인구, dtype: int64"
      ]
     },
     "execution_count": 53,
     "metadata": {},
     "output_type": "execute_result"
    }
   ],
   "source": [
    "pop"
   ]
  },
  {
   "cell_type": "code",
   "execution_count": 54,
   "id": "4cdedc31",
   "metadata": {
    "ExecuteTime": {
     "end_time": "2023-03-22T00:04:18.517738Z",
     "start_time": "2023-03-22T00:04:18.501912Z"
    }
   },
   "outputs": [
    {
     "data": {
      "text/plain": [
       "도시\n",
       "서울    9602000\n",
       "부산    3344000\n",
       "대구    2419000\n",
       "천안     660000\n",
       "거제     250000\n",
       "Name: 2020 인구, dtype: int64"
      ]
     },
     "execution_count": 54,
     "metadata": {},
     "output_type": "execute_result"
    }
   ],
   "source": [
    "# value 값 기준 정렬, 기본값 : 오름차순 정렬 \n",
    "# ascending = False 내림차순 정렬\n",
    "pop.sort_values(ascending = False) "
   ]
  },
  {
   "cell_type": "code",
   "execution_count": 55,
   "id": "e53b7202",
   "metadata": {
    "ExecuteTime": {
     "end_time": "2023-03-22T00:04:18.533692Z",
     "start_time": "2023-03-22T00:04:18.519732Z"
    }
   },
   "outputs": [
    {
     "data": {
      "text/plain": [
       "도시\n",
       "천안     660000\n",
       "서울    9602000\n",
       "부산    3344000\n",
       "대구    2419000\n",
       "거제     250000\n",
       "Name: 2020 인구, dtype: int64"
      ]
     },
     "execution_count": 55,
     "metadata": {},
     "output_type": "execute_result"
    }
   ],
   "source": [
    "# index 정렬\n",
    "pop.sort_index(ascending = False) "
   ]
  },
  {
   "cell_type": "markdown",
   "id": "bdce4825",
   "metadata": {},
   "source": [
    "#### drop() : 데이터를 삭제하는 함수\n",
    "- 행 이름 삭제해줘, 컬럼 이름 삭제해줘\n",
    "- axis = 0 (행방향★으로 데이터 확인), axis = 1(열방향★으로 데이터 확인)"
   ]
  },
  {
   "cell_type": "code",
   "execution_count": 56,
   "id": "a68f26ef",
   "metadata": {
    "ExecuteTime": {
     "end_time": "2023-03-22T00:04:18.550041Z",
     "start_time": "2023-03-22T00:04:18.534857Z"
    }
   },
   "outputs": [
    {
     "data": {
      "text/html": [
       "<div>\n",
       "<style scoped>\n",
       "    .dataframe tbody tr th:only-of-type {\n",
       "        vertical-align: middle;\n",
       "    }\n",
       "\n",
       "    .dataframe tbody tr th {\n",
       "        vertical-align: top;\n",
       "    }\n",
       "\n",
       "    .dataframe thead th {\n",
       "        text-align: right;\n",
       "    }\n",
       "</style>\n",
       "<table border=\"1\" class=\"dataframe\">\n",
       "  <thead>\n",
       "    <tr style=\"text-align: right;\">\n",
       "      <th></th>\n",
       "      <th>Java</th>\n",
       "      <th>python</th>\n",
       "      <th>db</th>\n",
       "      <th>html/css</th>\n",
       "      <th>ml</th>\n",
       "    </tr>\n",
       "  </thead>\n",
       "  <tbody>\n",
       "    <tr>\n",
       "      <th>dw</th>\n",
       "      <td>95</td>\n",
       "      <td>100</td>\n",
       "      <td>85</td>\n",
       "      <td>70</td>\n",
       "      <td>100</td>\n",
       "    </tr>\n",
       "    <tr>\n",
       "      <th>eh</th>\n",
       "      <td>85</td>\n",
       "      <td>95</td>\n",
       "      <td>85</td>\n",
       "      <td>75</td>\n",
       "      <td>100</td>\n",
       "    </tr>\n",
       "  </tbody>\n",
       "</table>\n",
       "</div>"
      ],
      "text/plain": [
       "    Java  python  db  html/css   ml\n",
       "dw    95     100  85        70  100\n",
       "eh    85      95  85        75  100"
      ]
     },
     "execution_count": 56,
     "metadata": {},
     "output_type": "execute_result"
    }
   ],
   "source": [
    "# 행 데이터 삭제\n",
    "df_stu.drop('dh', axis =0) # axis =1 일때는 적용 x / 열방향에서 'dh' 찾을 수 없음"
   ]
  },
  {
   "cell_type": "code",
   "execution_count": 57,
   "id": "d89d24d7",
   "metadata": {
    "ExecuteTime": {
     "end_time": "2023-03-22T00:04:18.559826Z",
     "start_time": "2023-03-22T00:04:18.552037Z"
    }
   },
   "outputs": [],
   "source": [
    "# 열 데이터 삭제\n",
    "df_stu.drop('ml',axis=1,inplace=True)"
   ]
  },
  {
   "cell_type": "code",
   "execution_count": 58,
   "id": "c4126b58",
   "metadata": {
    "ExecuteTime": {
     "end_time": "2023-03-22T00:04:18.574694Z",
     "start_time": "2023-03-22T00:04:18.559826Z"
    }
   },
   "outputs": [
    {
     "data": {
      "text/html": [
       "<div>\n",
       "<style scoped>\n",
       "    .dataframe tbody tr th:only-of-type {\n",
       "        vertical-align: middle;\n",
       "    }\n",
       "\n",
       "    .dataframe tbody tr th {\n",
       "        vertical-align: top;\n",
       "    }\n",
       "\n",
       "    .dataframe thead th {\n",
       "        text-align: right;\n",
       "    }\n",
       "</style>\n",
       "<table border=\"1\" class=\"dataframe\">\n",
       "  <thead>\n",
       "    <tr style=\"text-align: right;\">\n",
       "      <th></th>\n",
       "      <th>Java</th>\n",
       "      <th>python</th>\n",
       "      <th>db</th>\n",
       "      <th>html/css</th>\n",
       "    </tr>\n",
       "  </thead>\n",
       "  <tbody>\n",
       "    <tr>\n",
       "      <th>dw</th>\n",
       "      <td>95</td>\n",
       "      <td>100</td>\n",
       "      <td>85</td>\n",
       "      <td>70</td>\n",
       "    </tr>\n",
       "    <tr>\n",
       "      <th>eh</th>\n",
       "      <td>85</td>\n",
       "      <td>95</td>\n",
       "      <td>85</td>\n",
       "      <td>75</td>\n",
       "    </tr>\n",
       "    <tr>\n",
       "      <th>dh</th>\n",
       "      <td>95</td>\n",
       "      <td>95</td>\n",
       "      <td>85</td>\n",
       "      <td>100</td>\n",
       "    </tr>\n",
       "  </tbody>\n",
       "</table>\n",
       "</div>"
      ],
      "text/plain": [
       "    Java  python  db  html/css\n",
       "dw    95     100  85        70\n",
       "eh    85      95  85        75\n",
       "dh    95      95  85       100"
      ]
     },
     "execution_count": 58,
     "metadata": {},
     "output_type": "execute_result"
    }
   ],
   "source": [
    "df_stu"
   ]
  },
  {
   "cell_type": "markdown",
   "id": "37d25733",
   "metadata": {
    "ExecuteTime": {
     "end_time": "2023-03-22T00:08:25.823470Z",
     "start_time": "2023-03-22T00:08:25.809389Z"
    }
   },
   "source": [
    "#### 데이터 불러오는 함수"
   ]
  },
  {
   "cell_type": "code",
   "execution_count": 62,
   "id": "1835a19a",
   "metadata": {
    "ExecuteTime": {
     "end_time": "2023-03-22T00:12:19.996260Z",
     "start_time": "2023-03-22T00:12:19.982191Z"
    }
   },
   "outputs": [
    {
     "data": {
      "text/html": [
       "<div>\n",
       "<style scoped>\n",
       "    .dataframe tbody tr th:only-of-type {\n",
       "        vertical-align: middle;\n",
       "    }\n",
       "\n",
       "    .dataframe tbody tr th {\n",
       "        vertical-align: top;\n",
       "    }\n",
       "\n",
       "    .dataframe thead th {\n",
       "        text-align: right;\n",
       "    }\n",
       "</style>\n",
       "<table border=\"1\" class=\"dataframe\">\n",
       "  <thead>\n",
       "    <tr style=\"text-align: right;\">\n",
       "      <th></th>\n",
       "      <th>1반</th>\n",
       "      <th>2반</th>\n",
       "      <th>3반</th>\n",
       "      <th>4반</th>\n",
       "    </tr>\n",
       "    <tr>\n",
       "      <th>과목</th>\n",
       "      <th></th>\n",
       "      <th></th>\n",
       "      <th></th>\n",
       "      <th></th>\n",
       "    </tr>\n",
       "  </thead>\n",
       "  <tbody>\n",
       "    <tr>\n",
       "      <th>수학</th>\n",
       "      <td>45</td>\n",
       "      <td>44</td>\n",
       "      <td>73</td>\n",
       "      <td>39</td>\n",
       "    </tr>\n",
       "    <tr>\n",
       "      <th>영어</th>\n",
       "      <td>76</td>\n",
       "      <td>92</td>\n",
       "      <td>45</td>\n",
       "      <td>69</td>\n",
       "    </tr>\n",
       "    <tr>\n",
       "      <th>국어</th>\n",
       "      <td>47</td>\n",
       "      <td>92</td>\n",
       "      <td>45</td>\n",
       "      <td>69</td>\n",
       "    </tr>\n",
       "    <tr>\n",
       "      <th>사회</th>\n",
       "      <td>92</td>\n",
       "      <td>81</td>\n",
       "      <td>85</td>\n",
       "      <td>40</td>\n",
       "    </tr>\n",
       "    <tr>\n",
       "      <th>과학</th>\n",
       "      <td>11</td>\n",
       "      <td>79</td>\n",
       "      <td>47</td>\n",
       "      <td>26</td>\n",
       "    </tr>\n",
       "  </tbody>\n",
       "</table>\n",
       "</div>"
      ],
      "text/plain": [
       "    1반  2반  3반  4반\n",
       "과목                \n",
       "수학  45  44  73  39\n",
       "영어  76  92  45  69\n",
       "국어  47  92  45  69\n",
       "사회  92  81  85  40\n",
       "과학  11  79  47  26"
      ]
     },
     "execution_count": 62,
     "metadata": {},
     "output_type": "execute_result"
    }
   ],
   "source": [
    "# 한글 불러오는 encoding 방식 : utf-8, euc-kr, cp959\n",
    "score = pd.read_csv('data/score.csv',index_col='과목', encoding='euc-kr') \n",
    "# 과목명을 인덱스로 사용하겠다\n",
    "score"
   ]
  },
  {
   "cell_type": "code",
   "execution_count": 87,
   "id": "f9e86349",
   "metadata": {
    "ExecuteTime": {
     "end_time": "2023-03-22T00:22:41.619722Z",
     "start_time": "2023-03-22T00:22:41.606547Z"
    }
   },
   "outputs": [
    {
     "data": {
      "text/plain": [
       "Index(['수학', '영어', '국어', '사회', '과학'], dtype='object', name='과목')"
      ]
     },
     "execution_count": 87,
     "metadata": {},
     "output_type": "execute_result"
    }
   ],
   "source": [
    "# 데이터 확인하기\n",
    "# 크기 확인 : shape\n",
    "score.shape\n",
    "# 데이터 타입 ; dtype\n",
    "# 데이터프레임의 데이터 타입 확인은 각각의 데이터로 접근해야 한다.\n",
    "score['1반'].dtype\n",
    "# 컬럼명(이름) 확인\n",
    "score.columns\n",
    "# 행이름\n",
    "score.index"
   ]
  },
  {
   "cell_type": "markdown",
   "id": "d3b4cb8a",
   "metadata": {},
   "source": [
    "#### 데이터 정보 출력하는 함수"
   ]
  },
  {
   "cell_type": "code",
   "execution_count": 88,
   "id": "6aca3346",
   "metadata": {
    "ExecuteTime": {
     "end_time": "2023-03-22T00:24:04.435366Z",
     "start_time": "2023-03-22T00:24:04.406538Z"
    }
   },
   "outputs": [
    {
     "name": "stdout",
     "output_type": "stream",
     "text": [
      "<class 'pandas.core.frame.DataFrame'>\n",
      "Index: 5 entries, 수학 to 과학\n",
      "Data columns (total 4 columns):\n",
      " #   Column  Non-Null Count  Dtype\n",
      "---  ------  --------------  -----\n",
      " 0   1반      5 non-null      int64\n",
      " 1   2반      5 non-null      int64\n",
      " 2   3반      5 non-null      int64\n",
      " 3   4반      5 non-null      int64\n",
      "dtypes: int64(4)\n",
      "memory usage: 200.0+ bytes\n"
     ]
    }
   ],
   "source": [
    "score.info()"
   ]
  },
  {
   "cell_type": "code",
   "execution_count": 91,
   "id": "8df180fe",
   "metadata": {
    "ExecuteTime": {
     "end_time": "2023-03-22T00:27:15.895995Z",
     "start_time": "2023-03-22T00:27:15.878268Z"
    }
   },
   "outputs": [
    {
     "data": {
      "text/plain": [
       "1반    0\n",
       "2반    0\n",
       "3반    0\n",
       "4반    0\n",
       "dtype: int64"
      ]
     },
     "execution_count": 91,
     "metadata": {},
     "output_type": "execute_result"
    }
   ],
   "source": [
    "# 결측치 확인하는 함수 : isnull()\n",
    "score.isnull().sum() \n",
    "# 결측치 0 : True, 결측치 X : False"
   ]
  },
  {
   "cell_type": "markdown",
   "id": "9ec08600",
   "metadata": {},
   "source": [
    "#### 총합을 구하는 함수"
   ]
  },
  {
   "cell_type": "code",
   "execution_count": 94,
   "id": "ce3c8e53",
   "metadata": {
    "ExecuteTime": {
     "end_time": "2023-03-22T00:30:15.200834Z",
     "start_time": "2023-03-22T00:30:15.182732Z"
    }
   },
   "outputs": [
    {
     "data": {
      "text/plain": [
       "과목\n",
       "수학    0\n",
       "영어    0\n",
       "국어    0\n",
       "사회    0\n",
       "과학    0\n",
       "dtype: int64"
      ]
     },
     "execution_count": 94,
     "metadata": {},
     "output_type": "execute_result"
    }
   ],
   "source": [
    "score.isnull().sum(axis=1) # 열방향"
   ]
  },
  {
   "cell_type": "code",
   "execution_count": 102,
   "id": "7e1c399d",
   "metadata": {
    "ExecuteTime": {
     "end_time": "2023-03-22T00:36:02.519766Z",
     "start_time": "2023-03-22T00:36:02.502798Z"
    }
   },
   "outputs": [
    {
     "data": {
      "text/plain": [
       "1반    271\n",
       "2반    388\n",
       "3반    295\n",
       "4반    243\n",
       "dtype: int64"
      ]
     },
     "metadata": {},
     "output_type": "display_data"
    },
    {
     "data": {
      "text/plain": [
       "과목\n",
       "수학    201\n",
       "영어    282\n",
       "국어    253\n",
       "사회    298\n",
       "과학    163\n",
       "dtype: int64"
      ]
     },
     "metadata": {},
     "output_type": "display_data"
    }
   ],
   "source": [
    "display(score.sum(axis=0))\n",
    "display(score.sum(axis=1))"
   ]
  },
  {
   "cell_type": "markdown",
   "id": "0bb3191f",
   "metadata": {},
   "source": [
    "#### 학급별 순위(성적이 높은 순부터)"
   ]
  },
  {
   "cell_type": "code",
   "execution_count": 97,
   "id": "fa0af8ec",
   "metadata": {
    "ExecuteTime": {
     "end_time": "2023-03-22T00:34:22.477794Z",
     "start_time": "2023-03-22T00:34:22.462648Z"
    }
   },
   "outputs": [
    {
     "data": {
      "text/plain": [
       "2반    388\n",
       "3반    295\n",
       "1반    271\n",
       "4반    243\n",
       "dtype: int64"
      ]
     },
     "execution_count": 97,
     "metadata": {},
     "output_type": "execute_result"
    }
   ],
   "source": [
    "# 여러개의 컬럼을 정렬하고 싶을 때\n",
    "score.sum().sort_values(ascending = False)\n",
    "\n",
    "# df.sort_values(by=['컬럼명', '컬럼명2'], ascending = [False, True])\n",
    "# 컬럼명 1 : 내림차순, 컬럼명 2 : 오름차순\n",
    "# by와 ascending에 입력할 원소의 개수는 같아야 함"
   ]
  },
  {
   "cell_type": "markdown",
   "id": "aecc1fbc",
   "metadata": {
    "ExecuteTime": {
     "end_time": "2023-03-22T00:37:56.769961Z",
     "start_time": "2023-03-22T00:37:56.761982Z"
    }
   },
   "source": [
    "#### 과목별 합계를 계산하여 '합계' 컬럼으로 추가하기"
   ]
  },
  {
   "cell_type": "code",
   "execution_count": 151,
   "id": "eec219c7",
   "metadata": {
    "ExecuteTime": {
     "end_time": "2023-03-22T01:06:37.368269Z",
     "start_time": "2023-03-22T01:06:37.352210Z"
    }
   },
   "outputs": [],
   "source": [
    "s_sum = score.sum(axis = 1)\n",
    "score.loc[:,'합계'] = s_sum  # score.loc['합계']"
   ]
  },
  {
   "cell_type": "code",
   "execution_count": 152,
   "id": "ec91f25c",
   "metadata": {
    "ExecuteTime": {
     "end_time": "2023-03-22T01:06:39.022166Z",
     "start_time": "2023-03-22T01:06:39.008228Z"
    }
   },
   "outputs": [
    {
     "data": {
      "text/html": [
       "<div>\n",
       "<style scoped>\n",
       "    .dataframe tbody tr th:only-of-type {\n",
       "        vertical-align: middle;\n",
       "    }\n",
       "\n",
       "    .dataframe tbody tr th {\n",
       "        vertical-align: top;\n",
       "    }\n",
       "\n",
       "    .dataframe thead th {\n",
       "        text-align: right;\n",
       "    }\n",
       "</style>\n",
       "<table border=\"1\" class=\"dataframe\">\n",
       "  <thead>\n",
       "    <tr style=\"text-align: right;\">\n",
       "      <th></th>\n",
       "      <th>1반</th>\n",
       "      <th>2반</th>\n",
       "      <th>3반</th>\n",
       "      <th>4반</th>\n",
       "      <th>합계</th>\n",
       "    </tr>\n",
       "    <tr>\n",
       "      <th>과목</th>\n",
       "      <th></th>\n",
       "      <th></th>\n",
       "      <th></th>\n",
       "      <th></th>\n",
       "      <th></th>\n",
       "    </tr>\n",
       "  </thead>\n",
       "  <tbody>\n",
       "    <tr>\n",
       "      <th>수학</th>\n",
       "      <td>45.0</td>\n",
       "      <td>44.0</td>\n",
       "      <td>73.0</td>\n",
       "      <td>39.0</td>\n",
       "      <td>201.0</td>\n",
       "    </tr>\n",
       "    <tr>\n",
       "      <th>영어</th>\n",
       "      <td>76.0</td>\n",
       "      <td>92.0</td>\n",
       "      <td>45.0</td>\n",
       "      <td>69.0</td>\n",
       "      <td>282.0</td>\n",
       "    </tr>\n",
       "    <tr>\n",
       "      <th>국어</th>\n",
       "      <td>47.0</td>\n",
       "      <td>92.0</td>\n",
       "      <td>45.0</td>\n",
       "      <td>69.0</td>\n",
       "      <td>253.0</td>\n",
       "    </tr>\n",
       "    <tr>\n",
       "      <th>사회</th>\n",
       "      <td>92.0</td>\n",
       "      <td>81.0</td>\n",
       "      <td>85.0</td>\n",
       "      <td>40.0</td>\n",
       "      <td>298.0</td>\n",
       "    </tr>\n",
       "    <tr>\n",
       "      <th>과학</th>\n",
       "      <td>11.0</td>\n",
       "      <td>79.0</td>\n",
       "      <td>47.0</td>\n",
       "      <td>26.0</td>\n",
       "      <td>163.0</td>\n",
       "    </tr>\n",
       "  </tbody>\n",
       "</table>\n",
       "</div>"
      ],
      "text/plain": [
       "      1반    2반    3반    4반     합계\n",
       "과목                               \n",
       "수학  45.0  44.0  73.0  39.0  201.0\n",
       "영어  76.0  92.0  45.0  69.0  282.0\n",
       "국어  47.0  92.0  45.0  69.0  253.0\n",
       "사회  92.0  81.0  85.0  40.0  298.0\n",
       "과학  11.0  79.0  47.0  26.0  163.0"
      ]
     },
     "execution_count": 152,
     "metadata": {},
     "output_type": "execute_result"
    }
   ],
   "source": [
    "score"
   ]
  },
  {
   "cell_type": "markdown",
   "id": "e98a369a",
   "metadata": {},
   "source": [
    "#### 과목별 평균을 계산하여 '평균' 컬럼으로 추가하기"
   ]
  },
  {
   "cell_type": "code",
   "execution_count": 153,
   "id": "8b6fe1f7",
   "metadata": {
    "ExecuteTime": {
     "end_time": "2023-03-22T01:06:42.404708Z",
     "start_time": "2023-03-22T01:06:42.392741Z"
    }
   },
   "outputs": [],
   "source": [
    "s_avg = s_sum/4\n",
    "score.loc[:,'평균']= s_avg"
   ]
  },
  {
   "cell_type": "code",
   "execution_count": 154,
   "id": "9941e83b",
   "metadata": {
    "ExecuteTime": {
     "end_time": "2023-03-22T01:06:44.075333Z",
     "start_time": "2023-03-22T01:06:44.055913Z"
    }
   },
   "outputs": [
    {
     "data": {
      "text/html": [
       "<div>\n",
       "<style scoped>\n",
       "    .dataframe tbody tr th:only-of-type {\n",
       "        vertical-align: middle;\n",
       "    }\n",
       "\n",
       "    .dataframe tbody tr th {\n",
       "        vertical-align: top;\n",
       "    }\n",
       "\n",
       "    .dataframe thead th {\n",
       "        text-align: right;\n",
       "    }\n",
       "</style>\n",
       "<table border=\"1\" class=\"dataframe\">\n",
       "  <thead>\n",
       "    <tr style=\"text-align: right;\">\n",
       "      <th></th>\n",
       "      <th>1반</th>\n",
       "      <th>2반</th>\n",
       "      <th>3반</th>\n",
       "      <th>4반</th>\n",
       "      <th>합계</th>\n",
       "      <th>평균</th>\n",
       "    </tr>\n",
       "    <tr>\n",
       "      <th>과목</th>\n",
       "      <th></th>\n",
       "      <th></th>\n",
       "      <th></th>\n",
       "      <th></th>\n",
       "      <th></th>\n",
       "      <th></th>\n",
       "    </tr>\n",
       "  </thead>\n",
       "  <tbody>\n",
       "    <tr>\n",
       "      <th>수학</th>\n",
       "      <td>45.0</td>\n",
       "      <td>44.0</td>\n",
       "      <td>73.0</td>\n",
       "      <td>39.0</td>\n",
       "      <td>201.0</td>\n",
       "      <td>50.25</td>\n",
       "    </tr>\n",
       "    <tr>\n",
       "      <th>영어</th>\n",
       "      <td>76.0</td>\n",
       "      <td>92.0</td>\n",
       "      <td>45.0</td>\n",
       "      <td>69.0</td>\n",
       "      <td>282.0</td>\n",
       "      <td>70.50</td>\n",
       "    </tr>\n",
       "    <tr>\n",
       "      <th>국어</th>\n",
       "      <td>47.0</td>\n",
       "      <td>92.0</td>\n",
       "      <td>45.0</td>\n",
       "      <td>69.0</td>\n",
       "      <td>253.0</td>\n",
       "      <td>63.25</td>\n",
       "    </tr>\n",
       "    <tr>\n",
       "      <th>사회</th>\n",
       "      <td>92.0</td>\n",
       "      <td>81.0</td>\n",
       "      <td>85.0</td>\n",
       "      <td>40.0</td>\n",
       "      <td>298.0</td>\n",
       "      <td>74.50</td>\n",
       "    </tr>\n",
       "    <tr>\n",
       "      <th>과학</th>\n",
       "      <td>11.0</td>\n",
       "      <td>79.0</td>\n",
       "      <td>47.0</td>\n",
       "      <td>26.0</td>\n",
       "      <td>163.0</td>\n",
       "      <td>40.75</td>\n",
       "    </tr>\n",
       "  </tbody>\n",
       "</table>\n",
       "</div>"
      ],
      "text/plain": [
       "      1반    2반    3반    4반     합계     평균\n",
       "과목                                      \n",
       "수학  45.0  44.0  73.0  39.0  201.0  50.25\n",
       "영어  76.0  92.0  45.0  69.0  282.0  70.50\n",
       "국어  47.0  92.0  45.0  69.0  253.0  63.25\n",
       "사회  92.0  81.0  85.0  40.0  298.0  74.50\n",
       "과학  11.0  79.0  47.0  26.0  163.0  40.75"
      ]
     },
     "execution_count": 154,
     "metadata": {},
     "output_type": "execute_result"
    }
   ],
   "source": [
    "score"
   ]
  },
  {
   "cell_type": "code",
   "execution_count": 147,
   "id": "0c41417b",
   "metadata": {
    "ExecuteTime": {
     "end_time": "2023-03-22T01:06:15.415048Z",
     "start_time": "2023-03-22T01:06:15.399948Z"
    }
   },
   "outputs": [],
   "source": [
    "# score.drop('합계', axis =1, inplace=True)\n",
    "# score.drop('평균', axis =1, inplace=True)"
   ]
  },
  {
   "cell_type": "code",
   "execution_count": 141,
   "id": "df9d1e7a",
   "metadata": {
    "ExecuteTime": {
     "end_time": "2023-03-22T01:02:08.540093Z",
     "start_time": "2023-03-22T01:02:08.520133Z"
    }
   },
   "outputs": [
    {
     "data": {
      "text/plain": [
       "과목\n",
       "수학    50.25\n",
       "영어    70.50\n",
       "국어    63.25\n",
       "사회    74.50\n",
       "과학    40.75\n",
       "Name: 합계, dtype: float64"
      ]
     },
     "execution_count": 141,
     "metadata": {},
     "output_type": "execute_result"
    }
   ],
   "source": [
    "score['합계']/4"
   ]
  },
  {
   "cell_type": "code",
   "execution_count": 142,
   "id": "006dbf9f",
   "metadata": {
    "ExecuteTime": {
     "end_time": "2023-03-22T01:02:12.373516Z",
     "start_time": "2023-03-22T01:02:12.359467Z"
    }
   },
   "outputs": [
    {
     "data": {
      "text/plain": [
       "4"
      ]
     },
     "execution_count": 142,
     "metadata": {},
     "output_type": "execute_result"
    }
   ],
   "source": [
    "score.columns[:4].size"
   ]
  },
  {
   "cell_type": "code",
   "execution_count": 144,
   "id": "c2be3dc8",
   "metadata": {
    "ExecuteTime": {
     "end_time": "2023-03-22T01:03:00.521226Z",
     "start_time": "2023-03-22T01:03:00.512217Z"
    }
   },
   "outputs": [
    {
     "data": {
      "text/plain": [
       "과목\n",
       "수학    50.25\n",
       "영어    70.50\n",
       "국어    63.25\n",
       "사회    74.50\n",
       "과학    40.75\n",
       "Name: 합계, dtype: float64"
      ]
     },
     "execution_count": 144,
     "metadata": {},
     "output_type": "execute_result"
    }
   ],
   "source": [
    "score['합계']/score.columns[:4].size \n",
    "#len(score.columns[:4]) 길이 구하기"
   ]
  },
  {
   "cell_type": "code",
   "execution_count": 156,
   "id": "a296410e",
   "metadata": {
    "ExecuteTime": {
     "end_time": "2023-03-22T01:07:41.689799Z",
     "start_time": "2023-03-22T01:07:41.672781Z"
    }
   },
   "outputs": [
    {
     "data": {
      "text/plain": [
       "과목\n",
       "수학    50.25\n",
       "영어    70.50\n",
       "국어    63.25\n",
       "사회    74.50\n",
       "과학    40.75\n",
       "dtype: float64"
      ]
     },
     "execution_count": 156,
     "metadata": {},
     "output_type": "execute_result"
    }
   ],
   "source": [
    "score.loc[:,:'4반'].mean(axis =1) # 열방향으로 평균 구하기"
   ]
  },
  {
   "cell_type": "markdown",
   "id": "8e8eaecc",
   "metadata": {},
   "source": [
    "####  반 평균을 계산하여 새로운 행 ' 반평균'으로 추가하기"
   ]
  },
  {
   "cell_type": "code",
   "execution_count": 157,
   "id": "5d0e6f16",
   "metadata": {
    "ExecuteTime": {
     "end_time": "2023-03-22T01:08:45.597796Z",
     "start_time": "2023-03-22T01:08:45.583836Z"
    }
   },
   "outputs": [
    {
     "data": {
      "text/plain": [
       "1반     54.20\n",
       "2반     77.60\n",
       "3반     59.00\n",
       "4반     48.60\n",
       "합계    239.40\n",
       "평균     59.85\n",
       "dtype: float64"
      ]
     },
     "execution_count": 157,
     "metadata": {},
     "output_type": "execute_result"
    }
   ],
   "source": [
    "score.loc[:,:].mean(axis =0)"
   ]
  },
  {
   "cell_type": "code",
   "execution_count": 158,
   "id": "91af279c",
   "metadata": {
    "ExecuteTime": {
     "end_time": "2023-03-22T01:10:48.786173Z",
     "start_time": "2023-03-22T01:10:48.768065Z"
    }
   },
   "outputs": [],
   "source": [
    "score.loc['반평균']=score.loc[:,:].mean(axis =0)"
   ]
  },
  {
   "cell_type": "code",
   "execution_count": 159,
   "id": "a301b5c6",
   "metadata": {
    "ExecuteTime": {
     "end_time": "2023-03-22T01:10:51.778559Z",
     "start_time": "2023-03-22T01:10:51.760059Z"
    }
   },
   "outputs": [
    {
     "data": {
      "text/html": [
       "<div>\n",
       "<style scoped>\n",
       "    .dataframe tbody tr th:only-of-type {\n",
       "        vertical-align: middle;\n",
       "    }\n",
       "\n",
       "    .dataframe tbody tr th {\n",
       "        vertical-align: top;\n",
       "    }\n",
       "\n",
       "    .dataframe thead th {\n",
       "        text-align: right;\n",
       "    }\n",
       "</style>\n",
       "<table border=\"1\" class=\"dataframe\">\n",
       "  <thead>\n",
       "    <tr style=\"text-align: right;\">\n",
       "      <th></th>\n",
       "      <th>1반</th>\n",
       "      <th>2반</th>\n",
       "      <th>3반</th>\n",
       "      <th>4반</th>\n",
       "      <th>합계</th>\n",
       "      <th>평균</th>\n",
       "    </tr>\n",
       "    <tr>\n",
       "      <th>과목</th>\n",
       "      <th></th>\n",
       "      <th></th>\n",
       "      <th></th>\n",
       "      <th></th>\n",
       "      <th></th>\n",
       "      <th></th>\n",
       "    </tr>\n",
       "  </thead>\n",
       "  <tbody>\n",
       "    <tr>\n",
       "      <th>수학</th>\n",
       "      <td>45.0</td>\n",
       "      <td>44.0</td>\n",
       "      <td>73.0</td>\n",
       "      <td>39.0</td>\n",
       "      <td>201.0</td>\n",
       "      <td>50.25</td>\n",
       "    </tr>\n",
       "    <tr>\n",
       "      <th>영어</th>\n",
       "      <td>76.0</td>\n",
       "      <td>92.0</td>\n",
       "      <td>45.0</td>\n",
       "      <td>69.0</td>\n",
       "      <td>282.0</td>\n",
       "      <td>70.50</td>\n",
       "    </tr>\n",
       "    <tr>\n",
       "      <th>국어</th>\n",
       "      <td>47.0</td>\n",
       "      <td>92.0</td>\n",
       "      <td>45.0</td>\n",
       "      <td>69.0</td>\n",
       "      <td>253.0</td>\n",
       "      <td>63.25</td>\n",
       "    </tr>\n",
       "    <tr>\n",
       "      <th>사회</th>\n",
       "      <td>92.0</td>\n",
       "      <td>81.0</td>\n",
       "      <td>85.0</td>\n",
       "      <td>40.0</td>\n",
       "      <td>298.0</td>\n",
       "      <td>74.50</td>\n",
       "    </tr>\n",
       "    <tr>\n",
       "      <th>과학</th>\n",
       "      <td>11.0</td>\n",
       "      <td>79.0</td>\n",
       "      <td>47.0</td>\n",
       "      <td>26.0</td>\n",
       "      <td>163.0</td>\n",
       "      <td>40.75</td>\n",
       "    </tr>\n",
       "    <tr>\n",
       "      <th>반평균</th>\n",
       "      <td>54.2</td>\n",
       "      <td>77.6</td>\n",
       "      <td>59.0</td>\n",
       "      <td>48.6</td>\n",
       "      <td>239.4</td>\n",
       "      <td>59.85</td>\n",
       "    </tr>\n",
       "  </tbody>\n",
       "</table>\n",
       "</div>"
      ],
      "text/plain": [
       "       1반    2반    3반    4반     합계     평균\n",
       "과목                                       \n",
       "수학   45.0  44.0  73.0  39.0  201.0  50.25\n",
       "영어   76.0  92.0  45.0  69.0  282.0  70.50\n",
       "국어   47.0  92.0  45.0  69.0  253.0  63.25\n",
       "사회   92.0  81.0  85.0  40.0  298.0  74.50\n",
       "과학   11.0  79.0  47.0  26.0  163.0  40.75\n",
       "반평균  54.2  77.6  59.0  48.6  239.4  59.85"
      ]
     },
     "execution_count": 159,
     "metadata": {},
     "output_type": "execute_result"
    }
   ],
   "source": [
    "score"
   ]
  },
  {
   "cell_type": "code",
   "execution_count": 160,
   "id": "82ad8416",
   "metadata": {
    "ExecuteTime": {
     "end_time": "2023-03-22T01:16:31.113643Z",
     "start_time": "2023-03-22T01:16:31.105575Z"
    }
   },
   "outputs": [
    {
     "data": {
      "text/plain": [
       "1반     54.20\n",
       "2반     77.60\n",
       "3반     59.00\n",
       "4반     48.60\n",
       "합계    239.40\n",
       "평균     59.85\n",
       "dtype: float64"
      ]
     },
     "execution_count": 160,
     "metadata": {},
     "output_type": "execute_result"
    }
   ],
   "source": [
    "# 인덱서를 이용해서 행 추가\n",
    "b_avg = score.mean() # axis = 0 : 기본값(행방향)\n",
    "# score.loc['반평균'] = b_avg"
   ]
  },
  {
   "cell_type": "markdown",
   "id": "8f4bfdb2",
   "metadata": {
    "ExecuteTime": {
     "end_time": "2023-03-22T01:18:28.244481Z",
     "start_time": "2023-03-22T01:18:28.224542Z"
    }
   },
   "source": [
    "#### 최댓값, 최소값 구하는 함수\n",
    "- max, min"
   ]
  },
  {
   "cell_type": "code",
   "execution_count": 169,
   "id": "526b010c",
   "metadata": {
    "ExecuteTime": {
     "end_time": "2023-03-22T01:22:11.406464Z",
     "start_time": "2023-03-22T01:22:11.384462Z"
    }
   },
   "outputs": [
    {
     "data": {
      "text/plain": [
       "1반     11.00\n",
       "2반     44.00\n",
       "3반     45.00\n",
       "4반     26.00\n",
       "합계    163.00\n",
       "평균     40.75\n",
       "dtype: float64"
      ]
     },
     "execution_count": 169,
     "metadata": {},
     "output_type": "execute_result"
    }
   ],
   "source": [
    "# max() : 열방향 최댓값\n",
    "score.max(axis=1)\n",
    "# min() : 행방향 최솟값\n",
    "score.min(axis=0)"
   ]
  },
  {
   "cell_type": "code",
   "execution_count": 188,
   "id": "28819903",
   "metadata": {
    "ExecuteTime": {
     "end_time": "2023-03-22T01:26:39.384408Z",
     "start_time": "2023-03-22T01:26:39.364469Z"
    }
   },
   "outputs": [
    {
     "data": {
      "text/plain": [
       "과목\n",
       "수학    34.0\n",
       "영어    47.0\n",
       "국어    47.0\n",
       "사회    52.0\n",
       "과학    68.0\n",
       "dtype: float64"
      ]
     },
     "execution_count": 188,
     "metadata": {},
     "output_type": "execute_result"
    }
   ],
   "source": [
    "# 1반부터 4반까지 점수 중 과목별 가장 큰 값과 가장 작은 값의 차이를 구하기\n",
    "score.loc[:'과학',:'4반'].max(axis=1)-score.loc[:'과학',:'4반'].min(axis=1)"
   ]
  },
  {
   "cell_type": "code",
   "execution_count": 187,
   "id": "e90c0b2e",
   "metadata": {
    "ExecuteTime": {
     "end_time": "2023-03-22T01:26:19.941087Z",
     "start_time": "2023-03-22T01:26:19.920217Z"
    }
   },
   "outputs": [
    {
     "data": {
      "text/html": [
       "<div>\n",
       "<style scoped>\n",
       "    .dataframe tbody tr th:only-of-type {\n",
       "        vertical-align: middle;\n",
       "    }\n",
       "\n",
       "    .dataframe tbody tr th {\n",
       "        vertical-align: top;\n",
       "    }\n",
       "\n",
       "    .dataframe thead th {\n",
       "        text-align: right;\n",
       "    }\n",
       "</style>\n",
       "<table border=\"1\" class=\"dataframe\">\n",
       "  <thead>\n",
       "    <tr style=\"text-align: right;\">\n",
       "      <th></th>\n",
       "      <th>1반</th>\n",
       "      <th>2반</th>\n",
       "      <th>3반</th>\n",
       "      <th>4반</th>\n",
       "    </tr>\n",
       "    <tr>\n",
       "      <th>과목</th>\n",
       "      <th></th>\n",
       "      <th></th>\n",
       "      <th></th>\n",
       "      <th></th>\n",
       "    </tr>\n",
       "  </thead>\n",
       "  <tbody>\n",
       "    <tr>\n",
       "      <th>수학</th>\n",
       "      <td>45.0</td>\n",
       "      <td>44.0</td>\n",
       "      <td>73.0</td>\n",
       "      <td>39.0</td>\n",
       "    </tr>\n",
       "    <tr>\n",
       "      <th>영어</th>\n",
       "      <td>76.0</td>\n",
       "      <td>92.0</td>\n",
       "      <td>45.0</td>\n",
       "      <td>69.0</td>\n",
       "    </tr>\n",
       "    <tr>\n",
       "      <th>국어</th>\n",
       "      <td>47.0</td>\n",
       "      <td>92.0</td>\n",
       "      <td>45.0</td>\n",
       "      <td>69.0</td>\n",
       "    </tr>\n",
       "    <tr>\n",
       "      <th>사회</th>\n",
       "      <td>92.0</td>\n",
       "      <td>81.0</td>\n",
       "      <td>85.0</td>\n",
       "      <td>40.0</td>\n",
       "    </tr>\n",
       "    <tr>\n",
       "      <th>과학</th>\n",
       "      <td>11.0</td>\n",
       "      <td>79.0</td>\n",
       "      <td>47.0</td>\n",
       "      <td>26.0</td>\n",
       "    </tr>\n",
       "    <tr>\n",
       "      <th>반평균</th>\n",
       "      <td>54.2</td>\n",
       "      <td>77.6</td>\n",
       "      <td>59.0</td>\n",
       "      <td>48.6</td>\n",
       "    </tr>\n",
       "  </tbody>\n",
       "</table>\n",
       "</div>"
      ],
      "text/plain": [
       "       1반    2반    3반    4반\n",
       "과목                         \n",
       "수학   45.0  44.0  73.0  39.0\n",
       "영어   76.0  92.0  45.0  69.0\n",
       "국어   47.0  92.0  45.0  69.0\n",
       "사회   92.0  81.0  85.0  40.0\n",
       "과학   11.0  79.0  47.0  26.0\n",
       "반평균  54.2  77.6  59.0  48.6"
      ]
     },
     "execution_count": 187,
     "metadata": {},
     "output_type": "execute_result"
    }
   ],
   "source": [
    "score.loc[:,:'4반']"
   ]
  },
  {
   "cell_type": "markdown",
   "id": "adcd9735",
   "metadata": {},
   "source": [
    "#### cut 함수 : 수치형 데이터 --> 범주형 데이터 변경"
   ]
  },
  {
   "attachments": {
    "image.png": {
     "image/png": "[encoded data removed]"
    }
   },
   "cell_type": "markdown",
   "id": "6674de8d",
   "metadata": {},
   "source": [
    "![image.png](attachment:image.png)"
   ]
  },
  {
   "cell_type": "code",
   "execution_count": 191,
   "id": "54b531e5",
   "metadata": {
    "ExecuteTime": {
     "end_time": "2023-03-22T01:46:54.632587Z",
     "start_time": "2023-03-22T01:46:54.609471Z"
    }
   },
   "outputs": [
    {
     "data": {
      "text/plain": [
       "['미성년자', '미성년자', '미성년자', '청년', '청년', ..., '노년', '청년', '중년', '장년', '노년']\n",
       "Length: 12\n",
       "Categories (5, object): ['미성년자' < '청년' < '장년' < '중년' < '노년']"
      ]
     },
     "execution_count": 191,
     "metadata": {},
     "output_type": "execute_result"
    }
   ],
   "source": [
    "ages = [0,2,10,21,23,37,31,61,20,41,32,99]\n",
    "bins = [-1,15,30,40,60,99] # 구간 설정, 시작값은 포함되지 않고 끝값은 포함됨\n",
    "labels = ['미성년자','청년','장년','중년','노년']\n",
    "cats = pd.cut(ages, bins=bins, labels=labels)\n",
    "cats"
   ]
  },
  {
   "cell_type": "code",
   "execution_count": 192,
   "id": "77ffe583",
   "metadata": {
    "ExecuteTime": {
     "end_time": "2023-03-22T01:47:31.090407Z",
     "start_time": "2023-03-22T01:47:31.073027Z"
    }
   },
   "outputs": [
    {
     "data": {
      "text/plain": [
       "0     미성년자\n",
       "1     미성년자\n",
       "2     미성년자\n",
       "3       청년\n",
       "4       청년\n",
       "5       장년\n",
       "6       장년\n",
       "7       노년\n",
       "8       청년\n",
       "9       중년\n",
       "10      장년\n",
       "11      노년\n",
       "dtype: category\n",
       "Categories (5, object): ['미성년자' < '청년' < '장년' < '중년' < '노년']"
      ]
     },
     "execution_count": 192,
     "metadata": {},
     "output_type": "execute_result"
    }
   ],
   "source": [
    "pd.Series(cats)"
   ]
  },
  {
   "cell_type": "markdown",
   "id": "809f9e65",
   "metadata": {},
   "source": [
    "#### grouppby() : 데이터를 그룹별로 묶어 집계낼 수 있게 하는 함수"
   ]
  },
  {
   "cell_type": "code",
   "execution_count": 193,
   "id": "ce570ce0",
   "metadata": {
    "ExecuteTime": {
     "end_time": "2023-03-22T02:01:31.241873Z",
     "start_time": "2023-03-22T02:01:31.226923Z"
    }
   },
   "outputs": [
    {
     "data": {
      "text/html": [
       "<div>\n",
       "<style scoped>\n",
       "    .dataframe tbody tr th:only-of-type {\n",
       "        vertical-align: middle;\n",
       "    }\n",
       "\n",
       "    .dataframe tbody tr th {\n",
       "        vertical-align: top;\n",
       "    }\n",
       "\n",
       "    .dataframe thead th {\n",
       "        text-align: right;\n",
       "    }\n",
       "</style>\n",
       "<table border=\"1\" class=\"dataframe\">\n",
       "  <thead>\n",
       "    <tr style=\"text-align: right;\">\n",
       "      <th></th>\n",
       "      <th>Servived</th>\n",
       "      <th>Sex</th>\n",
       "      <th>PassengerId</th>\n",
       "    </tr>\n",
       "  </thead>\n",
       "  <tbody>\n",
       "    <tr>\n",
       "      <th>0</th>\n",
       "      <td>1</td>\n",
       "      <td>female</td>\n",
       "      <td>1</td>\n",
       "    </tr>\n",
       "    <tr>\n",
       "      <th>1</th>\n",
       "      <td>0</td>\n",
       "      <td>female</td>\n",
       "      <td>2</td>\n",
       "    </tr>\n",
       "    <tr>\n",
       "      <th>2</th>\n",
       "      <td>1</td>\n",
       "      <td>male</td>\n",
       "      <td>3</td>\n",
       "    </tr>\n",
       "    <tr>\n",
       "      <th>3</th>\n",
       "      <td>0</td>\n",
       "      <td>male</td>\n",
       "      <td>4</td>\n",
       "    </tr>\n",
       "    <tr>\n",
       "      <th>4</th>\n",
       "      <td>1</td>\n",
       "      <td>female</td>\n",
       "      <td>5</td>\n",
       "    </tr>\n",
       "  </tbody>\n",
       "</table>\n",
       "</div>"
      ],
      "text/plain": [
       "   Servived     Sex  PassengerId\n",
       "0         1  female            1\n",
       "1         0  female            2\n",
       "2         1    male            3\n",
       "3         0    male            4\n",
       "4         1  female            5"
      ]
     },
     "execution_count": 193,
     "metadata": {},
     "output_type": "execute_result"
    }
   ],
   "source": [
    "s1 = pd.Series([1,0,1,0,1])\n",
    "s2 = pd.Series(['female','female','male','male','female'])\n",
    "s3 = pd.Series([1,2,3,4,5])\n",
    "\n",
    "ti = pd.concat([s1,s2,s3], axis =1)\n",
    "ti.columns = ['Servived', 'Sex', 'PassengerId']\n",
    "ti"
   ]
  },
  {
   "cell_type": "code",
   "execution_count": 199,
   "id": "9512bea8",
   "metadata": {
    "ExecuteTime": {
     "end_time": "2023-03-22T02:09:08.368730Z",
     "start_time": "2023-03-22T02:09:08.353107Z"
    }
   },
   "outputs": [
    {
     "data": {
      "text/html": [
       "<div>\n",
       "<style scoped>\n",
       "    .dataframe tbody tr th:only-of-type {\n",
       "        vertical-align: middle;\n",
       "    }\n",
       "\n",
       "    .dataframe tbody tr th {\n",
       "        vertical-align: top;\n",
       "    }\n",
       "\n",
       "    .dataframe thead th {\n",
       "        text-align: right;\n",
       "    }\n",
       "</style>\n",
       "<table border=\"1\" class=\"dataframe\">\n",
       "  <thead>\n",
       "    <tr style=\"text-align: right;\">\n",
       "      <th></th>\n",
       "      <th>Servived</th>\n",
       "    </tr>\n",
       "    <tr>\n",
       "      <th>Sex</th>\n",
       "      <th></th>\n",
       "    </tr>\n",
       "  </thead>\n",
       "  <tbody>\n",
       "    <tr>\n",
       "      <th>female</th>\n",
       "      <td>2</td>\n",
       "    </tr>\n",
       "    <tr>\n",
       "      <th>male</th>\n",
       "      <td>1</td>\n",
       "    </tr>\n",
       "  </tbody>\n",
       "</table>\n",
       "</div>"
      ],
      "text/plain": [
       "        Servived\n",
       "Sex             \n",
       "female         2\n",
       "male           1"
      ]
     },
     "execution_count": 199,
     "metadata": {},
     "output_type": "execute_result"
    }
   ],
   "source": [
    "# 성별에 따른 생존자 수 확인하기\n",
    "ti[['Servived','Sex']].groupby('Sex').sum()"
   ]
  },
  {
   "cell_type": "code",
   "execution_count": 211,
   "id": "83784707",
   "metadata": {
    "ExecuteTime": {
     "end_time": "2023-03-22T02:15:03.349478Z",
     "start_time": "2023-03-22T02:15:03.338503Z"
    }
   },
   "outputs": [
    {
     "data": {
      "text/html": [
       "<div>\n",
       "<style scoped>\n",
       "    .dataframe tbody tr th:only-of-type {\n",
       "        vertical-align: middle;\n",
       "    }\n",
       "\n",
       "    .dataframe tbody tr th {\n",
       "        vertical-align: top;\n",
       "    }\n",
       "\n",
       "    .dataframe thead th {\n",
       "        text-align: right;\n",
       "    }\n",
       "</style>\n",
       "<table border=\"1\" class=\"dataframe\">\n",
       "  <thead>\n",
       "    <tr style=\"text-align: right;\">\n",
       "      <th></th>\n",
       "      <th></th>\n",
       "      <th>PassengerId</th>\n",
       "    </tr>\n",
       "    <tr>\n",
       "      <th>Sex</th>\n",
       "      <th>Servived</th>\n",
       "      <th></th>\n",
       "    </tr>\n",
       "  </thead>\n",
       "  <tbody>\n",
       "    <tr>\n",
       "      <th rowspan=\"2\" valign=\"top\">female</th>\n",
       "      <th>0</th>\n",
       "      <td>1</td>\n",
       "    </tr>\n",
       "    <tr>\n",
       "      <th>1</th>\n",
       "      <td>2</td>\n",
       "    </tr>\n",
       "    <tr>\n",
       "      <th rowspan=\"2\" valign=\"top\">male</th>\n",
       "      <th>0</th>\n",
       "      <td>1</td>\n",
       "    </tr>\n",
       "    <tr>\n",
       "      <th>1</th>\n",
       "      <td>1</td>\n",
       "    </tr>\n",
       "  </tbody>\n",
       "</table>\n",
       "</div>"
      ],
      "text/plain": [
       "                 PassengerId\n",
       "Sex    Servived             \n",
       "female 0                   1\n",
       "       1                   2\n",
       "male   0                   1\n",
       "       1                   1"
      ]
     },
     "execution_count": 211,
     "metadata": {},
     "output_type": "execute_result"
    }
   ],
   "source": [
    "# 성별에 따른 생존자 수 / 사망자 수 확인하기\n",
    "ti.groupby(by=['Sex','Servived']).count()"
   ]
  },
  {
   "cell_type": "code",
   "execution_count": null,
   "id": "76c5a200",
   "metadata": {},
   "outputs": [],
   "source": [
    "# 판다스 공식 사이트 (http://pandas.pydata.org)"
   ]
  }
 ],
 "metadata": {
  "kernelspec": {
   "display_name": "Python 3 (ipykernel)",
   "language": "python",
   "name": "python3"
  },
  "language_info": {
   "codemirror_mode": {
    "name": "ipython",
    "version": 3
   },
   "file_extension": ".py",
   "mimetype": "text/x-python",
   "name": "python",
   "nbconvert_exporter": "python",
   "pygments_lexer": "ipython3",
   "version": "3.9.13"
  },
  "toc": {
   "base_numbering": 1,
   "nav_menu": {},
   "number_sections": true,
   "sideBar": true,
   "skip_h1_title": false,
   "title_cell": "Table of Contents",
   "title_sidebar": "Contents",
   "toc_cell": false,
   "toc_position": {},
   "toc_section_display": true,
   "toc_window_display": false
  },
  "varInspector": {
   "cols": {
    "lenName": 16,
    "lenType": 16,
    "lenVar": 40
   },
   "kernels_config": {
    "python": {
     "delete_cmd_postfix": "",
     "delete_cmd_prefix": "del ",
     "library": "var_list.py",
     "varRefreshCmd": "print(var_dic_list())"
    },
    "r": {
     "delete_cmd_postfix": ") ",
     "delete_cmd_prefix": "rm(",
     "library": "var_list.r",
     "varRefreshCmd": "cat(var_dic_list()) "
    }
   },
   "types_to_exclude": [
    "module",
    "function",
    "builtin_function_or_method",
    "instance",
    "_Feature"
   ],
   "window_display": false
  }
 },
 "nbformat": 4,
 "nbformat_minor": 5
}
